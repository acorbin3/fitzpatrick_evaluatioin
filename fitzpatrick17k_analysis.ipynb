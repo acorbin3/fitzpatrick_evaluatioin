{
 "cells": [
  {
   "cell_type": "markdown",
   "metadata": {
    "collapsed": true,
    "pycharm": {
     "name": "#%% md\n"
    }
   },
   "source": [
    "# Constants"
   ]
  },
  {
   "cell_type": "code",
   "execution_count": 2,
   "outputs": [],
   "source": [
    "BORDER_REMOVAL_SIZE = .08  # Going to trim %4 of the sides\n",
    "PATCH_WIDTH = 8  # Its recommended to pick patch size that can be a multiple of 8 because of the images usually a multiple of 8\n",
    "PATCH_HEIGHT = PATCH_WIDTH\n",
    "PERCENTAGE_OF_RANDOM_PATCHES = .20\n",
    "PERCENTAGE_OF_RANDOM_PATCHES_NAME = int(PERCENTAGE_OF_RANDOM_PATCHES*100)\n",
    "TEST_RANDOM_PATCH_PERCENTAGE = False\n",
    "\n"
   ],
   "metadata": {
    "collapsed": false,
    "pycharm": {
     "name": "#%%\n"
    }
   }
  },
  {
   "cell_type": "markdown",
   "source": [
    "# Installs"
   ],
   "metadata": {
    "collapsed": false
   }
  },
  {
   "cell_type": "code",
   "execution_count": 3,
   "outputs": [
    {
     "name": "stdout",
     "output_type": "stream",
     "text": [
      "Wall time: 0 ns\n",
      "Requirement already satisfied: patchify in c:\\users\\c0rbin\\lib\\site-packages (0.2.3)\n",
      "Requirement already satisfied: numpy<2,>=1 in c:\\users\\c0rbin\\lib\\site-packages (from patchify) (1.21.4)\n"
     ]
    },
    {
     "name": "stderr",
     "output_type": "stream",
     "text": [
      "WARNING: You are using pip version 21.1.2; however, version 21.3.1 is available.\n",
      "You should consider upgrading via the 'C:\\Users\\C0rbin\\Scripts\\python.exe -m pip install --upgrade pip' command.\n"
     ]
    },
    {
     "name": "stdout",
     "output_type": "stream",
     "text": [
      "Requirement already satisfied: scikit-learn in c:\\users\\c0rbin\\lib\\site-packages (1.0.1)\n",
      "Requirement already satisfied: numpy>=1.14.6 in c:\\users\\c0rbin\\lib\\site-packages (from scikit-learn) (1.21.4)\n",
      "Requirement already satisfied: scipy>=1.1.0 in c:\\users\\c0rbin\\lib\\site-packages (from scikit-learn) (1.7.3)\n",
      "Requirement already satisfied: threadpoolctl>=2.0.0 in c:\\users\\c0rbin\\lib\\site-packages (from scikit-learn) (3.0.0)\n",
      "Requirement already satisfied: joblib>=0.11 in c:\\users\\c0rbin\\lib\\site-packages (from scikit-learn) (1.1.0)\n"
     ]
    },
    {
     "name": "stderr",
     "output_type": "stream",
     "text": [
      "WARNING: You are using pip version 21.1.2; however, version 21.3.1 is available.\n",
      "You should consider upgrading via the 'C:\\Users\\C0rbin\\Scripts\\python.exe -m pip install --upgrade pip' command.\n"
     ]
    },
    {
     "name": "stdout",
     "output_type": "stream",
     "text": [
      "Requirement already satisfied: swifter in c:\\users\\c0rbin\\lib\\site-packages (1.0.9)\n",
      "Requirement already satisfied: bleach>=3.1.1 in c:\\users\\c0rbin\\lib\\site-packages (from swifter) (4.1.0)\n",
      "Requirement already satisfied: tqdm>=4.33.0 in c:\\users\\c0rbin\\lib\\site-packages (from swifter) (4.62.3)\n",
      "Requirement already satisfied: cloudpickle>=0.2.2 in c:\\users\\c0rbin\\lib\\site-packages (from swifter) (2.0.0)\n",
      "Requirement already satisfied: psutil>=5.6.6 in c:\\users\\c0rbin\\lib\\site-packages (from swifter) (5.8.0)\n",
      "Requirement already satisfied: dask[dataframe]>=2.10.0 in c:\\users\\c0rbin\\lib\\site-packages (from swifter) (2021.11.2)\n",
      "Requirement already satisfied: pandas>=1.0.0 in c:\\users\\c0rbin\\lib\\site-packages (from swifter) (1.3.4)\n",
      "Requirement already satisfied: parso>0.4.0 in c:\\users\\c0rbin\\lib\\site-packages (from swifter) (0.8.3)\n",
      "Requirement already satisfied: ipywidgets>=7.0.0 in c:\\users\\c0rbin\\lib\\site-packages (from swifter) (7.6.5)\n",
      "Requirement already satisfied: webencodings in c:\\users\\c0rbin\\lib\\site-packages (from bleach>=3.1.1->swifter) (0.5.1)\n",
      "Requirement already satisfied: six>=1.9.0 in c:\\users\\c0rbin\\lib\\site-packages (from bleach>=3.1.1->swifter) (1.16.0)\n",
      "Requirement already satisfied: packaging in c:\\users\\c0rbin\\lib\\site-packages (from bleach>=3.1.1->swifter) (21.3)\n",
      "Requirement already satisfied: fsspec>=0.6.0 in c:\\users\\c0rbin\\lib\\site-packages (from dask[dataframe]>=2.10.0->swifter) (2021.11.1)\n",
      "Requirement already satisfied: partd>=0.3.10 in c:\\users\\c0rbin\\lib\\site-packages (from dask[dataframe]>=2.10.0->swifter) (1.2.0)\n",
      "Requirement already satisfied: toolz>=0.8.2 in c:\\users\\c0rbin\\lib\\site-packages (from dask[dataframe]>=2.10.0->swifter) (0.11.2)\n",
      "Requirement already satisfied: pyyaml in c:\\users\\c0rbin\\lib\\site-packages (from dask[dataframe]>=2.10.0->swifter) (6.0)\n",
      "Requirement already satisfied: numpy>=1.18 in c:\\users\\c0rbin\\lib\\site-packages (from dask[dataframe]>=2.10.0->swifter) (1.21.4)\n",
      "Requirement already satisfied: widgetsnbextension~=3.5.0 in c:\\users\\c0rbin\\lib\\site-packages (from ipywidgets>=7.0.0->swifter) (3.5.2)\n",
      "Requirement already satisfied: ipython>=4.0.0 in c:\\users\\c0rbin\\lib\\site-packages (from ipywidgets>=7.0.0->swifter) (7.30.1)\n",
      "Requirement already satisfied: nbformat>=4.2.0 in c:\\users\\c0rbin\\lib\\site-packages (from ipywidgets>=7.0.0->swifter) (5.1.3)\n",
      "Requirement already satisfied: ipykernel>=4.5.1 in c:\\users\\c0rbin\\lib\\site-packages (from ipywidgets>=7.0.0->swifter) (6.6.0)\n",
      "Requirement already satisfied: jupyterlab-widgets>=1.0.0 in c:\\users\\c0rbin\\lib\\site-packages (from ipywidgets>=7.0.0->swifter) (1.0.2)\n",
      "Requirement already satisfied: ipython-genutils~=0.2.0 in c:\\users\\c0rbin\\lib\\site-packages (from ipywidgets>=7.0.0->swifter) (0.2.0)\n",
      "Requirement already satisfied: traitlets>=4.3.1 in c:\\users\\c0rbin\\lib\\site-packages (from ipywidgets>=7.0.0->swifter) (5.1.1)\n",
      "Requirement already satisfied: matplotlib-inline<0.2.0,>=0.1.0 in c:\\users\\c0rbin\\lib\\site-packages (from ipykernel>=4.5.1->ipywidgets>=7.0.0->swifter) (0.1.3)\n",
      "Requirement already satisfied: jupyter-client<8.0 in c:\\users\\c0rbin\\lib\\site-packages (from ipykernel>=4.5.1->ipywidgets>=7.0.0->swifter) (7.1.0)\n",
      "Requirement already satisfied: debugpy<2.0,>=1.0.0 in c:\\users\\c0rbin\\lib\\site-packages (from ipykernel>=4.5.1->ipywidgets>=7.0.0->swifter) (1.5.1)\n",
      "Requirement already satisfied: tornado<7.0,>=4.2 in c:\\users\\c0rbin\\lib\\site-packages (from ipykernel>=4.5.1->ipywidgets>=7.0.0->swifter) (6.1)\n",
      "Requirement already satisfied: colorama in c:\\users\\c0rbin\\lib\\site-packages (from ipython>=4.0.0->ipywidgets>=7.0.0->swifter) (0.4.4)\n",
      "Requirement already satisfied: decorator in c:\\users\\c0rbin\\lib\\site-packages (from ipython>=4.0.0->ipywidgets>=7.0.0->swifter) (5.1.0)\n",
      "Requirement already satisfied: jedi>=0.16 in c:\\users\\c0rbin\\lib\\site-packages (from ipython>=4.0.0->ipywidgets>=7.0.0->swifter) (0.18.1)\n",
      "Requirement already satisfied: pygments in c:\\users\\c0rbin\\lib\\site-packages (from ipython>=4.0.0->ipywidgets>=7.0.0->swifter) (2.10.0)\n",
      "Requirement already satisfied: backcall in c:\\users\\c0rbin\\lib\\site-packages (from ipython>=4.0.0->ipywidgets>=7.0.0->swifter) (0.2.0)\n",
      "Requirement already satisfied: setuptools>=18.5 in c:\\users\\c0rbin\\lib\\site-packages (from ipython>=4.0.0->ipywidgets>=7.0.0->swifter) (57.0.0)\n",
      "Requirement already satisfied: pickleshare in c:\\users\\c0rbin\\lib\\site-packages (from ipython>=4.0.0->ipywidgets>=7.0.0->swifter) (0.7.5)\n",
      "Requirement already satisfied: prompt-toolkit!=3.0.0,!=3.0.1,<3.1.0,>=2.0.0 in c:\\users\\c0rbin\\lib\\site-packages (from ipython>=4.0.0->ipywidgets>=7.0.0->swifter) (3.0.23)\n",
      "Requirement already satisfied: nest-asyncio>=1.5 in c:\\users\\c0rbin\\lib\\site-packages (from jupyter-client<8.0->ipykernel>=4.5.1->ipywidgets>=7.0.0->swifter) (1.5.4)\n",
      "Requirement already satisfied: python-dateutil>=2.1 in c:\\users\\c0rbin\\lib\\site-packages (from jupyter-client<8.0->ipykernel>=4.5.1->ipywidgets>=7.0.0->swifter) (2.8.2)\n",
      "Requirement already satisfied: pyzmq>=13 in c:\\users\\c0rbin\\lib\\site-packages (from jupyter-client<8.0->ipykernel>=4.5.1->ipywidgets>=7.0.0->swifter) (22.3.0)\n",
      "Requirement already satisfied: entrypoints in c:\\users\\c0rbin\\lib\\site-packages (from jupyter-client<8.0->ipykernel>=4.5.1->ipywidgets>=7.0.0->swifter) (0.3)\n",
      "Requirement already satisfied: jupyter-core>=4.6.0 in c:\\users\\c0rbin\\lib\\site-packages (from jupyter-client<8.0->ipykernel>=4.5.1->ipywidgets>=7.0.0->swifter) (4.9.1)\n",
      "Requirement already satisfied: pywin32>=1.0 in c:\\users\\c0rbin\\lib\\site-packages (from jupyter-core>=4.6.0->jupyter-client<8.0->ipykernel>=4.5.1->ipywidgets>=7.0.0->swifter) (302)\n",
      "Requirement already satisfied: jsonschema!=2.5.0,>=2.4 in c:\\users\\c0rbin\\lib\\site-packages (from nbformat>=4.2.0->ipywidgets>=7.0.0->swifter) (4.2.1)\n",
      "Requirement already satisfied: attrs>=17.4.0 in c:\\users\\c0rbin\\lib\\site-packages (from jsonschema!=2.5.0,>=2.4->nbformat>=4.2.0->ipywidgets>=7.0.0->swifter) (21.2.0)\n",
      "Requirement already satisfied: pyrsistent!=0.17.0,!=0.17.1,!=0.17.2,>=0.14.0 in c:\\users\\c0rbin\\lib\\site-packages (from jsonschema!=2.5.0,>=2.4->nbformat>=4.2.0->ipywidgets>=7.0.0->swifter) (0.18.0)\n",
      "Requirement already satisfied: pyparsing!=3.0.5,>=2.0.2 in c:\\users\\c0rbin\\lib\\site-packages (from packaging->bleach>=3.1.1->swifter) (3.0.6)\n",
      "Requirement already satisfied: pytz>=2017.3 in c:\\users\\c0rbin\\lib\\site-packages (from pandas>=1.0.0->swifter) (2021.3)\n",
      "Requirement already satisfied: locket in c:\\users\\c0rbin\\lib\\site-packages (from partd>=0.3.10->dask[dataframe]>=2.10.0->swifter) (0.2.1)\n",
      "Requirement already satisfied: wcwidth in c:\\users\\c0rbin\\lib\\site-packages (from prompt-toolkit!=3.0.0,!=3.0.1,<3.1.0,>=2.0.0->ipython>=4.0.0->ipywidgets>=7.0.0->swifter) (0.2.5)\n",
      "Requirement already satisfied: notebook>=4.4.1 in c:\\users\\c0rbin\\lib\\site-packages (from widgetsnbextension~=3.5.0->ipywidgets>=7.0.0->swifter) (6.4.6)\n",
      "Requirement already satisfied: terminado>=0.8.3 in c:\\users\\c0rbin\\lib\\site-packages (from notebook>=4.4.1->widgetsnbextension~=3.5.0->ipywidgets>=7.0.0->swifter) (0.12.1)\n",
      "Requirement already satisfied: Send2Trash>=1.8.0 in c:\\users\\c0rbin\\lib\\site-packages (from notebook>=4.4.1->widgetsnbextension~=3.5.0->ipywidgets>=7.0.0->swifter) (1.8.0)\n",
      "Requirement already satisfied: jinja2 in c:\\users\\c0rbin\\lib\\site-packages (from notebook>=4.4.1->widgetsnbextension~=3.5.0->ipywidgets>=7.0.0->swifter) (3.0.3)\n",
      "Requirement already satisfied: prometheus-client in c:\\users\\c0rbin\\lib\\site-packages (from notebook>=4.4.1->widgetsnbextension~=3.5.0->ipywidgets>=7.0.0->swifter) (0.12.0)\n",
      "Requirement already satisfied: argon2-cffi in c:\\users\\c0rbin\\lib\\site-packages (from notebook>=4.4.1->widgetsnbextension~=3.5.0->ipywidgets>=7.0.0->swifter) (21.1.0)\n",
      "Requirement already satisfied: nbconvert in c:\\users\\c0rbin\\lib\\site-packages (from notebook>=4.4.1->widgetsnbextension~=3.5.0->ipywidgets>=7.0.0->swifter) (6.3.0)\n",
      "Requirement already satisfied: pywinpty>=1.1.0 in c:\\users\\c0rbin\\lib\\site-packages (from terminado>=0.8.3->notebook>=4.4.1->widgetsnbextension~=3.5.0->ipywidgets>=7.0.0->swifter) (1.1.6)\n",
      "Requirement already satisfied: cffi>=1.0.0 in c:\\users\\c0rbin\\lib\\site-packages (from argon2-cffi->notebook>=4.4.1->widgetsnbextension~=3.5.0->ipywidgets>=7.0.0->swifter) (1.15.0)\n",
      "Requirement already satisfied: pycparser in c:\\users\\c0rbin\\lib\\site-packages (from cffi>=1.0.0->argon2-cffi->notebook>=4.4.1->widgetsnbextension~=3.5.0->ipywidgets>=7.0.0->swifter) (2.21)\n",
      "Requirement already satisfied: MarkupSafe>=2.0 in c:\\users\\c0rbin\\lib\\site-packages (from jinja2->notebook>=4.4.1->widgetsnbextension~=3.5.0->ipywidgets>=7.0.0->swifter) (2.0.1)\n",
      "Requirement already satisfied: pandocfilters>=1.4.1 in c:\\users\\c0rbin\\lib\\site-packages (from nbconvert->notebook>=4.4.1->widgetsnbextension~=3.5.0->ipywidgets>=7.0.0->swifter) (1.5.0)\n",
      "Requirement already satisfied: jupyterlab-pygments in c:\\users\\c0rbin\\lib\\site-packages (from nbconvert->notebook>=4.4.1->widgetsnbextension~=3.5.0->ipywidgets>=7.0.0->swifter) (0.1.2)\n",
      "Requirement already satisfied: nbclient<0.6.0,>=0.5.0 in c:\\users\\c0rbin\\lib\\site-packages (from nbconvert->notebook>=4.4.1->widgetsnbextension~=3.5.0->ipywidgets>=7.0.0->swifter) (0.5.9)\n",
      "Requirement already satisfied: mistune<2,>=0.8.1 in c:\\users\\c0rbin\\lib\\site-packages (from nbconvert->notebook>=4.4.1->widgetsnbextension~=3.5.0->ipywidgets>=7.0.0->swifter) (0.8.4)\n",
      "Requirement already satisfied: testpath in c:\\users\\c0rbin\\lib\\site-packages (from nbconvert->notebook>=4.4.1->widgetsnbextension~=3.5.0->ipywidgets>=7.0.0->swifter) (0.5.0)"
     ]
    },
    {
     "name": "stderr",
     "output_type": "stream",
     "text": [
      "WARNING: You are using pip version 21.1.2; however, version 21.3.1 is available.\n",
      "You should consider upgrading via the 'C:\\Users\\C0rbin\\Scripts\\python.exe -m pip install --upgrade pip' command.\n"
     ]
    },
    {
     "name": "stdout",
     "output_type": "stream",
     "text": [
      "\n",
      "Requirement already satisfied: defusedxml in c:\\users\\c0rbin\\lib\\site-packages (from nbconvert->notebook>=4.4.1->widgetsnbextension~=3.5.0->ipywidgets>=7.0.0->swifter) (0.7.1)\n",
      "Requirement already satisfied: seaborn in c:\\users\\c0rbin\\lib\\site-packages (0.11.2)\n",
      "Requirement already satisfied: pandas>=0.23 in c:\\users\\c0rbin\\lib\\site-packages (from seaborn) (1.3.4)\n",
      "Requirement already satisfied: numpy>=1.15 in c:\\users\\c0rbin\\lib\\site-packages (from seaborn) (1.21.4)\n",
      "Requirement already satisfied: matplotlib>=2.2 in c:\\users\\c0rbin\\lib\\site-packages (from seaborn) (3.5.0)\n",
      "Requirement already satisfied: scipy>=1.0 in c:\\users\\c0rbin\\lib\\site-packages (from seaborn) (1.7.3)\n",
      "Requirement already satisfied: fonttools>=4.22.0 in c:\\users\\c0rbin\\lib\\site-packages (from matplotlib>=2.2->seaborn) (4.28.3)\n",
      "Requirement already satisfied: packaging>=20.0 in c:\\users\\c0rbin\\lib\\site-packages (from matplotlib>=2.2->seaborn) (21.3)\n",
      "Requirement already satisfied: cycler>=0.10 in c:\\users\\c0rbin\\lib\\site-packages (from matplotlib>=2.2->seaborn) (0.11.0)\n",
      "Requirement already satisfied: pillow>=6.2.0 in c:\\users\\c0rbin\\lib\\site-packages (from matplotlib>=2.2->seaborn) (8.4.0)\n",
      "Requirement already satisfied: kiwisolver>=1.0.1 in c:\\users\\c0rbin\\lib\\site-packages (from matplotlib>=2.2->seaborn) (1.3.2)\n",
      "Requirement already satisfied: setuptools-scm>=4 in c:\\users\\c0rbin\\lib\\site-packages (from matplotlib>=2.2->seaborn) (6.3.2)\n",
      "Requirement already satisfied: pyparsing>=2.2.1 in c:\\users\\c0rbin\\lib\\site-packages (from matplotlib>=2.2->seaborn) (3.0.6)\n",
      "Requirement already satisfied: python-dateutil>=2.7 in c:\\users\\c0rbin\\lib\\site-packages (from matplotlib>=2.2->seaborn) (2.8.2)\n",
      "Requirement already satisfied: pytz>=2017.3 in c:\\users\\c0rbin\\lib\\site-packages (from pandas>=0.23->seaborn) (2021.3)\n",
      "Requirement already satisfied: six>=1.5 in c:\\users\\c0rbin\\lib\\site-packages (from python-dateutil>=2.7->matplotlib>=2.2->seaborn) (1.16.0)\n",
      "Requirement already satisfied: tomli>=1.0.0 in c:\\users\\c0rbin\\lib\\site-packages (from setuptools-scm>=4->matplotlib>=2.2->seaborn) (1.2.2)\n",
      "Requirement already satisfied: setuptools in c:\\users\\c0rbin\\lib\\site-packages (from setuptools-scm>=4->matplotlib>=2.2->seaborn) (57.0.0)\n"
     ]
    },
    {
     "name": "stderr",
     "output_type": "stream",
     "text": [
      "WARNING: You are using pip version 21.1.2; however, version 21.3.1 is available.\n",
      "You should consider upgrading via the 'C:\\Users\\C0rbin\\Scripts\\python.exe -m pip install --upgrade pip' command.\n"
     ]
    },
    {
     "name": "stdout",
     "output_type": "stream",
     "text": [
      "Requirement already satisfied: scikit-image in c:\\users\\c0rbin\\lib\\site-packages (0.19.0)\n",
      "Requirement already satisfied: networkx>=2.2 in c:\\users\\c0rbin\\lib\\site-packages (from scikit-image) (2.6.3)\n",
      "Requirement already satisfied: packaging>=20.0 in c:\\users\\c0rbin\\lib\\site-packages (from scikit-image) (21.3)\n",
      "Requirement already satisfied: pillow!=7.1.0,!=7.1.1,!=8.3.0,>=6.1.0 in c:\\users\\c0rbin\\lib\\site-packages (from scikit-image) (8.4.0)\n",
      "Requirement already satisfied: tifffile>=2019.7.26 in c:\\users\\c0rbin\\lib\\site-packages (from scikit-image) (2021.11.2)\n",
      "Requirement already satisfied: numpy>=1.17.0 in c:\\users\\c0rbin\\lib\\site-packages (from scikit-image) (1.21.4)\n",
      "Requirement already satisfied: imageio>=2.4.1 in c:\\users\\c0rbin\\lib\\site-packages (from scikit-image) (2.13.1)\n",
      "Requirement already satisfied: PyWavelets>=1.1.1 in c:\\users\\c0rbin\\lib\\site-packages (from scikit-image) (1.2.0)\n",
      "Requirement already satisfied: scipy>=1.4.1 in c:\\users\\c0rbin\\lib\\site-packages (from scikit-image) (1.7.3)\n",
      "Requirement already satisfied: pyparsing!=3.0.5,>=2.0.2 in c:\\users\\c0rbin\\lib\\site-packages (from packaging>=20.0->scikit-image) (3.0.6)\n"
     ]
    },
    {
     "name": "stderr",
     "output_type": "stream",
     "text": [
      "WARNING: You are using pip version 21.1.2; however, version 21.3.1 is available.\n",
      "You should consider upgrading via the 'C:\\Users\\C0rbin\\Scripts\\python.exe -m pip install --upgrade pip' command.\n"
     ]
    },
    {
     "name": "stdout",
     "output_type": "stream",
     "text": [
      "Requirement already satisfied: opencv-python in c:\\users\\c0rbin\\lib\\site-packages (4.5.4.60)\n",
      "Requirement already satisfied: numpy>=1.19.3 in c:\\users\\c0rbin\\lib\\site-packages (from opencv-python) (1.21.4)\n"
     ]
    },
    {
     "name": "stderr",
     "output_type": "stream",
     "text": [
      "WARNING: You are using pip version 21.1.2; however, version 21.3.1 is available.\n",
      "You should consider upgrading via the 'C:\\Users\\C0rbin\\Scripts\\python.exe -m pip install --upgrade pip' command.\n"
     ]
    }
   ],
   "source": [
    "%time\n",
    "!pip install patchify\n",
    "!pip install -U scikit-learn\n",
    "!pip install swifter\n",
    "!pip install seaborn\n",
    "!pip install -U scikit-image\n",
    "!pip install opencv-python"
   ],
   "metadata": {
    "collapsed": false,
    "pycharm": {
     "name": "#%%\n"
    }
   }
  },
  {
   "cell_type": "markdown",
   "source": [
    "# Imports"
   ],
   "metadata": {
    "collapsed": false,
    "pycharm": {
     "name": "#%% md\n"
    }
   }
  },
  {
   "cell_type": "code",
   "execution_count": 4,
   "outputs": [
    {
     "name": "stdout",
     "output_type": "stream",
     "text": [
      "Wall time: 10.9 s\n"
     ]
    }
   ],
   "source": [
    "%%time\n",
    "import random\n",
    "import os\n",
    "import io\n",
    "import json\n",
    "import math\n",
    "import numpy as np\n",
    "import pandas as pd\n",
    "import seaborn as sns, matplotlib.pyplot as plt\n",
    "from matplotlib.ticker import AutoMinorLocator\n",
    "from matplotlib import gridspec\n",
    "import matplotlib.patches as mplpatches\n",
    "from sklearn.metrics import mean_squared_error, mean_absolute_error, max_error, explained_variance_score, mean_squared_log_error\n",
    "from sklearn.metrics import r2_score, mean_poisson_deviance, mean_gamma_deviance, mean_tweedie_deviance\n",
    "from sklearn.metrics import confusion_matrix, classification_report, hamming_loss\n",
    "from skimage.filters.rank import entropy\n",
    "from skimage.morphology import disk\n",
    "from skimage.color import rgb2hsv, rgb2gray, rgb2yuv\n",
    "from skimage.io import imread\n",
    "from scipy.interpolate import BSpline, make_interp_spline\n",
    "from scipy.ndimage.filters import gaussian_filter1d\n",
    "from scipy.interpolate import interp1d\n",
    "import hashlib\n",
    "\n",
    "import swifter\n",
    "\n",
    "from patchify import patchify\n",
    "from pathlib import Path\n",
    "\n",
    "\n",
    "from sklearn.model_selection import KFold\n",
    "from sklearn.metrics import roc_auc_score\n",
    "from skimage.util.shape import view_as_windows\n",
    "import matplotlib.pyplot as plt\n",
    "from PIL import Image, ImageOps\n",
    "import skimage\n",
    "import cv2\n",
    "from skimage import color\n",
    "\n",
    "\n",
    "random.seed(42)\n",
    "rng = np.random.default_rng(seed=42)"
   ],
   "metadata": {
    "collapsed": false,
    "pycharm": {
     "name": "#%%\n"
    }
   }
  },
  {
   "cell_type": "markdown",
   "source": [
    "# Story Arch\n",
    "\n",
    "1. Read in the csv\n",
    "2. Look at canidates\n",
    "3. Compute the ITA values\n",
    "4. Compute the catagory\n",
    "5. Compute the metrics"
   ],
   "metadata": {
    "collapsed": false,
    "pycharm": {
     "name": "#%% md\n"
    }
   }
  },
  {
   "cell_type": "markdown",
   "source": [
    "# Read the CSV"
   ],
   "metadata": {
    "collapsed": false,
    "pycharm": {
     "name": "#%% md\n"
    }
   }
  },
  {
   "cell_type": "code",
   "execution_count": 5,
   "outputs": [],
   "source": [
    "df_csv_info = pd.read_csv(\"fitzpatrick17k.csv\")"
   ],
   "metadata": {
    "collapsed": false,
    "pycharm": {
     "name": "#%%\n"
    }
   }
  },
  {
   "cell_type": "code",
   "execution_count": 6,
   "outputs": [
    {
     "data": {
      "text/plain": "   Unnamed: 0                           md5hash  fitzpatrick  \\\n0           0  5e82a45bc5d78bd24ae9202d194423f8            3   \n1           1  fa2911a9b13b6f8af79cb700937cc14f            1   \n2           2  d2bac3c9e4499032ca8e9b07c7d3bc40            2   \n3           3  0a94359e7eaacd7178e06b2823777789            1   \n4           4  a39ec3b1f22c08a421fa20535e037bba            1   \n\n                             label nine_partition_label three_partition_label  \\\n0  drug induced pigmentary changes         inflammatory        non-neoplastic   \n1                  photodermatoses         inflammatory        non-neoplastic   \n2                   dermatofibroma        benign dermal                benign   \n3                        psoriasis         inflammatory        non-neoplastic   \n4                        psoriasis         inflammatory        non-neoplastic   \n\n    qc                                                url  \\\n0  NaN  https://www.dermaamin.com/site/images/clinical...   \n1  NaN  https://www.dermaamin.com/site/images/clinical...   \n2  NaN  https://www.dermaamin.com/site/images/clinical...   \n3  NaN  https://www.dermaamin.com/site/images/clinical...   \n4  NaN  https://www.dermaamin.com/site/images/clinical...   \n\n                                        url_alphanum  \n0  httpwwwdermaamincomsiteimagesclinicalpicmminoc...  \n1  httpwwwdermaamincomsiteimagesclinicalpicpphoto...  \n2  httpwwwdermaamincomsiteimagesclinicalpicdderma...  \n3  httpwwwdermaamincomsiteimagesclinicalpicppsori...  \n4  httpwwwdermaamincomsiteimagesclinicalpicppsori...  ",
      "text/html": "<div>\n<style scoped>\n    .dataframe tbody tr th:only-of-type {\n        vertical-align: middle;\n    }\n\n    .dataframe tbody tr th {\n        vertical-align: top;\n    }\n\n    .dataframe thead th {\n        text-align: right;\n    }\n</style>\n<table border=\"1\" class=\"dataframe\">\n  <thead>\n    <tr style=\"text-align: right;\">\n      <th></th>\n      <th>Unnamed: 0</th>\n      <th>md5hash</th>\n      <th>fitzpatrick</th>\n      <th>label</th>\n      <th>nine_partition_label</th>\n      <th>three_partition_label</th>\n      <th>qc</th>\n      <th>url</th>\n      <th>url_alphanum</th>\n    </tr>\n  </thead>\n  <tbody>\n    <tr>\n      <th>0</th>\n      <td>0</td>\n      <td>5e82a45bc5d78bd24ae9202d194423f8</td>\n      <td>3</td>\n      <td>drug induced pigmentary changes</td>\n      <td>inflammatory</td>\n      <td>non-neoplastic</td>\n      <td>NaN</td>\n      <td>https://www.dermaamin.com/site/images/clinical...</td>\n      <td>httpwwwdermaamincomsiteimagesclinicalpicmminoc...</td>\n    </tr>\n    <tr>\n      <th>1</th>\n      <td>1</td>\n      <td>fa2911a9b13b6f8af79cb700937cc14f</td>\n      <td>1</td>\n      <td>photodermatoses</td>\n      <td>inflammatory</td>\n      <td>non-neoplastic</td>\n      <td>NaN</td>\n      <td>https://www.dermaamin.com/site/images/clinical...</td>\n      <td>httpwwwdermaamincomsiteimagesclinicalpicpphoto...</td>\n    </tr>\n    <tr>\n      <th>2</th>\n      <td>2</td>\n      <td>d2bac3c9e4499032ca8e9b07c7d3bc40</td>\n      <td>2</td>\n      <td>dermatofibroma</td>\n      <td>benign dermal</td>\n      <td>benign</td>\n      <td>NaN</td>\n      <td>https://www.dermaamin.com/site/images/clinical...</td>\n      <td>httpwwwdermaamincomsiteimagesclinicalpicdderma...</td>\n    </tr>\n    <tr>\n      <th>3</th>\n      <td>3</td>\n      <td>0a94359e7eaacd7178e06b2823777789</td>\n      <td>1</td>\n      <td>psoriasis</td>\n      <td>inflammatory</td>\n      <td>non-neoplastic</td>\n      <td>NaN</td>\n      <td>https://www.dermaamin.com/site/images/clinical...</td>\n      <td>httpwwwdermaamincomsiteimagesclinicalpicppsori...</td>\n    </tr>\n    <tr>\n      <th>4</th>\n      <td>4</td>\n      <td>a39ec3b1f22c08a421fa20535e037bba</td>\n      <td>1</td>\n      <td>psoriasis</td>\n      <td>inflammatory</td>\n      <td>non-neoplastic</td>\n      <td>NaN</td>\n      <td>https://www.dermaamin.com/site/images/clinical...</td>\n      <td>httpwwwdermaamincomsiteimagesclinicalpicppsori...</td>\n    </tr>\n  </tbody>\n</table>\n</div>"
     },
     "execution_count": 6,
     "metadata": {},
     "output_type": "execute_result"
    }
   ],
   "source": [
    "df_csv_info.head()"
   ],
   "metadata": {
    "collapsed": false,
    "pycharm": {
     "name": "#%%\n"
    }
   }
  },
  {
   "cell_type": "markdown",
   "source": [
    "# Read the canidate images"
   ],
   "metadata": {
    "collapsed": false,
    "pycharm": {
     "name": "#%% md\n"
    }
   }
  },
  {
   "cell_type": "code",
   "execution_count": 7,
   "outputs": [],
   "source": [
    "data_list = [] # col 1 = file hash, col 2 filename, col 3, image\n",
    "for file in Path(\".\").glob(\"data/finalfitz17k/*.jpg\"):\n",
    "    hash = hashlib.md5(open(file,'rb').read()).hexdigest()\n",
    "    orig_image = open(file,\"rb\").read()\n",
    "    data_list.append([hash, str(file), orig_image])"
   ],
   "metadata": {
    "collapsed": false,
    "pycharm": {
     "name": "#%%\n"
    }
   }
  },
  {
   "cell_type": "code",
   "execution_count": 8,
   "outputs": [],
   "source": [
    "# now to create the dataframe\n",
    "df = pd.DataFrame(data=data_list, columns=[\"hash\",\"file_path\", \"image\"])"
   ],
   "metadata": {
    "collapsed": false,
    "pycharm": {
     "name": "#%%\n"
    }
   }
  },
  {
   "cell_type": "code",
   "execution_count": 9,
   "outputs": [
    {
     "data": {
      "text/plain": "                               hash  \\\n0  000491af8dd4d739de520e8a68be7134   \n1  0009d89a58dac26bb3c113744b7b4196   \n2  000b6317b3be6d504e212a50e4d5667f   \n3  000e8dd5ee75dd6668e978e7a4e6fe54   \n4  0012821d6f11b96cf33f2c2ee5c68d1f   \n\n                                           file_path  \\\n0  data\\finalfitz17k\\000491af8dd4d739de520e8a68be...   \n1  data\\finalfitz17k\\0009d89a58dac26bb3c113744b7b...   \n2  data\\finalfitz17k\\000b6317b3be6d504e212a50e4d5...   \n3  data\\finalfitz17k\\000e8dd5ee75dd6668e978e7a4e6...   \n4  data\\finalfitz17k\\0012821d6f11b96cf33f2c2ee5c6...   \n\n                                               image  \n0  b'\\xff\\xd8\\xff\\xe0\\x00\\x10JFIF\\x00\\x01\\x01\\x01...  \n1  b'\\xff\\xd8\\xff\\xe0\\x00\\x10JFIF\\x00\\x01\\x02\\x00...  \n2  b'\\xff\\xd8\\xff\\xe0\\x00\\x10JFIF\\x00\\x01\\x01\\x01...  \n3  b'\\xff\\xd8\\xff\\xe0\\x00\\x10JFIF\\x00\\x01\\x02\\x01...  \n4  b'\\xff\\xd8\\xff\\xe0\\x00\\x10JFIF\\x00\\x01\\x02\\x00...  ",
      "text/html": "<div>\n<style scoped>\n    .dataframe tbody tr th:only-of-type {\n        vertical-align: middle;\n    }\n\n    .dataframe tbody tr th {\n        vertical-align: top;\n    }\n\n    .dataframe thead th {\n        text-align: right;\n    }\n</style>\n<table border=\"1\" class=\"dataframe\">\n  <thead>\n    <tr style=\"text-align: right;\">\n      <th></th>\n      <th>hash</th>\n      <th>file_path</th>\n      <th>image</th>\n    </tr>\n  </thead>\n  <tbody>\n    <tr>\n      <th>0</th>\n      <td>000491af8dd4d739de520e8a68be7134</td>\n      <td>data\\finalfitz17k\\000491af8dd4d739de520e8a68be...</td>\n      <td>b'\\xff\\xd8\\xff\\xe0\\x00\\x10JFIF\\x00\\x01\\x01\\x01...</td>\n    </tr>\n    <tr>\n      <th>1</th>\n      <td>0009d89a58dac26bb3c113744b7b4196</td>\n      <td>data\\finalfitz17k\\0009d89a58dac26bb3c113744b7b...</td>\n      <td>b'\\xff\\xd8\\xff\\xe0\\x00\\x10JFIF\\x00\\x01\\x02\\x00...</td>\n    </tr>\n    <tr>\n      <th>2</th>\n      <td>000b6317b3be6d504e212a50e4d5667f</td>\n      <td>data\\finalfitz17k\\000b6317b3be6d504e212a50e4d5...</td>\n      <td>b'\\xff\\xd8\\xff\\xe0\\x00\\x10JFIF\\x00\\x01\\x01\\x01...</td>\n    </tr>\n    <tr>\n      <th>3</th>\n      <td>000e8dd5ee75dd6668e978e7a4e6fe54</td>\n      <td>data\\finalfitz17k\\000e8dd5ee75dd6668e978e7a4e6...</td>\n      <td>b'\\xff\\xd8\\xff\\xe0\\x00\\x10JFIF\\x00\\x01\\x02\\x01...</td>\n    </tr>\n    <tr>\n      <th>4</th>\n      <td>0012821d6f11b96cf33f2c2ee5c68d1f</td>\n      <td>data\\finalfitz17k\\0012821d6f11b96cf33f2c2ee5c6...</td>\n      <td>b'\\xff\\xd8\\xff\\xe0\\x00\\x10JFIF\\x00\\x01\\x02\\x00...</td>\n    </tr>\n  </tbody>\n</table>\n</div>"
     },
     "execution_count": 9,
     "metadata": {},
     "output_type": "execute_result"
    }
   ],
   "source": [
    "df.head()"
   ],
   "metadata": {
    "collapsed": false,
    "pycharm": {
     "name": "#%%\n"
    }
   }
  },
  {
   "cell_type": "markdown",
   "source": [
    "## Look at the shapes of the images."
   ],
   "metadata": {
    "collapsed": false
   }
  },
  {
   "cell_type": "code",
   "execution_count": 40,
   "outputs": [],
   "source": [
    "shapes = {}\n",
    "for item in df.iterrows():\n",
    "    # print(item)\n",
    "    orig_image = Image.open(io.BytesIO(item[1][\"image\"]))\n",
    "    imgpx = np.array(orig_image)\n",
    "    if str(imgpx.shape) in shapes:\n",
    "        shapes[str(imgpx.shape)] += 1\n",
    "    else:\n",
    "        shapes[str(imgpx.shape)] = 1"
   ],
   "metadata": {
    "collapsed": false,
    "pycharm": {
     "name": "#%%\n"
    }
   }
  },
  {
   "cell_type": "code",
   "execution_count": null,
   "outputs": [],
   "source": [
    "print(json.dumps(shapes, indent=4))"
   ],
   "metadata": {
    "collapsed": false,
    "pycharm": {
     "name": "#%%\n",
     "is_executing": true
    }
   }
  },
  {
   "cell_type": "markdown",
   "source": [
    "# Compute the ITA values"
   ],
   "metadata": {
    "collapsed": false,
    "pycharm": {
     "name": "#%% md\n"
    }
   }
  },
  {
   "cell_type": "markdown",
   "source": [
    "## Set up functions"
   ],
   "metadata": {
    "collapsed": false
   }
  },
  {
   "cell_type": "code",
   "execution_count": 10,
   "outputs": [],
   "source": [
    "def get_border_removal_size(image):\n",
    "    \"\"\"\n",
    "    This function will compute the border removal size based on the width of the image as well as depending on the patch\n",
    "    size to insure that the patches will covert the full image\n",
    "    \"\"\"\n",
    "    w, h = image.size\n",
    "    return int(math.ceil(w * BORDER_REMOVAL_SIZE / PATCH_WIDTH)) * PATCH_WIDTH"
   ],
   "metadata": {
    "collapsed": false,
    "pycharm": {
     "name": "#%%\n"
    }
   }
  },
  {
   "cell_type": "code",
   "execution_count": 11,
   "outputs": [],
   "source": [
    "def trim_boarder_from_image(pil_image):\n",
    "    \"\"\"\n",
    "    This function will take an image, remove the boarder and return the cropped image.\n",
    "    \"\"\"\n",
    "    w, h = pil_image.size\n",
    "    removal_size = get_border_removal_size(pil_image)\n",
    "    cropped_area = (removal_size,removal_size,w - removal_size, h - removal_size)\n",
    "    cropped_image = pil_image.crop(cropped_area)\n",
    "    return cropped_image"
   ],
   "metadata": {
    "collapsed": false,
    "pycharm": {
     "name": "#%%\n"
    }
   }
  },
  {
   "cell_type": "code",
   "execution_count": 46,
   "outputs": [],
   "source": [
    "def format_image_and_get_patches(image):\n",
    "    \"\"\"\n",
    "    This function will remove the 4% boarder, convert the whole image from RGB to LAB and then using Patchify\n",
    "    tool it will create patches. These patches are non-overlapping that create a grid over the whole image.\n",
    "    The image sizes are defined from the Constants section.\n",
    "    \"\"\"\n",
    "    img = io.BytesIO(image)\n",
    "    pil_image = Image.open(img)\n",
    "\n",
    "    # Crop image to remove the pixels from the boarder\n",
    "    w, h = pil_image.size\n",
    "    removal_size = get_border_removal_size(pil_image)\n",
    "    cropped_area = (removal_size,removal_size,w - removal_size, h - removal_size)\n",
    "    cropped_image = pil_image.crop(cropped_area)\n",
    "\n",
    "\n",
    "    #print(\"pil_image\", np.array(pil_image).shape)\n",
    "    #print(\"cropped_image\", np.array(cropped_image).shape)\n",
    "    # Convert image to lab values\n",
    "\n",
    "    lab = np.array(skimage.color.rgb2lab(cropped_image))\n",
    "\n",
    "    # Get the patches\n",
    "    return patchify(lab, (PATCH_WIDTH,PATCH_HEIGHT,3), step=PATCH_WIDTH)"
   ],
   "metadata": {
    "collapsed": false,
    "pycharm": {
     "name": "#%%\n"
    }
   }
  },
  {
   "cell_type": "code",
   "execution_count": 13,
   "outputs": [],
   "source": [
    "def compute_ita_from_lab(lab):\n",
    "    \"\"\"\n",
    "    This function computes the ITA value of the image along with ignore any pixels that are completly black\n",
    "    \"\"\"\n",
    "    # get the luminance and b values wihtin +- 1 std from mean\n",
    "    l = lab[:,:,0]\n",
    "    l = np.where(l != 0, l, np.nan)\n",
    "    std = np.nanstd(l)\n",
    "    mean = np.nanmean(l)\n",
    "\n",
    "    l = np.where(l >= mean - std, l, np.nan)\n",
    "    l = np.where(l <= mean + std, l, np.nan)\n",
    "\n",
    "    b = lab[:,:,2]\n",
    "    std = np.nanstd(b)\n",
    "    mean = np.nanmean(b)\n",
    "    b = np.where(b >= mean - std, b, np.nan)\n",
    "    b = np.where(b <= mean + std, b, np.nan)\n",
    "\n",
    "\n",
    "    ita = math.atan2(np.nanmean(l) - 50, np.nanmean(b)) * (180 / np.pi)\n",
    "    return ita"
   ],
   "metadata": {
    "collapsed": false,
    "pycharm": {
     "name": "#%%\n"
    }
   }
  },
  {
   "cell_type": "code",
   "execution_count": 47,
   "outputs": [],
   "source": [
    "def compute_ita(image, crop_border=False):\n",
    "    \"\"\"\n",
    "    This function takes in an image and outputs the ITA value of image. To compute the ITA value the image needs\n",
    "    to be converted from an RGB format to a LAB format type.\n",
    "\n",
    "    There is an option to remove the boarder that is used to remove the back corners.\n",
    "    \"\"\"\n",
    "    img = io.BytesIO(image)\n",
    "    pilimae = Image.open(img)\n",
    "\n",
    "    if crop_border:\n",
    "        w, h = pilimae.size\n",
    "        removal_size = get_border_removal_size(pilimae)\n",
    "        cropped_area = (removal_size,removal_size,w - removal_size, h - removal_size)\n",
    "        pilimae = pilimae.crop(cropped_area)\n",
    "\n",
    "\n",
    "    try:\n",
    "        lab = np.array(skimage.color.rgb2lab(pilimae))\n",
    "    except:\n",
    "        return -1000\n",
    "\n",
    "    return compute_ita_from_lab(lab)"
   ],
   "metadata": {
    "collapsed": false,
    "pycharm": {
     "name": "#%%\n"
    }
   }
  },
  {
   "cell_type": "markdown",
   "source": [
    "## Center Cropped"
   ],
   "metadata": {
    "collapsed": false
   }
  },
  {
   "cell_type": "code",
   "execution_count": 15,
   "outputs": [],
   "source": [
    "def get_cropped_center_patches_ita_list(image, verbose=False):\n",
    "    \"\"\"\n",
    "    For the structure patches approach the first row, the last row, first column and last column will be\n",
    "    sampled for the ITA values.\n",
    "    \"\"\"\n",
    "    \"\"\"\n",
    "    Note we want to ignore the center part of the images. We will take 15% around the center of the image and ignore getting the ITA\n",
    "    values for those images. Taking 15% of the width and height will get offset value. Then dividing the width and height by 2\n",
    "    will be the mid-point which we can take the offset and do a +- to get a range where we dont want to capture the ITA values\n",
    "    as long as the x and y indexes dont fall between both ranges then we will capture the ITA values of the image.\n",
    "\n",
    "    \"\"\"\n",
    "    patches = format_image_and_get_patches(image)\n",
    "\n",
    "    center_removal_percentage = .70/2\n",
    "    h = len(patches)\n",
    "    w = len(patches[0])\n",
    "\n",
    "    w_offset = math.floor(w * center_removal_percentage)\n",
    "    h_offset = math.floor(h * center_removal_percentage)\n",
    "\n",
    "    w_mid = int(w/2)\n",
    "    h_mid = int(h/2)\n",
    "\n",
    "    indices = []\n",
    "\n",
    "    if verbose:\n",
    "        print(\"Will ignore values in these ranges\")\n",
    "        print(\"center_removal_percentage\",center_removal_percentage)\n",
    "        print(\"w\",w)\n",
    "        print(\"h\",h)\n",
    "        print(\"w_offset\",w_offset)\n",
    "        print(\"h_offset\",h_offset)\n",
    "        print(\"w_mid\",w_mid)\n",
    "        print(\"h_mid\",h_mid)\n",
    "        w_range = (w_mid + w_offset) - (w_mid - w_offset)\n",
    "        print(f\"w range diff {w_range} : % {w_range/w}\")\n",
    "        h_range = (h_mid + h_offset) - (h_mid - h_offset)\n",
    "        print(f\"h range diff {h_range} : %{h_range/h}\")\n",
    "        print(f\"{w_mid - w_offset} <= x < {w_mid + w_offset} and {h_mid - h_offset} <= y < {h_mid + h_offset}\")\n",
    "    selected_ita_values = []\n",
    "    for y, y_item in enumerate(patches):\n",
    "        for x, x_item in enumerate(patches[y]):\n",
    "            if w_mid - w_offset <= x < w_mid + w_offset and h_mid - h_offset <= y < h_mid + h_offset:\n",
    "                continue\n",
    "            patch = patches[y][x][0]\n",
    "            selected_ita_values.append(compute_ita_from_lab(patch))\n",
    "            indices.append([y,x])\n",
    "\n",
    "    return selected_ita_values, indices"
   ],
   "metadata": {
    "collapsed": false,
    "pycharm": {
     "name": "#%%\n"
    }
   }
  },
  {
   "cell_type": "code",
   "execution_count": 48,
   "outputs": [],
   "source": [
    "def get_cropped_center_ita(row):\n",
    "    \"\"\"\n",
    "    This is the wrapper function to calculate the ITA values for all the patches, the median ITA value and\n",
    "    stores all the patch indices for each Image of the dataset.\n",
    "    \"\"\"\n",
    "    image = row[\"image\"]\n",
    "    try:\n",
    "        ita_values, indices = get_cropped_center_patches_ita_list(image)\n",
    "        # dropping any nan computed values\n",
    "        ita_values = [x for x in ita_values if math.isnan(x) == False]\n",
    "        row[\"ITA_center_cropped_all\"] = ita_values\n",
    "        row[\"ITA_center_cropped\"] = np.median(ita_values)\n",
    "        row[\"ITA_center_cropped_indices\"] = indices\n",
    "    except:\n",
    "        row[\"ITA_center_cropped\"] = -1000\n",
    "\n",
    "    return row"
   ],
   "metadata": {
    "collapsed": false,
    "pycharm": {
     "name": "#%%\n"
    }
   }
  },
  {
   "cell_type": "markdown",
   "source": [
    "## Structured Patches"
   ],
   "metadata": {
    "collapsed": false
   }
  },
  {
   "cell_type": "code",
   "source": [
    "def get_structured_patches_ita_list(image):\n",
    "    \"\"\"\n",
    "    For the structure patches approach the first row, the last row, first column and last column will be\n",
    "    sampled for the ITA values. When taking the boarder we need ot make sure the corners are not double counted\n",
    "    \"\"\"\n",
    "    patches = format_image_and_get_patches(image)\n",
    "\n",
    "    selected_ita_values = []\n",
    "\n",
    "    row_count = len(patches)\n",
    "    col_count = len(patches[0])\n",
    "\n",
    "\n",
    "    indices = []\n",
    "    # First row\n",
    "    for i, patch in enumerate(patches[0]):\n",
    "        selected_ita_values.append(compute_ita_from_lab(patch[0]))\n",
    "        indices.append([0,i])\n",
    "    # last row\n",
    "    for i, patch in enumerate(patches[-1]):\n",
    "        selected_ita_values.append(compute_ita_from_lab(patch[0]))\n",
    "        indices.append([row_count - 1,i])\n",
    "    # First column\n",
    "    # Not index zero and last index is a corner and already accounted for on the rows\n",
    "    for i in range(1,row_count - 1):\n",
    "        patch = patches[i][0]\n",
    "        selected_ita_values.append(compute_ita_from_lab(patch[0]))\n",
    "        indices.append([i,0])\n",
    "\n",
    "    # Last column\n",
    "    # Not index zero and last index is a corner and already accounted for on the rows\n",
    "    for i in range(1,row_count - 1):\n",
    "        patch = patches[i][-1]\n",
    "        selected_ita_values.append(compute_ita_from_lab(patch[0]))\n",
    "        indices.append([i,col_count-1])\n",
    "\n",
    "\n",
    "    return selected_ita_values, indices"
   ],
   "metadata": {
    "collapsed": false,
    "pycharm": {
     "name": "#%%\n"
    }
   },
   "execution_count": 17,
   "outputs": []
  },
  {
   "cell_type": "code",
   "execution_count": 49,
   "outputs": [],
   "source": [
    "def get_structured_patches_ita(row):\n",
    "    \"\"\"\n",
    "    This function is intended to add the ITA represented value dataframe for an instance.\n",
    "    Its intended to be used with the df.swifter.apply() method\n",
    "    \"\"\"\n",
    "    image = row[\"image\"]\n",
    "    try:\n",
    "        ita_values, indices = get_structured_patches_ita_list(image)\n",
    "        # dropping any nan computed values\n",
    "        ita_values = [x for x in ita_values if math.isnan(x) == False]\n",
    "        row[\"ITA_structured_patches_all\"] = ita_values\n",
    "        row[\"ITA_structured_patches\"] = np.median(ita_values)\n",
    "        row[\"ITA_structured_patches_indices\"] = indices\n",
    "    except:\n",
    "        row[\"ITA_structured_patches\"] = -1000\n",
    "\n",
    "    return row"
   ],
   "metadata": {
    "collapsed": false,
    "pycharm": {
     "name": "#%%\n"
    }
   }
  },
  {
   "cell_type": "markdown",
   "source": [
    "## Random Patches"
   ],
   "metadata": {
    "collapsed": false
   }
  },
  {
   "cell_type": "code",
   "execution_count": 19,
   "outputs": [],
   "source": [
    "# randomly pick numbers between 0 and max patches\n",
    "def get_random_patches_ita_list(image,percentage=PERCENTAGE_OF_RANDOM_PATCHES, verbose=False):\n",
    "    \"\"\"\n",
    "    The premise behind random patches is that a set of patches that do not overlap a generated and at random patches\n",
    "    be sampled to take the ITA value from. The thought would be that because its a random sample that the majority should\n",
    "    cover or represent the skin tone. It is possible that some of the patches could cover a skin lesion which will be address in\n",
    "    a future approach.\n",
    "    \"\"\"\n",
    "    patches = format_image_and_get_patches(image)\n",
    "    row_count = len(patches)\n",
    "    column_count = len(patches[0])\n",
    "\n",
    "    patch_count = row_count * column_count\n",
    "\n",
    "    random_to_select = int(patch_count * percentage)\n",
    "\n",
    "    # Generate a random list of numbers with no duplicates\n",
    "    random_patch_indexes = rng.choice(patch_count, size=random_to_select, replace=False)\n",
    "    random_patch_indexes.sort()\n",
    "\n",
    "    # get reverse indexes. The index number comes from nRow * col_count + nCol.\n",
    "    # so for example if you have 10x10 image. image index 23 is row 2 col 4. The formula would be 2*10 + 4 = 24\n",
    "    # x = number % column_count\n",
    "    # y = int(number / column_count)\n",
    "\n",
    "    coordinate_indices = []\n",
    "    for index in random_patch_indexes:\n",
    "        y = index % column_count\n",
    "        x = int(index /column_count)\n",
    "        coordinate_indices.append([x,y])\n",
    "    if verbose:\n",
    "        print(f\"row_count {row_count} column_count {column_count} \")\n",
    "        print(f\"patch_count {patch_count}, random_to_select {random_to_select}\")\n",
    "        #print(f\"random_patch_indexes\\n{random_patch_indexes}\")\n",
    "        #print(f\"coordinate_indices\\n{coordinate_indices}\")\n",
    "\n",
    "    ita_values = []\n",
    "    for index in coordinate_indices:\n",
    "        x = index[1]\n",
    "        y = index[0]\n",
    "        patch = patches[y][x]\n",
    "        ita_values.append(compute_ita_from_lab(patch[0]))\n",
    "    # dropping any nan computed values\n",
    "    ita_values = [x for x in ita_values if math.isnan(x) == False]\n",
    "    return ita_values, coordinate_indices"
   ],
   "metadata": {
    "collapsed": false,
    "pycharm": {
     "name": "#%%\n"
    }
   }
  },
  {
   "cell_type": "code",
   "execution_count": 50,
   "outputs": [],
   "source": [
    "def get_random_patches_ita(row,percentage=PERCENTAGE_OF_RANDOM_PATCHES):\n",
    "    \"\"\"\n",
    "    This function is intended to add the ITA represented value dataframe for an instance.\n",
    "    Its intended to be used with the df.swifter.apply() method\n",
    "    \"\"\"\n",
    "\n",
    "    image = row[\"image\"]\n",
    "    try:\n",
    "        ita_values, indices = get_random_patches_ita_list(image, percentage)\n",
    "        row[f\"ITA_random_patches_{int(percentage*100)}_all\"] = ita_values\n",
    "        row[f\"ITA_random_patches_{int(percentage*100)}\"] = np.median(ita_values)\n",
    "        row[f\"ITA_random_patches_{int(percentage*100)}_indices\"] = indices\n",
    "    except:\n",
    "        row[f\"ITA_random_patches_{int(percentage*100)}\"] = -1000\n",
    "    return row"
   ],
   "metadata": {
    "collapsed": false,
    "pycharm": {
     "name": "#%%\n"
    }
   }
  },
  {
   "cell_type": "markdown",
   "source": [
    "## Compute ITA values on whole image"
   ],
   "metadata": {
    "collapsed": false
   }
  },
  {
   "cell_type": "code",
   "execution_count": 31,
   "outputs": [
    {
     "name": "stdout",
     "output_type": "stream",
     "text": [
      "Wall time: 53min 49s\n"
     ]
    }
   ],
   "source": [
    "%%time\n",
    "df[\"ITA_orig\"] = df[\"image\"].apply(compute_ita,crop_border=True)"
   ],
   "metadata": {
    "collapsed": false,
    "pycharm": {
     "name": "#%%\n"
    }
   }
  },
  {
   "cell_type": "code",
   "execution_count": 51,
   "outputs": [
    {
     "name": "stderr",
     "output_type": "stream",
     "text": [
      "C:\\Users\\C0rbin\\AppData\\Local\\Temp/ipykernel_19704/3321755401.py:9: RuntimeWarning: Mean of empty slice\n",
      "  mean = np.nanmean(l)\n",
      "C:\\Users\\C0rbin\\AppData\\Local\\Temp/ipykernel_19704/3321755401.py:21: RuntimeWarning: Mean of empty slice\n",
      "  ita = math.atan2(np.nanmean(l) - 50, np.nanmean(b)) * (180 / np.pi)\n"
     ]
    },
    {
     "name": "stdout",
     "output_type": "stream",
     "text": [
      "Wall time: 7h 12min 31s\n"
     ]
    }
   ],
   "source": [
    "%%time\n",
    "df = df.apply(get_cropped_center_ita, axis=1)"
   ],
   "metadata": {
    "collapsed": false,
    "pycharm": {
     "name": "#%%\n"
    }
   }
  },
  {
   "cell_type": "code",
   "execution_count": 53,
   "outputs": [
    {
     "name": "stderr",
     "output_type": "stream",
     "text": [
      "C:\\Users\\C0rbin\\AppData\\Local\\Temp/ipykernel_19704/3321755401.py:9: RuntimeWarning: Mean of empty slice\n",
      "  mean = np.nanmean(l)\n",
      "C:\\Users\\C0rbin\\AppData\\Local\\Temp/ipykernel_19704/3321755401.py:21: RuntimeWarning: Mean of empty slice\n",
      "  ita = math.atan2(np.nanmean(l) - 50, np.nanmean(b)) * (180 / np.pi)\n"
     ]
    },
    {
     "name": "stdout",
     "output_type": "stream",
     "text": [
      "Wall time: 1h 29min 59s\n"
     ]
    },
    {
     "name": "stderr",
     "output_type": "stream",
     "text": [
      "C:\\Users\\C0rbin\\AppData\\Local\\Temp/ipykernel_19704/3321755401.py:9: RuntimeWarning: Mean of empty slice\n",
      "  mean = np.nanmean(l)\n",
      "C:\\Users\\C0rbin\\AppData\\Local\\Temp/ipykernel_19704/3321755401.py:21: RuntimeWarning: Mean of empty slice\n",
      "  ita = math.atan2(np.nanmean(l) - 50, np.nanmean(b)) * (180 / np.pi)\n"
     ]
    },
    {
     "name": "stdout",
     "output_type": "stream",
     "text": [
      "Wall time: 1h 28min 8s\n"
     ]
    }
   ],
   "source": [
    "%%time\n",
    "df = df.apply(get_structured_patches_ita, axis=1)"
   ],
   "metadata": {
    "collapsed": false,
    "pycharm": {
     "name": "#%%\n"
    }
   }
  },
  {
   "cell_type": "code",
   "execution_count": 54,
   "outputs": [
    {
     "name": "stderr",
     "output_type": "stream",
     "text": [
      "C:\\Users\\C0rbin\\AppData\\Local\\Temp/ipykernel_19704/3321755401.py:9: RuntimeWarning: Mean of empty slice\n",
      "  mean = np.nanmean(l)\n",
      "C:\\Users\\C0rbin\\AppData\\Local\\Temp/ipykernel_19704/3321755401.py:21: RuntimeWarning: Mean of empty slice\n",
      "  ita = math.atan2(np.nanmean(l) - 50, np.nanmean(b)) * (180 / np.pi)\n"
     ]
    },
    {
     "name": "stdout",
     "output_type": "stream",
     "text": [
      "Wall time: 3h 10min 3s\n"
     ]
    }
   ],
   "source": [
    "%%time\n",
    "df = df.apply(get_random_patches_ita, axis=1)"
   ],
   "metadata": {
    "collapsed": false,
    "pycharm": {
     "name": "#%%\n"
    }
   }
  },
  {
   "cell_type": "code",
   "execution_count": 55,
   "outputs": [
    {
     "data": {
      "text/plain": "   ITA_center_cropped                             ITA_center_cropped_all  \\\n0          -86.319973  [-95.49740514995437, -93.89204433188165, -88.1...   \n1           -4.368209  [69.14342626615937, 58.92391493893117, 54.9217...   \n2           63.902881  [71.3777488793279, 78.36055446746393, 72.34238...   \n3           -2.419620  [-71.81196041228813, -74.074964659075, -43.006...   \n4          -17.580304  [-82.36110662214149, -78.5225894924362, -69.97...   \n\n                          ITA_center_cropped_indices   ITA_orig  \\\n0  [[0, 0], [0, 1], [0, 2], [0, 3], [0, 4], [0, 5... -89.912399   \n1  [[0, 0], [0, 1], [0, 2], [0, 3], [0, 4], [0, 5...  31.707877   \n2  [[0, 0], [0, 1], [0, 2], [0, 3], [0, 4], [0, 5...  63.160622   \n3  [[0, 0], [0, 1], [0, 2], [0, 3], [0, 4], [0, 5... -17.835040   \n4  [[0, 0], [0, 1], [0, 2], [0, 3], [0, 4], [0, 5... -21.982334   \n\n  ITA_orig_category  ITA_random_patches_20  \\\n0                 6             -91.105563   \n1                 3              22.730282   \n2                 1              63.106361   \n3                 6             -19.772320   \n4                 6              -6.519836   \n\n                           ITA_random_patches_20_all  \\\n0  [19.079669270628532, -91.07185302683192, -91.1...   \n1  [51.09764944131233, 48.00058569586861, 52.2334...   \n2  [77.42464881639646, 70.74856447644632, 70.0776...   \n3  [-33.166476726493194, -23.164401316590613, -2....   \n4  [-14.653045358595628, -32.068731448543055, -35...   \n\n                       ITA_random_patches_20_indices  ITA_structured_patches  \\\n0  [[0, 5], [0, 13], [0, 15], [0, 17], [0, 21], [...              -81.299635   \n1  [[0, 3], [0, 5], [0, 7], [0, 16], [0, 17], [0,...              -27.032318   \n2  [[0, 3], [0, 10], [0, 18], [0, 23], [0, 24], [...               64.165841   \n3  [[0, 3], [0, 4], [0, 8], [0, 12], [0, 22], [0,...               -3.292246   \n4  [[0, 6], [0, 13], [0, 15], [0, 18], [0, 20], [...               -5.237348   \n\n                          ITA_structured_patches_all  \\\n0  [-95.49740514995437, -93.89204433188165, -88.1...   \n1  [69.14342626615937, 58.92391493893117, 54.9217...   \n2  [71.3777488793279, 78.36055446746393, 72.34238...   \n3  [-71.81196041228813, -74.074964659075, -43.006...   \n4  [-82.36110662214149, -78.5225894924362, -69.97...   \n\n                      ITA_structured_patches_indices  \\\n0  [[0, 0], [0, 1], [0, 2], [0, 3], [0, 4], [0, 5...   \n1  [[0, 0], [0, 1], [0, 2], [0, 3], [0, 4], [0, 5...   \n2  [[0, 0], [0, 1], [0, 2], [0, 3], [0, 4], [0, 5...   \n3  [[0, 0], [0, 1], [0, 2], [0, 3], [0, 4], [0, 5...   \n4  [[0, 0], [0, 1], [0, 2], [0, 3], [0, 4], [0, 5...   \n\n                                           file_path  \\\n0  data\\finalfitz17k\\000491af8dd4d739de520e8a68be...   \n1  data\\finalfitz17k\\0009d89a58dac26bb3c113744b7b...   \n2  data\\finalfitz17k\\000b6317b3be6d504e212a50e4d5...   \n3  data\\finalfitz17k\\000e8dd5ee75dd6668e978e7a4e6...   \n4  data\\finalfitz17k\\0012821d6f11b96cf33f2c2ee5c6...   \n\n                               hash  \\\n0  000491af8dd4d739de520e8a68be7134   \n1  0009d89a58dac26bb3c113744b7b4196   \n2  000b6317b3be6d504e212a50e4d5667f   \n3  000e8dd5ee75dd6668e978e7a4e6fe54   \n4  0012821d6f11b96cf33f2c2ee5c68d1f   \n\n                                               image  \n0  b'\\xff\\xd8\\xff\\xe0\\x00\\x10JFIF\\x00\\x01\\x01\\x01...  \n1  b'\\xff\\xd8\\xff\\xe0\\x00\\x10JFIF\\x00\\x01\\x02\\x00...  \n2  b'\\xff\\xd8\\xff\\xe0\\x00\\x10JFIF\\x00\\x01\\x01\\x01...  \n3  b'\\xff\\xd8\\xff\\xe0\\x00\\x10JFIF\\x00\\x01\\x02\\x01...  \n4  b'\\xff\\xd8\\xff\\xe0\\x00\\x10JFIF\\x00\\x01\\x02\\x00...  ",
      "text/html": "<div>\n<style scoped>\n    .dataframe tbody tr th:only-of-type {\n        vertical-align: middle;\n    }\n\n    .dataframe tbody tr th {\n        vertical-align: top;\n    }\n\n    .dataframe thead th {\n        text-align: right;\n    }\n</style>\n<table border=\"1\" class=\"dataframe\">\n  <thead>\n    <tr style=\"text-align: right;\">\n      <th></th>\n      <th>ITA_center_cropped</th>\n      <th>ITA_center_cropped_all</th>\n      <th>ITA_center_cropped_indices</th>\n      <th>ITA_orig</th>\n      <th>ITA_orig_category</th>\n      <th>ITA_random_patches_20</th>\n      <th>ITA_random_patches_20_all</th>\n      <th>ITA_random_patches_20_indices</th>\n      <th>ITA_structured_patches</th>\n      <th>ITA_structured_patches_all</th>\n      <th>ITA_structured_patches_indices</th>\n      <th>file_path</th>\n      <th>hash</th>\n      <th>image</th>\n    </tr>\n  </thead>\n  <tbody>\n    <tr>\n      <th>0</th>\n      <td>-86.319973</td>\n      <td>[-95.49740514995437, -93.89204433188165, -88.1...</td>\n      <td>[[0, 0], [0, 1], [0, 2], [0, 3], [0, 4], [0, 5...</td>\n      <td>-89.912399</td>\n      <td>6</td>\n      <td>-91.105563</td>\n      <td>[19.079669270628532, -91.07185302683192, -91.1...</td>\n      <td>[[0, 5], [0, 13], [0, 15], [0, 17], [0, 21], [...</td>\n      <td>-81.299635</td>\n      <td>[-95.49740514995437, -93.89204433188165, -88.1...</td>\n      <td>[[0, 0], [0, 1], [0, 2], [0, 3], [0, 4], [0, 5...</td>\n      <td>data\\finalfitz17k\\000491af8dd4d739de520e8a68be...</td>\n      <td>000491af8dd4d739de520e8a68be7134</td>\n      <td>b'\\xff\\xd8\\xff\\xe0\\x00\\x10JFIF\\x00\\x01\\x01\\x01...</td>\n    </tr>\n    <tr>\n      <th>1</th>\n      <td>-4.368209</td>\n      <td>[69.14342626615937, 58.92391493893117, 54.9217...</td>\n      <td>[[0, 0], [0, 1], [0, 2], [0, 3], [0, 4], [0, 5...</td>\n      <td>31.707877</td>\n      <td>3</td>\n      <td>22.730282</td>\n      <td>[51.09764944131233, 48.00058569586861, 52.2334...</td>\n      <td>[[0, 3], [0, 5], [0, 7], [0, 16], [0, 17], [0,...</td>\n      <td>-27.032318</td>\n      <td>[69.14342626615937, 58.92391493893117, 54.9217...</td>\n      <td>[[0, 0], [0, 1], [0, 2], [0, 3], [0, 4], [0, 5...</td>\n      <td>data\\finalfitz17k\\0009d89a58dac26bb3c113744b7b...</td>\n      <td>0009d89a58dac26bb3c113744b7b4196</td>\n      <td>b'\\xff\\xd8\\xff\\xe0\\x00\\x10JFIF\\x00\\x01\\x02\\x00...</td>\n    </tr>\n    <tr>\n      <th>2</th>\n      <td>63.902881</td>\n      <td>[71.3777488793279, 78.36055446746393, 72.34238...</td>\n      <td>[[0, 0], [0, 1], [0, 2], [0, 3], [0, 4], [0, 5...</td>\n      <td>63.160622</td>\n      <td>1</td>\n      <td>63.106361</td>\n      <td>[77.42464881639646, 70.74856447644632, 70.0776...</td>\n      <td>[[0, 3], [0, 10], [0, 18], [0, 23], [0, 24], [...</td>\n      <td>64.165841</td>\n      <td>[71.3777488793279, 78.36055446746393, 72.34238...</td>\n      <td>[[0, 0], [0, 1], [0, 2], [0, 3], [0, 4], [0, 5...</td>\n      <td>data\\finalfitz17k\\000b6317b3be6d504e212a50e4d5...</td>\n      <td>000b6317b3be6d504e212a50e4d5667f</td>\n      <td>b'\\xff\\xd8\\xff\\xe0\\x00\\x10JFIF\\x00\\x01\\x01\\x01...</td>\n    </tr>\n    <tr>\n      <th>3</th>\n      <td>-2.419620</td>\n      <td>[-71.81196041228813, -74.074964659075, -43.006...</td>\n      <td>[[0, 0], [0, 1], [0, 2], [0, 3], [0, 4], [0, 5...</td>\n      <td>-17.835040</td>\n      <td>6</td>\n      <td>-19.772320</td>\n      <td>[-33.166476726493194, -23.164401316590613, -2....</td>\n      <td>[[0, 3], [0, 4], [0, 8], [0, 12], [0, 22], [0,...</td>\n      <td>-3.292246</td>\n      <td>[-71.81196041228813, -74.074964659075, -43.006...</td>\n      <td>[[0, 0], [0, 1], [0, 2], [0, 3], [0, 4], [0, 5...</td>\n      <td>data\\finalfitz17k\\000e8dd5ee75dd6668e978e7a4e6...</td>\n      <td>000e8dd5ee75dd6668e978e7a4e6fe54</td>\n      <td>b'\\xff\\xd8\\xff\\xe0\\x00\\x10JFIF\\x00\\x01\\x02\\x01...</td>\n    </tr>\n    <tr>\n      <th>4</th>\n      <td>-17.580304</td>\n      <td>[-82.36110662214149, -78.5225894924362, -69.97...</td>\n      <td>[[0, 0], [0, 1], [0, 2], [0, 3], [0, 4], [0, 5...</td>\n      <td>-21.982334</td>\n      <td>6</td>\n      <td>-6.519836</td>\n      <td>[-14.653045358595628, -32.068731448543055, -35...</td>\n      <td>[[0, 6], [0, 13], [0, 15], [0, 18], [0, 20], [...</td>\n      <td>-5.237348</td>\n      <td>[-82.36110662214149, -78.5225894924362, -69.97...</td>\n      <td>[[0, 0], [0, 1], [0, 2], [0, 3], [0, 4], [0, 5...</td>\n      <td>data\\finalfitz17k\\0012821d6f11b96cf33f2c2ee5c6...</td>\n      <td>0012821d6f11b96cf33f2c2ee5c68d1f</td>\n      <td>b'\\xff\\xd8\\xff\\xe0\\x00\\x10JFIF\\x00\\x01\\x02\\x00...</td>\n    </tr>\n  </tbody>\n</table>\n</div>"
     },
     "execution_count": 55,
     "metadata": {},
     "output_type": "execute_result"
    }
   ],
   "source": [
    "df.head()"
   ],
   "metadata": {
    "collapsed": false,
    "pycharm": {
     "name": "#%%\n"
    }
   }
  },
  {
   "cell_type": "markdown",
   "source": [
    "# Compute ITA category"
   ],
   "metadata": {
    "collapsed": false
   }
  },
  {
   "cell_type": "code",
   "execution_count": 56,
   "outputs": [],
   "source": [
    "def add_ita_6_category(ita):\n",
    "    if ita <= 10:\n",
    "        return \"6\"\n",
    "    elif 10 < ita <= 19:\n",
    "        return \"5\"\n",
    "    elif 19 < ita <= 28:\n",
    "        return \"4\"\n",
    "    elif 28 < ita <= 41:\n",
    "        return \"3\"\n",
    "    elif 41 < ita <= 55:\n",
    "        return \"2\"\n",
    "    elif 55 < ita:\n",
    "        return \"1\"\n",
    "    else:\n",
    "        print(f\"None cat: {ita}\")"
   ],
   "metadata": {
    "collapsed": false,
    "pycharm": {
     "name": "#%%\n"
    }
   }
  },
  {
   "cell_type": "code",
   "execution_count": 57,
   "outputs": [
    {
     "name": "stdout",
     "output_type": "stream",
     "text": [
      "orig\n"
     ]
    },
    {
     "data": {
      "text/plain": "Pandas Apply:   0%|          | 0/16577 [00:00<?, ?it/s]",
      "application/vnd.jupyter.widget-view+json": {
       "version_major": 2,
       "version_minor": 0,
       "model_id": "b42071a788d944418d2f8d24f5329f26"
      }
     },
     "metadata": {},
     "output_type": "display_data"
    },
    {
     "name": "stdout",
     "output_type": "stream",
     "text": [
      "center\n"
     ]
    },
    {
     "data": {
      "text/plain": "Pandas Apply:   0%|          | 0/16577 [00:00<?, ?it/s]",
      "application/vnd.jupyter.widget-view+json": {
       "version_major": 2,
       "version_minor": 0,
       "model_id": "8e11dc976db645d18b602c356d7020ee"
      }
     },
     "metadata": {},
     "output_type": "display_data"
    },
    {
     "name": "stdout",
     "output_type": "stream",
     "text": [
      "struct\n"
     ]
    },
    {
     "data": {
      "text/plain": "Pandas Apply:   0%|          | 0/16577 [00:00<?, ?it/s]",
      "application/vnd.jupyter.widget-view+json": {
       "version_major": 2,
       "version_minor": 0,
       "model_id": "8abdc925017f4e9f9b8b6e1ea9f4b27d"
      }
     },
     "metadata": {},
     "output_type": "display_data"
    },
    {
     "name": "stdout",
     "output_type": "stream",
     "text": [
      "rand\n"
     ]
    },
    {
     "data": {
      "text/plain": "Pandas Apply:   0%|          | 0/16577 [00:00<?, ?it/s]",
      "application/vnd.jupyter.widget-view+json": {
       "version_major": 2,
       "version_minor": 0,
       "model_id": "ed1d8fa4411442e18a261a72dfabfd87"
      }
     },
     "metadata": {},
     "output_type": "display_data"
    },
    {
     "name": "stdout",
     "output_type": "stream",
     "text": [
      "Wall time: 681 ms\n"
     ]
    }
   ],
   "source": [
    "%%time\n",
    "print(\"orig\")\n",
    "df[\"ITA_orig_category\"] = df[\"ITA_orig\"].swifter.apply(add_ita_6_category)\n",
    "print(\"center\")\n",
    "df[\"ITA_center_cropped_category\"] = df[\"ITA_center_cropped\"].swifter.apply(add_ita_6_category)\n",
    "print(\"struct\")\n",
    "df[\"ITA_structured_patches_category\"] = df[\"ITA_structured_patches\"].swifter.apply(add_ita_6_category)\n",
    "print(\"rand\")\n",
    "df[f\"ITA_random_patches_{PERCENTAGE_OF_RANDOM_PATCHES_NAME}_category\"] = df[f\"ITA_random_patches_{PERCENTAGE_OF_RANDOM_PATCHES_NAME}\"].swifter.apply(add_ita_6_category)"
   ],
   "metadata": {
    "collapsed": false,
    "pycharm": {
     "name": "#%%\n"
    }
   }
  },
  {
   "cell_type": "code",
   "execution_count": 58,
   "outputs": [],
   "source": [
    "catagories_to_test = [\"ITA_orig\", \"ITA_center_cropped\", \"ITA_structured_patches\", \"ITA_random_patches_20\"]\n",
    "# convert to string type\n",
    "for index, cat in enumerate(catagories_to_test):\n",
    "    category = f\"{cat}_category\"\n",
    "    df[category] = df[category].astype(str)"
   ],
   "metadata": {
    "collapsed": false,
    "pycharm": {
     "name": "#%%\n"
    }
   }
  },
  {
   "cell_type": "markdown",
   "source": [
    "# Evaluate ITA"
   ],
   "metadata": {
    "collapsed": false,
    "pycharm": {
     "name": "#%% md\n"
    }
   }
  },
  {
   "cell_type": "code",
   "execution_count": 59,
   "outputs": [],
   "source": [
    "# df_mis_match = df[df.hash != Path(df.file_path).name.strip(\".jpg\")]\n",
    "# df_mis_match"
   ],
   "metadata": {
    "collapsed": false,
    "pycharm": {
     "name": "#%%\n"
    }
   }
  },
  {
   "cell_type": "code",
   "execution_count": 60,
   "outputs": [],
   "source": [
    "def add_label(row):\n",
    "    \"\"\"\n",
    "    This function will look at the csv info and find the fitzpatrick label and apply it to the given row\n",
    "    \"\"\"\n",
    "    hash = row[\"hash\"]\n",
    "    row[\"label\"] = str(df_csv_info[df_csv_info[\"md5hash\"] == hash][\"fitzpatrick\"].iloc[0])\n",
    "    if row[\"label\"] == \"-1\":\n",
    "        print(hash)\n",
    "    return row"
   ],
   "metadata": {
    "collapsed": false,
    "pycharm": {
     "name": "#%%\n"
    }
   }
  },
  {
   "cell_type": "code",
   "execution_count": 61,
   "outputs": [
    {
     "name": "stdout",
     "output_type": "stream",
     "text": [
      "0041c7551e027def40cf81ab8fe14a36\n",
      "011edfcd8849c12e56e89c8acbf546fe\n",
      "016b658557ad43d6cc55ab2944e98e26\n",
      "01799c46d7fa9c08d3353df0c67269d8\n",
      "017ff9877a1eec742e799745d403f0a3\n",
      "01be7f7454385c1abaa9d10aabcaa751\n",
      "01fb028af4dce3dbf4730377aa797c4c\n",
      "0274d0b67e1ed7079ea95b5dedb8a5f0\n",
      "02ac06de46ddadc68923e8c1bc8854d1\n",
      "02cc7827aab3924541e105df6e341d93\n",
      "05e3894a471b152aa58389bfce9effc6\n",
      "068ded0527f4d8d58915a7aa915df177\n",
      "06927894daf158c5fafc52b5558dcc85\n",
      "06cc4fb3cdb76cdfe4ef9a0ae2137108\n",
      "086db5e7ff50e539718fa0b7715ef2c0\n",
      "08904b2c711d4144603c07c8bf7bd5b7\n",
      "09575dbf20e7ff6e4d722c720d423d45\n",
      "0b04efa3c475de827500dad79ab23a37\n",
      "0b0f2b4f378117d22eb167b8ef84f391\n",
      "0b99557d47c568787ea3137fd3f28572\n",
      "0c1d81533a06aa3086cf33b85ed77e16\n",
      "0d4f2d1610e4a7ba1c56a832f4ac499c\n",
      "0d88a95a70e08e9e5742a5a5c480c491\n",
      "0dc2a0996ab1672b2ddd03fcf7435080\n",
      "0dd4fb7e120caac9f1f7db96eae103f6\n",
      "0dd88e8ca7395d947aa4f5946ef9b9b2\n",
      "0dfca9fdbb4f07f16ca3914d30d729f8\n",
      "0e46002c77a93390074906a00f3d075a\n",
      "0e792dd9f58c7e674eb972176feb0202\n",
      "0e7be7629b955ab8705877ba9c562302\n",
      "0e9a7fe48bbedb09de2d2d832c19a55c\n",
      "0e9e7c2df49c9d8b7ebb4234da12e7ed\n",
      "0f3b475314c6783a17c9011a9daf3559\n",
      "10134f12af27189d52398d32278d5848\n",
      "10b7dd2d14c4b745c0ced3a5936f9ff6\n",
      "10dd3cb56c334e940096b8d933b3dc70\n",
      "119231055c2b0e18ddbd6064b59c73f2\n",
      "127c095dd4daf67da813ea08e0a814c9\n",
      "140a248b9e5eac724dfc891cee0069fa\n",
      "140e9d672b46741ec3666f88abdd735e\n",
      "141a5e9c784838cac1ffbbd7f4edf990\n",
      "1439b7a80cc048cbbf5f8205956ce94a\n",
      "15274d90cb5ad843d9ece91cd76fde00\n",
      "15dd1c0079d733ca02476634252634a2\n",
      "1622d7ca565473660e51b1d68d4027e3\n",
      "17cbe06f8a68db83725482f91a8d23c9\n",
      "181a1a9c6250d2b1c1d37d7258ba2a07\n",
      "18eee27413f59dd3f25d8987e81ca91b\n",
      "193553b9830d071de354a54d99de0a66\n",
      "19552b8df9e0064411144863e06ee40c\n",
      "1a3fa1d21775a46e540705b56e53a727\n",
      "1a890bb07331efc610b3feb2c80d02d8\n",
      "1c33932aa7126c48d890a8a82062a7c3\n",
      "1cbfbb03b5aaab54304c3192c8f29ddc\n",
      "1d1e43151f411b24f1d5886ffbb153ff\n",
      "1d3ac792bd06d60222b09273a7ceac61\n",
      "1dc929c4a7deabf67edbce72e5750311\n",
      "1ea8a8ab6c734d0f1290951de649ccbe\n",
      "1f130aea567b7ac10c57eb60693c9ff3\n",
      "1f22073e2682cfccd92846d92b9d29bf\n",
      "1f43de07d8d6edf550b32aff5fbdc226\n",
      "20ca84b34fafa01f4017f59e59947919\n",
      "218234ec3b812ee7e74750bb71f82ed2\n",
      "21e19a367a9f18804cd1cbf83ae7abeb\n",
      "22b34b4dea2e844d936ce020f57597b4\n",
      "24dc9668a8591f91f999bc79096502c8\n",
      "25e40905250dd8c4b28aa8841e7e83dc\n",
      "26e07e2d0d8ea8f319d32b357b63d4e7\n",
      "28106a52d5f759fe609f64b2fc68ec49\n",
      "2971a021d82a7a9274f37a549a445e01\n",
      "2a7edfb588ba19eb6aef6b02670e7f8a\n",
      "2b7d639b26abd635dd0d312969991646\n",
      "2ca8c244645e68822aff130f260f4f40\n",
      "2cf7f7202d72a9def854a4469652c8bf\n",
      "2df39821d2328b6adee3dcacc2eb83f5\n",
      "2ea034fc482e9bd21a5dfa2506cc5d6b\n",
      "2ee080846c646eac25e405b6f590a605\n",
      "2f685d7f46f2d56cb9cea700ede7cdd3\n",
      "30897fceb1633c646bab63f77cd4d5c2\n",
      "30f1194406f0ca937238380ee4939fb0\n",
      "31945759677394cbc903426a01078ffe\n",
      "31d47c9e706e6febc67124fa96981177\n",
      "31f997678a0a3d6f90f76dd4a17e73f1\n",
      "322e3b0491d932bcf597d800745c3ef4\n",
      "3256f5f9dc2b46410e59ae1198020fcf\n",
      "32c0a9b5310b02abbe487e6a781fe89e\n",
      "32d2a131a10a9c2cd9f69df8672c03b0\n",
      "3521f3b2e8a8881ec5565002ae31f7d5\n",
      "3544c601355bbdfb23d62293757db2cc\n",
      "3554761709cc4906ab9db13e5e46aa25\n",
      "35e5b48aad880f40625297aae247119a\n",
      "36a92a86d1051158c3604f9b091693da\n",
      "36c5f98c02e4b1460f07c6ba8d7d3717\n",
      "36f988ad5f5b0966e4e68e5d50eba78f\n",
      "36fa954b666b5de098d83fe2160b1ab3\n",
      "37e2f91f5729bcee7406deb1466b8224\n",
      "38155b83e8253783b70a58452f7ea15e\n",
      "381a29ca38e5e7d4b2b52cbd70e24cbe\n",
      "38331f56dc20dbf198d58ecde3d17350\n",
      "3847a3cfaba9d54cfaea18ca5308b620\n",
      "3875c968bfb44ad137180f3b944132c2\n",
      "387b50f9cf38f7a410543a2897757986\n",
      "392df882623ec67882421c06a48b7555\n",
      "3942fba06c9709376dc1578f869bf451\n",
      "398505290bac3f20522e79113cacdf3e\n",
      "39a2e23126de402e824f960b96c689a6\n",
      "39d134679e4f8bc95a5a628032320dc5\n",
      "39d7a3160a81e3ee93b2408a371d6510\n",
      "3a10a2d2c76b10042d4936a1e0e5f695\n",
      "3a2bf308b3b23c153a64d1cfb46696a8\n",
      "3a658dd0895fb661e7881b0bf7da341f\n",
      "3add86db52153e6cb7a1e9b8f30bac9a\n",
      "3b563334e51802c818b529c4acbc3013\n",
      "3bb3936d6160dbf6fb8f31f6428836d1\n",
      "3c76a5d190324bf0ed6b4a36f8dcfcec\n",
      "3cfd112c620e0bbeda42332c5f320b1b\n",
      "3d27838a69011ecde50c433353b8ba36\n",
      "3d78cfeb51ef520693da02e4d7b1a8b8\n",
      "3da1490efbd7ceb3ca5a0fd337092073\n",
      "3db1fcf936e857668f24464bff992012\n",
      "3df2358722a50dacaa06a9cf470dd735\n",
      "3e00be95682c981f5125826cddd3d088\n",
      "3e79b0695698f58d3d40482c2aef87a9\n",
      "3ef28950d53795e0d605c478f9e9453a\n",
      "4011dabf3af68e62fcada857c96a056f\n",
      "4054bf5359688a41a50a51c9afb16da9\n",
      "40b50c1b1c3a3253d51c4369a6e6eb17\n",
      "40e42651048ac27b53750c6a3c19ecfe\n",
      "414a8d69b009933be07ecd310f9e31d1\n",
      "4173d5a2337e044eaced6778c34be2ea\n",
      "4194bd23588b9542e49d6ad98ece0905\n",
      "41c5711f83e31df43d49590d7040f794\n",
      "426bb69b179aa8e0d0ec9bb8d9a08093\n",
      "4273ebc9d8664555d7e88df3b99992d6\n",
      "4340fe3a465e71f3ad1374bdd90e976c\n",
      "4484246918902ab12221b60f39f8cda7\n",
      "45d0f3554ae5037cb8ce70d3eb4f38ee\n",
      "47171ffe1f8330f90b2f884076e9af5a\n",
      "4722319c4ebf0e09971017c04d7393fc\n",
      "47636cb8d1cea91cc2363e837a0a5954\n",
      "48009ca75f786c681a76614e4c53a41e\n",
      "4800fc63a9723d9db538dc6667c24571\n",
      "486a7034efeb266b713258e554bbdf4e\n",
      "4892fc7c978414cd54262eac273284e3\n",
      "496b1cf6569af308995ffe2d2e92e747\n",
      "4a0649d77a2f59ce86754f0805f263c4\n",
      "4a7899d4771ae20576cc83e5c45cfdaf\n",
      "4b39f5c7c6e7c5d7c78ca348bcccb0eb\n",
      "4c06a5e958b8bf0e2a37bedd8c1d4161\n",
      "4c6ab2fab20849dc72172f61834ff1b5\n",
      "4c731419c06a0d56f81cb03929783d38\n",
      "4cbd191d60f97a3b5a8d7b3ad5cc564c\n",
      "4d57d29017b897e1442d00586ac4c4ff\n",
      "4d8c899b03bde19011e269784b4e2838\n",
      "4e93096e2139582a1a633220a9638049\n",
      "4ea7617fe12e9d409b5b4ad7f495d5ed\n",
      "4ee002eb32ce76c88d2c2a0b825ff745\n",
      "4f61a32678e8c7c9f5e8ea2a9175803e\n",
      "5011f3bf50e0d3015a5dce69929954fb\n",
      "504adb970b7636e525ead2561ccc3f8d\n",
      "506a73e6be7935927dff0849edf6569f\n",
      "50cbcfc578a76d74d0adbd68dc3545fa\n",
      "50e90e2a53ea79b9650d6f503020e24d\n",
      "51f3037f68504d152874f31b029b8138\n",
      "52658d843641cd217bf61efc2ed41749\n",
      "52b7fa139b40daf64759cf4b09e34819\n",
      "52f5155fb53934445bbe66efbf52ae4a\n",
      "535ef4bdaf7a0dfc2077a1447bc16d16\n",
      "55380b8e11469709714b2994f8ce8fd7\n",
      "570eaa25233c63c46e6cbbd3cb6ed42e\n",
      "574ea9e20e48a102ecb4300c1898cbf0\n",
      "5776688aa0eced5f1303360ab0a9240f\n",
      "5897cac3767994faaaf06040b058d480\n",
      "58a0cff104304506089cbbd178c848ce\n",
      "5906081fcdc2eece8140e95a95f909f0\n",
      "594609e34b1184e63c094910a4be825b\n",
      "5973afe5a06349b95bca685fd4f35c15\n",
      "5b7522beddf807b696bc64d215552300\n",
      "5cf02fd520a612685135af490fa1996f\n",
      "5e18d00e12b082ee203a3e5ccaef81b1\n",
      "5f839a8480979069bcab0aac4699d85a\n",
      "613d35bae1ae429d9449b9ecf4bb999d\n",
      "615427deeca15577fa760a57634cd83c\n",
      "61687ac315e76923e2116ac2d20ebd33\n",
      "616ea1b8497be7595e74ee0299597336\n",
      "618a5d27ac54ee03e712568beb02ae20\n",
      "61d1806484e25c89791708de5cb1e47e\n",
      "61d5d67caeafd5fd1b793f1b281863dd\n",
      "6214de2e915835014235a1839cbc5938\n",
      "62362a18325e92c3cfb4d375109fc1b0\n",
      "62af12ea24ebb889a37d2f119cae7097\n",
      "63237a96f85ec647e9325274740fbdfc\n",
      "6590b385b0fc66eaabac197ebb95708e\n",
      "6617a2be2b5e04f82e0b606582f235d8\n",
      "662dc776a4c17aa2b54a94f7fd72485f\n",
      "6678fe590bcb19860b7badcdfe68efc8\n",
      "67233a2c6ab933ff12c5bdf339caa181\n",
      "67969e7385a330e1957aac1f48d6de28\n",
      "67ac5bbaeb3f15071e74a36f64270aef\n",
      "67ae5e29e6130fd512620df5116193eb\n",
      "67b42108e4ea28e8081945581fe50114\n",
      "686586ef815913c5cd197bcdb3718b5e\n",
      "68b21951e91305825020190923b83e37\n",
      "6983939c38cb0d103d2ee332858ee485\n",
      "6a974c8eae059980042fc2c0482c2154\n",
      "6c753ba3724b24673a6bc635e96825fb\n",
      "6ce8282ea9c8104e0da17facd31aa473\n",
      "6d1f3a24b6d6e2d1fd1c292d29bef01b\n",
      "6dd55c263e7286ec05542ea1634df398\n",
      "6df7ccd15c4c9b072863e03224ebf65d\n",
      "6e490f7eff77ed3745e7ec803682302a\n",
      "6ed5abe85b1aeaf3c3246e1c6fd375a6\n",
      "6fa8478e8fae06c64810b6f16fcf7ee8\n",
      "6ffc4d0108a2c1d10c699fae9679d1ef\n",
      "701c08deb80005015cfc802d479b12bb\n",
      "704c443b2f7d76de96f0ce1f260828d3\n",
      "7063ed50f49bfeb5f95ce401637ac7b8\n",
      "7064467893a7e67d98d6e8f73957bf4e\n",
      "70e5ffc51b9d4dc96616b52ded3ea665\n",
      "70ed11d557375a3b2d61708dd6dcbd71\n",
      "71b67be202663f843f95b5f409b358e4\n",
      "720f19f60f669564baa7fde4b8e06f9e\n",
      "72402bf92105525d70761829d80afe94\n",
      "72a203a8ac092bf38134a81b608c005c\n",
      "72a404525b6a423e540759439b50b3da\n",
      "72b7bd69618ea149d63f3d41dc4ca287\n",
      "72bcd875e7a573b4139883059e69328d\n",
      "7302faa064c1e85a6345b25ddb367b40\n",
      "7314c0c02f1d521c6b2b4ba955d369e8\n",
      "733d8debb405d2eb6bfd76aebeffd7df\n",
      "736923212196233c24de6f6886183c48\n",
      "73754651e5cb0081c4a706369847691c\n",
      "7376a738fa568d24ca016ce1a5e7e3f8\n",
      "738aff85c9783b91b326017223da118e\n",
      "73b52cc05fe6eee2372b7621951b82cc\n",
      "73dbe2e0e882ce7a81922265326b67ee\n",
      "745ac19946f8dd2bafc03d058783c303\n",
      "74d48c265b80c322bef41a88464836ab\n",
      "74dc419fd53c65820b79f8655c56a9ff\n",
      "7571dac35d92e2a7398a96ce8287440d\n",
      "763ed484fcc50bf7b67cc44f95bac95e\n",
      "7744e1517bbd73991b2adbd3c7d54a95\n",
      "77a885f30ac2e7100dec35cdbfc9fa92\n",
      "7909083a8f2ae0c6359e48c9999e0c15\n",
      "79f758736e0215031e7934728a549c22\n",
      "7a6ae6abce402387f780335fe608489e\n",
      "7a921a5771994a0c6a1efbb45b6ad04e\n",
      "7af2d92e52fc9c17b952e8bbdd53ee61\n",
      "7c1e5c3658970da67bbaae4cd184d1c9\n",
      "7c52a58a9b3a3d1dada244e26a63570c\n",
      "7c59d3bbc4c91c14fdc3a42d3a08dd22\n",
      "7c80055a41052cae843bd8087e86279f\n",
      "7e623510ebbf2ec00a63c23401dbe648\n",
      "7e66268a1e9faa362dd7a665dd466830\n",
      "7efd3f8398633dc82e823a4b80e5d542\n",
      "7ff0a6ab880a9e22ad90e66bc4a48c16\n",
      "8017d1da313f196c232fe842131d4b80\n",
      "8041905917d5658f240296ee70bedbc1\n",
      "813110f4196c27f35beec9dc2431c7e2\n",
      "8155d8be15d5a92802763337c8826118\n",
      "8156d4f65e7ff79ac438752bd6a60d41\n",
      "8177bef3516139c902db411c6f3ee221\n",
      "821d29df05a1b894a73a1e8a5c7ff754\n",
      "822399318bab37501f44db0c3316a295\n",
      "822ce90b3e5bd12124932beb7134ca3e\n",
      "825684dc008574e2d7c50ca4ae11b27e\n",
      "8294529cb7d62739696d55d9a238866c\n",
      "82b2b5a2e690dfaa715fea051bc24846\n",
      "82cb494526925cf7d51892b22f229ed2\n",
      "82d356f21ca9f558980fcfb8f23de93d\n",
      "84be337bf35a44299720a9a582ed9c6c\n",
      "8761091f0e6c7609bfc61713a34dd872\n",
      "877929286e51cee8c7309021be80aa6b\n",
      "87ae4c6a6e5d03d360fdd19b3a2d8092\n",
      "87e546220247ac3dd8c2e7efeeec5718\n",
      "894778422e81abebadc30e1dec63b529\n",
      "895bfd14c38d6d67add06d4ee995749f\n",
      "89f8b64f9f27af366bab108174ec956e\n",
      "8a0a496bc5809788b6227bd3f873b835\n",
      "8bd7d2976db4382f7fd8cae386d6d999\n",
      "8c4ed20439baa7bf0053b3abd8c481ee\n",
      "8cb5af88d663d7c691681e45254ac35e\n",
      "8cf10abc45776d10b0fffaf90cc602bd\n",
      "8d0095170ff1c91f2c6cd7c9a67270f5\n",
      "8f9bbca8888ce7e9896a3cc4aea506c7\n",
      "8ffdb29f0c9a76c8bbd934bb14b8e04b\n",
      "9016573f138e50e4bddb1e8013b763ff\n",
      "90bf10d2d4b7891e15c4959e2a73b426\n",
      "90bfc16c648af666cfae9eafbba8aa20\n",
      "90df464bbf7155c37262abce64f3d425\n",
      "916ebfd02cafdd41504ba21f6abaa8ac\n",
      "92d2c383304c254db08deae655ea49d2\n",
      "93342d7f5c76969c09ec2f77cd4c5110\n",
      "935773b2cb462c59c044b237e6220d62\n",
      "93716d2ee1e8cc4389de69f62adf012b\n",
      "93ad096fb56f62fa1531d5fba0a41ee4\n",
      "93d3e8dfca9f38ba014740f37457b1ca\n",
      "9430d97d557aa502c1d8abbd34ee57ee\n",
      "9506d68feabca7db121bbf5527c8f502\n",
      "956d091cc72508778b6aecd1974f653e\n",
      "972e7411c820e5cb6d1a9720c0dffd52\n",
      "9748eb88f98e00ea924badf9e3aa89b2\n",
      "97492f57b9147fa8e65bb2fdb9e8dcae\n",
      "97b6ccbea55126ff9d7a02c3764c818e\n",
      "97b6fbc9f7aed167c17b09b78ffed235\n",
      "981a205ada4a2d495d663f5db4cfee27\n",
      "982a357c237079c35ae5401dfc591055\n",
      "98db2a1e03968a16984492ea28daad25\n",
      "9907ba6ff299b804f3c440b5bf0d7dc5\n",
      "99226382ee26871f6f9f903eb928b6f3\n",
      "993c2ed511a88ea5fb1cbfe46c1737f8\n",
      "994b3c5fe9c9c8b82dd89f6b31c5c1e2\n",
      "99cff657f93b1e594fe0879004be2379\n",
      "9a3488a4aad190131182537c9681f651\n",
      "9a35f0282760ea347797ade7b74da3a2\n",
      "9a455359601a111a743f15ec5d9726e1\n",
      "9a7f5c20df46b3403b70a6e7b3f07c74\n",
      "9b72994999aa4dfa5fe374e71914259f\n",
      "9bc21ae9502b720f604907ff56dbc4c7\n",
      "9cac045bafd700c2018cd3a00fde8092\n",
      "9d2b273001d84edbcf710a609a99fc3d\n",
      "9dee2cefbd8aaae730c18425f277827d\n",
      "9e6ba9859859657325083c4a26779d3b\n",
      "9e8595b4c1edec4b70653523997c267f\n",
      "9eefaba940d6c4c0fd8eaad22513ccf8\n",
      "9f1925ef4b981362e4b8f03c772aee41\n",
      "9f2521a07b5f8acca19872f2b5e7d842\n",
      "9f8207a0d87de2ea85ae8d439e50641d\n",
      "a001502472c1b299ff1081f18f83dafb\n",
      "a06d37daa060698be3508c7b1f55b953\n",
      "a0ae926830cf382bed7b1d0de867d6a7\n",
      "a0fb4759006b0fd3abef5e1d046480ac\n",
      "a11dc58bdaadd53a9b667d8f0eda1098\n",
      "a27211a5b0e1bbde690a3e5feb341653\n",
      "a286eea1924f698f36b2ad145ada919d\n",
      "a2b9a5db2f5bca2de52c9f0a219af67b\n",
      "a33e3fab82e0ba212be3d29b82902561\n",
      "a3990167d63c605b76873c1bc89ddf00\n",
      "a3f39a4d1cda033aa052a0a46233d798\n",
      "a42224fcf640f0bca5a7564b9792495a\n",
      "a5b0f2ff2803d25678a333cac62253c7\n",
      "a62915b597771f984932137b54bb312d\n",
      "a6fdc7d24b49c9b94534efa7ecb69894\n",
      "a75f4259678e722632d3b64dbff3d831\n",
      "a79a3adf796973f79dbe1795f6fa9f77\n",
      "a79b947c91874f741b5aa3921232461f\n",
      "a80a59527416dd3d17e36c0eb897dae5\n",
      "a95a1fdfa60c44c42903686bf17acb69\n",
      "a9c06003e569b38533dfdfc53a9b54cc\n",
      "aa27b6548a25d00e5fc2dcd0cc09be31\n",
      "aa7f776e2a0a19c63cf3865f1c48df84\n",
      "aae3cda749d4fc006099a3152c3fbe9a\n",
      "ac30b75b2be86102acd8bd3ec93a0bf6\n",
      "ad6f49367969621ce3cf99d78b0293ba\n",
      "ad704c308469e0daf5ed559675b4b11b\n",
      "adb5b7253c21d274f9b1a793b01b84d2\n",
      "add15c21c9e9550a35c70e8703eb6b5f\n",
      "adf918a971334d6c03aba89f942ec9ad\n",
      "ae1df5f76b8cdc41d5f2c9be18417c7d\n",
      "af09fdd711f9f22abd4e7d66a92cfcd2\n",
      "af1206927a770fc6f693f9183dd72254\n",
      "af1cd491ba6ae7223f0c474f95b14856\n",
      "af9618564fa5663e5cc7874cfbd3912d\n",
      "b08daf2435346881a53af5bf52810225\n",
      "b13d9424b7298d6d2cd42a7f2a0edf3c\n",
      "b1511e8df6f09f2f8a9ee71cc952f29c\n",
      "b19058270222fb38a255df4d6e51d060\n",
      "b27e91db2d372ffd6d22e09843c43e60\n",
      "b28616956d3918f15f04a57a1d0f20f5\n",
      "b2a1bfb6de375cdeba7288e1b1a7d2b7\n",
      "b2dc236d41f78bec1a4f7776e9b2cd55\n",
      "b2e953bfa5253045082d15bfc8892b5b\n",
      "b34f90601ead01649bec6a11bc89ba10\n",
      "b3573744f83310b0e5914c64576b08a7\n",
      "b35e4d33b05348b564b92ba0a2fc13f1\n",
      "b37342fb671ccc37532dbef4c92c8d34\n",
      "b42588f65c71f37a76620c8c1f7e512d\n",
      "b46b82802868eb1b6c0aa9cca4faa544\n",
      "b4bf598429ab4d25f2b9d11495167cec\n",
      "b4df499e2397da0425aecca6849c55f0\n",
      "b4ff550b2f74a328c4d745044f0ed6cd\n",
      "b54d6df71eb9ca44cbf96f0db28aa1b9\n",
      "b572f2654f4e902dd4e2d451c3162c5a\n",
      "b5dab97d952cb9f4264f464304d7ea0e\n",
      "b5fb2056ffaf81e09f520b93b92d8408\n",
      "b657e30ba6e7944f78eceb94741a8e20\n",
      "b6a30b0b1f973a931f6cce35ac6607d1\n",
      "b6cf008da895fb856a76c033fddf6ec5\n",
      "b6dd5b79013a1db7d15edff0a5cd5dac\n",
      "b6efb8e75edeefb2a3bf2069e41fcac4\n",
      "b75d1a302ae3ec412297ae45ff14bc02\n",
      "b791ec8f969acd3d0736ac679dea0d29\n",
      "b8187ac1e3d5c7a7238056c87a3072a9\n",
      "b8837a0285f7c4288c772a079c64fb84\n",
      "b891d730339563aba26144a0898f38ee\n",
      "b8d232b7657430155cc7b0f7b5083668\n",
      "b8f7a8261d720585ae60f800b4eaf999\n",
      "b920884d42bcbf9b8a7cca338cf753cc\n",
      "b9feb27ba720b97e5376c3fe0443095b\n",
      "ba2a0f7b150c44bed97d6f70a74f6531\n",
      "babdd76c479c889e8a3fdcf366ab38ce\n",
      "bacdff57d52bc03f218661afc71fe01d\n",
      "baddb3713adf6d99cb53cddb95fe5c6d\n",
      "bb2a22e227ec1e3d7ddcf1594577eb81\n",
      "bb45b98ab986f82a906934591efdc32b\n",
      "bb814584ad715755d1ea9556fd8c822d\n",
      "bc1384c77a7efc91b35dc13638507677\n",
      "bc4811c3e767a0b8e604275d3d74eae3\n",
      "bccab73c32aba48c90602de9bb458272\n",
      "bcd90c2432c50cb8bd6b6ca7c9c017ac\n",
      "beef65842e03df80f6cfadb503fe372b\n",
      "bf095c62583d884c0f4b3fa4f2594fc0\n",
      "c051152285fd20f3b6381df88dbbb940\n",
      "c123006ac6ddb33084e8de25dfe7f37a\n",
      "c19292ddf841bb2da784f6ba730a9ad0\n",
      "c1d7b84665a8164902f32568a1493e6a\n",
      "c204c7c8443fbe404200e36285a8cae0\n",
      "c2641cbdd56c083e7b1990b7e12e65a2\n",
      "c2700df0d707be983aa18fb467c842fe\n",
      "c2b9db5f470d832af3692477ee156ab7\n",
      "c2c3b51763bcf4cbba7dfa2103404361\n",
      "c38a9634e05757107d4129bc31111f89\n",
      "c3e6fb204465b6d0eca76616cb810509\n",
      "c405a3df274d480ffabdf4d3056d45cc\n",
      "c44a2756525afdfd56566f0dd9a37551\n",
      "c45f0e5decda6b300e5888d7c93f7915\n",
      "c4c5692c34cf29cf894c2d1bace04fbf\n",
      "c4d9fbb287a48c8151153f5200094d54\n",
      "c4e0b0de756efe40d4c5daabc9e5350f\n",
      "c513980bf1671f270b14d6b060972c60\n",
      "c51aef6119a7ac874c1aa2acf28653a2\n",
      "c52496f7204ae215e5cbf09a56e64a3b\n",
      "c53d5552a2fd4b0cea76f5cb5158225d\n",
      "c5ca395b06b7ffd13b983066dde30a5a\n",
      "c5f37024a50a556f144e24ef4bde61c8\n",
      "c654b1ec677b358633a09a3d0c78e811\n",
      "c6563411eefcb8bd5e1f721ee8d19bac\n",
      "c7b360aa39ce865b736d524c6dff62b2\n",
      "c7fdaae88f4bddd93cb781ea08d751c5\n",
      "c80477e1e5ed923c4c3ac886c92c13be\n",
      "c88e0790c594a383c13f92519ecb269d\n",
      "c8c1c8cd8ec13beb55575e641ceca890\n",
      "c95b51ad1bb2956e7b5702b7d02f9e19\n",
      "c9dc29ec1fcc783b43b3349a22d237ff\n",
      "ca6f853dde2f57a18d8e15d5d4a6f1ab\n",
      "ca86e26ccedeb67ab344763f929d6bbb\n",
      "cafbe4d5310da8f4549c8ed83f95afc3\n",
      "cbb874a181d216a7442b3b93b33cc11a\n",
      "cc4ab6f639004a21cd60b75a1d48973e\n",
      "cc5a6616cd46bc51deb7d33ac4e6ac23\n",
      "ccb03cc90f6c1bc02ffebfa8feea6d51\n",
      "ccfbabf0a0f8cbfca742ccde30f0e746\n",
      "cd2943b19f4ba90389ee1fed41d4c8cd\n",
      "cd3b917ca712c7e6561637b1dab4ed96\n",
      "cda60094b6b8ec18eb3824637fa25b10\n",
      "cdb963add1d61de090c5d39b5f137cf6\n",
      "cdf127ebf3623453c56a6504911c7d7d\n",
      "ce2a5d7eed8ae82cec2a4b2e33243f8d\n",
      "ce37137b1e7b1ada0933df1047e831be\n",
      "ce76b12909dfe207ddecdbef8a0b88eb\n",
      "cee463ee3ef9b8a1e3c9d237a96e1a9a\n",
      "ceec45ad0839857e67f217540cb79203\n",
      "cfce68ff7ae2772c780eeda157d20a85\n",
      "cfee174761b888ccd4641a9209968989\n",
      "d04150a06562fb2c21073a745b42f7dc\n",
      "d091c72f0f1aa8945573067ae1a7aaad\n",
      "d11bf3916266f304aad060023959ff22\n",
      "d167b8abdaaeb945faf85cc23c62bf38\n",
      "d1853c0bf74a9ce6f45f2ecd5c8c2515\n",
      "d1b88e9484810681fe9f3814e837e8e3\n",
      "d1b94a4a16d6a1f9460a01d9d3e60e3d\n",
      "d23d06b99070a3fc794f8624d681a123\n",
      "d3079c23f85e6b195f1275b6d499a5d8\n",
      "d4a1f83cf9e8cc1b47db9525af9d663d\n",
      "d7c4be13319c37084dabfcec66c3b4f8\n",
      "d7d6c55a61235fcefbafc09db6c305cd\n",
      "d87c610d40086a7fd4d8467775545162\n",
      "d9d5e1e288350dc6c14981ee9b51576b\n",
      "da6f03fd38af010c22369c8f79ddfc90\n",
      "daea42420eeaf89007b2c2fe9cb9ca56\n",
      "db091a9ccb30661ccbd4e4d69f3054ee\n",
      "db1307168f2e1f49e21027d46d18c538\n",
      "db321a6279494c89e229926891916b61\n",
      "db5346bcf1655106cbe32b9de8a199d9\n",
      "dc45646496fdf38db549d1a3cd3696d5\n",
      "dc641e9267f44bc4719b8b511597845d\n",
      "dc687c2e48204e642cbecfdc36d0ae0d\n",
      "dce14fbc5c0955d32e747e4b273e074f\n",
      "dd04a926143fb5b6a1c55d23c67ca606\n",
      "ddeaaeb08fb91b9cbce5a93976ba6a49\n",
      "de2a218985a8833bf59af0bd2179fca2\n",
      "de34cfccbf04386249c67dbe7525613a\n",
      "de6a0458029a70d381ff928da5f0fa95\n",
      "de9b248a86bd8333e14692796aa72ec1\n",
      "deb015c236a19812c7c566c778b30337\n",
      "df2be698ca8e31a61c791f839b371576\n",
      "dfe9c7803470268beb725d483ba359d5\n",
      "e0217158ff1dd904d880ae4290125ba8\n",
      "e0345865250cf90f2fdd9e37644546c6\n",
      "e0374ae6c1362ff183cfba28ded5421b\n",
      "e16a9ce635a5a0d9e3b8f34be7b59633\n",
      "e1bb86f9346b9314d204072001fd68ac\n",
      "e1cd9fdb2a537cbad405ad1c097d4296\n",
      "e276cd90d46ab882c257483591cc659f\n",
      "e310beb83f8db6dc3762aa3184236f2a\n",
      "e33d5763850aa527849bbbdd5f13a470\n",
      "e3946fe3f27b7d3b33ea06c2be558098\n",
      "e3cbe9f24ba9eaafa648a1ccd62e2260\n",
      "e3dce91b73fb5259fdcf32c9ac711958\n",
      "e41ed3b2767f1eddfd2fce3c252e5b85\n",
      "e438ac94425903ae88ef3de457debcfc\n",
      "e4eaa82b962f827f69009449d0a8cbc2\n",
      "e4fd78395c3e658fd90a9fe30d0fa9a0\n",
      "e542ae72f3b882e67f1219054b32d6f3\n",
      "e6104835548d1ea1a086ebbb73101a95\n",
      "e69165b3455bb3a5a8b33a0f6fd8a1d3\n",
      "e69b88d302e3740a3f1ff5703055f204\n",
      "e6d1b91d429d97d20d559a29237ff5f9\n",
      "e75bbe02c0f2339aa7191b2c00f302b4\n",
      "e93100fa6182a4e7cc5c1a8823db8314\n",
      "e93aec351a5e8e647977bbcf52da3022\n",
      "e9b6b25a47f2f0cee215c4738aa10fc3\n",
      "ea15f1a2374930c5125b2e8f16206b18\n",
      "ec95e0ba919f48a7af7ea190fe54f51b\n",
      "edc15130034c126596e062fc62a51dc4\n",
      "ee61335699d455db49d11a4b7023a104\n",
      "eec6842833dbb9a7b24f641f43c5a1c9\n",
      "ef31ecb61a49af007c2d2c7a30240bff\n",
      "f0e0ab544ae4184c778e533c0d8b50f6\n",
      "f1282230c2c93f135d53b154c3f4e2be\n",
      "f15771d337bf6ed6d60f7c9009df59e5\n",
      "f174509ac9f03fa787c72c4460df7363\n",
      "f1f6242d87f06f252c62d1d0173cff27\n",
      "f27dd7e1ba3ff8f012f14f36451fdb05\n",
      "f27f54986873a15fa4702cae0d661b0b\n",
      "f2f0f1140ab5b742ff383132bc01ceac\n",
      "f3cb766ae50852bd76a1669ee7a5e4ee\n",
      "f495a8dce3ffac564748ebad141d6949\n",
      "f4facd8fa7cb553dfdbf8dd2873251a9\n",
      "f55631c703bcc6f0ef193ff77295b964\n",
      "f5dbc6353c0f772a92dbe5a942bb317c\n",
      "f5e8715fbaf46681d3a262d12cc410aa\n",
      "f648f747f95966e15e57d4d6366ff0ec\n",
      "f6597c69376a2de58a3eaaa18d8db6dc\n",
      "f65ab33af43c9a896e3e3f2346e7f54d\n",
      "f67360ddf1dd751be7b3d046abebed87\n",
      "f6caafbfdb86a398a03c57de7e32797d\n",
      "f6ef4da45f12b40c45bbf3963accccd8\n",
      "f7a948d57ebc9e5ca4f6045ff82f899d\n",
      "f7d63b8ee7f442e54a749260e2e0896e\n",
      "f8506df53159790bbd98a9ad81f033d7\n",
      "f87a87ee670454c5738bca11f4078c6e\n",
      "f9097e0c41e7649d149bb79b5a15a852\n",
      "f93904a70e91281cd988fd6e166a470e\n",
      "f9471544b702f7ec13ea03a41f368211\n",
      "f958b4ca8cb66bd55e9862814079e808\n",
      "f9b0f69231d1badc35b481868d4eb2cc\n",
      "fa55371d02e7e3998cdecfeb2e6c3a18\n",
      "fa58fbf61665476038029f22054c7f7a\n",
      "fa8061bafb3891e249af8d05fe0343e2\n",
      "facd8890a8e2de2bacca68ef755157f1\n",
      "fb60401eb678d9ba629be7fb20428c59\n",
      "fb847a2133594e00f8014338a75ab83c\n",
      "fca342682300639e9782dc8f2303d909\n",
      "ff9d9256f34cdb55c5aabd27ae1ca216\n",
      "Wall time: 1min 1s\n"
     ]
    }
   ],
   "source": [
    "%%time\n",
    "# add the labels to the DF\n",
    "df = df.apply(add_label, axis=1)"
   ],
   "metadata": {
    "collapsed": false,
    "pycharm": {
     "name": "#%%\n"
    }
   }
  },
  {
   "cell_type": "code",
   "execution_count": 62,
   "outputs": [
    {
     "data": {
      "text/plain": "3"
     },
     "execution_count": 62,
     "metadata": {},
     "output_type": "execute_result"
    }
   ],
   "source": [
    "image_hash = \"000b6317b3be6d504e212a50e4d5667f\"\n",
    "df_csv_info[df_csv_info[\"md5hash\"] == image_hash][\"fitzpatrick\"].iloc[0]"
   ],
   "metadata": {
    "collapsed": false,
    "pycharm": {
     "name": "#%%\n"
    }
   }
  },
  {
   "cell_type": "code",
   "execution_count": 63,
   "outputs": [
    {
     "data": {
      "text/plain": "   ITA_center_cropped                             ITA_center_cropped_all  \\\n0          -86.319973  [-95.49740514995437, -93.89204433188165, -88.1...   \n1           -4.368209  [69.14342626615937, 58.92391493893117, 54.9217...   \n2           63.902881  [71.3777488793279, 78.36055446746393, 72.34238...   \n3           -2.419620  [-71.81196041228813, -74.074964659075, -43.006...   \n4          -17.580304  [-82.36110662214149, -78.5225894924362, -69.97...   \n\n                          ITA_center_cropped_indices   ITA_orig  \\\n0  [[0, 0], [0, 1], [0, 2], [0, 3], [0, 4], [0, 5... -89.912399   \n1  [[0, 0], [0, 1], [0, 2], [0, 3], [0, 4], [0, 5...  31.707877   \n2  [[0, 0], [0, 1], [0, 2], [0, 3], [0, 4], [0, 5...  63.160622   \n3  [[0, 0], [0, 1], [0, 2], [0, 3], [0, 4], [0, 5... -17.835040   \n4  [[0, 0], [0, 1], [0, 2], [0, 3], [0, 4], [0, 5... -21.982334   \n\n  ITA_orig_category  ITA_random_patches_20  \\\n0                 6             -91.105563   \n1                 3              22.730282   \n2                 1              63.106361   \n3                 6             -19.772320   \n4                 6              -6.519836   \n\n                           ITA_random_patches_20_all  \\\n0  [19.079669270628532, -91.07185302683192, -91.1...   \n1  [51.09764944131233, 48.00058569586861, 52.2334...   \n2  [77.42464881639646, 70.74856447644632, 70.0776...   \n3  [-33.166476726493194, -23.164401316590613, -2....   \n4  [-14.653045358595628, -32.068731448543055, -35...   \n\n                       ITA_random_patches_20_indices  ITA_structured_patches  \\\n0  [[0, 5], [0, 13], [0, 15], [0, 17], [0, 21], [...              -81.299635   \n1  [[0, 3], [0, 5], [0, 7], [0, 16], [0, 17], [0,...              -27.032318   \n2  [[0, 3], [0, 10], [0, 18], [0, 23], [0, 24], [...               64.165841   \n3  [[0, 3], [0, 4], [0, 8], [0, 12], [0, 22], [0,...               -3.292246   \n4  [[0, 6], [0, 13], [0, 15], [0, 18], [0, 20], [...               -5.237348   \n\n                          ITA_structured_patches_all  \\\n0  [-95.49740514995437, -93.89204433188165, -88.1...   \n1  [69.14342626615937, 58.92391493893117, 54.9217...   \n2  [71.3777488793279, 78.36055446746393, 72.34238...   \n3  [-71.81196041228813, -74.074964659075, -43.006...   \n4  [-82.36110662214149, -78.5225894924362, -69.97...   \n\n                      ITA_structured_patches_indices  \\\n0  [[0, 0], [0, 1], [0, 2], [0, 3], [0, 4], [0, 5...   \n1  [[0, 0], [0, 1], [0, 2], [0, 3], [0, 4], [0, 5...   \n2  [[0, 0], [0, 1], [0, 2], [0, 3], [0, 4], [0, 5...   \n3  [[0, 0], [0, 1], [0, 2], [0, 3], [0, 4], [0, 5...   \n4  [[0, 0], [0, 1], [0, 2], [0, 3], [0, 4], [0, 5...   \n\n                                           file_path  \\\n0  data\\finalfitz17k\\000491af8dd4d739de520e8a68be...   \n1  data\\finalfitz17k\\0009d89a58dac26bb3c113744b7b...   \n2  data\\finalfitz17k\\000b6317b3be6d504e212a50e4d5...   \n3  data\\finalfitz17k\\000e8dd5ee75dd6668e978e7a4e6...   \n4  data\\finalfitz17k\\0012821d6f11b96cf33f2c2ee5c6...   \n\n                               hash  \\\n0  000491af8dd4d739de520e8a68be7134   \n1  0009d89a58dac26bb3c113744b7b4196   \n2  000b6317b3be6d504e212a50e4d5667f   \n3  000e8dd5ee75dd6668e978e7a4e6fe54   \n4  0012821d6f11b96cf33f2c2ee5c68d1f   \n\n                                               image  \\\n0  b'\\xff\\xd8\\xff\\xe0\\x00\\x10JFIF\\x00\\x01\\x01\\x01...   \n1  b'\\xff\\xd8\\xff\\xe0\\x00\\x10JFIF\\x00\\x01\\x02\\x00...   \n2  b'\\xff\\xd8\\xff\\xe0\\x00\\x10JFIF\\x00\\x01\\x01\\x01...   \n3  b'\\xff\\xd8\\xff\\xe0\\x00\\x10JFIF\\x00\\x01\\x02\\x01...   \n4  b'\\xff\\xd8\\xff\\xe0\\x00\\x10JFIF\\x00\\x01\\x02\\x00...   \n\n  ITA_center_cropped_category ITA_structured_patches_category  \\\n0                           6                               6   \n1                           6                               6   \n2                           1                               1   \n3                           6                               6   \n4                           6                               6   \n\n  ITA_random_patches_20_category label  \n0                              6     2  \n1                              4     3  \n2                              1     3  \n3                              6     5  \n4                              6     3  ",
      "text/html": "<div>\n<style scoped>\n    .dataframe tbody tr th:only-of-type {\n        vertical-align: middle;\n    }\n\n    .dataframe tbody tr th {\n        vertical-align: top;\n    }\n\n    .dataframe thead th {\n        text-align: right;\n    }\n</style>\n<table border=\"1\" class=\"dataframe\">\n  <thead>\n    <tr style=\"text-align: right;\">\n      <th></th>\n      <th>ITA_center_cropped</th>\n      <th>ITA_center_cropped_all</th>\n      <th>ITA_center_cropped_indices</th>\n      <th>ITA_orig</th>\n      <th>ITA_orig_category</th>\n      <th>ITA_random_patches_20</th>\n      <th>ITA_random_patches_20_all</th>\n      <th>ITA_random_patches_20_indices</th>\n      <th>ITA_structured_patches</th>\n      <th>ITA_structured_patches_all</th>\n      <th>ITA_structured_patches_indices</th>\n      <th>file_path</th>\n      <th>hash</th>\n      <th>image</th>\n      <th>ITA_center_cropped_category</th>\n      <th>ITA_structured_patches_category</th>\n      <th>ITA_random_patches_20_category</th>\n      <th>label</th>\n    </tr>\n  </thead>\n  <tbody>\n    <tr>\n      <th>0</th>\n      <td>-86.319973</td>\n      <td>[-95.49740514995437, -93.89204433188165, -88.1...</td>\n      <td>[[0, 0], [0, 1], [0, 2], [0, 3], [0, 4], [0, 5...</td>\n      <td>-89.912399</td>\n      <td>6</td>\n      <td>-91.105563</td>\n      <td>[19.079669270628532, -91.07185302683192, -91.1...</td>\n      <td>[[0, 5], [0, 13], [0, 15], [0, 17], [0, 21], [...</td>\n      <td>-81.299635</td>\n      <td>[-95.49740514995437, -93.89204433188165, -88.1...</td>\n      <td>[[0, 0], [0, 1], [0, 2], [0, 3], [0, 4], [0, 5...</td>\n      <td>data\\finalfitz17k\\000491af8dd4d739de520e8a68be...</td>\n      <td>000491af8dd4d739de520e8a68be7134</td>\n      <td>b'\\xff\\xd8\\xff\\xe0\\x00\\x10JFIF\\x00\\x01\\x01\\x01...</td>\n      <td>6</td>\n      <td>6</td>\n      <td>6</td>\n      <td>2</td>\n    </tr>\n    <tr>\n      <th>1</th>\n      <td>-4.368209</td>\n      <td>[69.14342626615937, 58.92391493893117, 54.9217...</td>\n      <td>[[0, 0], [0, 1], [0, 2], [0, 3], [0, 4], [0, 5...</td>\n      <td>31.707877</td>\n      <td>3</td>\n      <td>22.730282</td>\n      <td>[51.09764944131233, 48.00058569586861, 52.2334...</td>\n      <td>[[0, 3], [0, 5], [0, 7], [0, 16], [0, 17], [0,...</td>\n      <td>-27.032318</td>\n      <td>[69.14342626615937, 58.92391493893117, 54.9217...</td>\n      <td>[[0, 0], [0, 1], [0, 2], [0, 3], [0, 4], [0, 5...</td>\n      <td>data\\finalfitz17k\\0009d89a58dac26bb3c113744b7b...</td>\n      <td>0009d89a58dac26bb3c113744b7b4196</td>\n      <td>b'\\xff\\xd8\\xff\\xe0\\x00\\x10JFIF\\x00\\x01\\x02\\x00...</td>\n      <td>6</td>\n      <td>6</td>\n      <td>4</td>\n      <td>3</td>\n    </tr>\n    <tr>\n      <th>2</th>\n      <td>63.902881</td>\n      <td>[71.3777488793279, 78.36055446746393, 72.34238...</td>\n      <td>[[0, 0], [0, 1], [0, 2], [0, 3], [0, 4], [0, 5...</td>\n      <td>63.160622</td>\n      <td>1</td>\n      <td>63.106361</td>\n      <td>[77.42464881639646, 70.74856447644632, 70.0776...</td>\n      <td>[[0, 3], [0, 10], [0, 18], [0, 23], [0, 24], [...</td>\n      <td>64.165841</td>\n      <td>[71.3777488793279, 78.36055446746393, 72.34238...</td>\n      <td>[[0, 0], [0, 1], [0, 2], [0, 3], [0, 4], [0, 5...</td>\n      <td>data\\finalfitz17k\\000b6317b3be6d504e212a50e4d5...</td>\n      <td>000b6317b3be6d504e212a50e4d5667f</td>\n      <td>b'\\xff\\xd8\\xff\\xe0\\x00\\x10JFIF\\x00\\x01\\x01\\x01...</td>\n      <td>1</td>\n      <td>1</td>\n      <td>1</td>\n      <td>3</td>\n    </tr>\n    <tr>\n      <th>3</th>\n      <td>-2.419620</td>\n      <td>[-71.81196041228813, -74.074964659075, -43.006...</td>\n      <td>[[0, 0], [0, 1], [0, 2], [0, 3], [0, 4], [0, 5...</td>\n      <td>-17.835040</td>\n      <td>6</td>\n      <td>-19.772320</td>\n      <td>[-33.166476726493194, -23.164401316590613, -2....</td>\n      <td>[[0, 3], [0, 4], [0, 8], [0, 12], [0, 22], [0,...</td>\n      <td>-3.292246</td>\n      <td>[-71.81196041228813, -74.074964659075, -43.006...</td>\n      <td>[[0, 0], [0, 1], [0, 2], [0, 3], [0, 4], [0, 5...</td>\n      <td>data\\finalfitz17k\\000e8dd5ee75dd6668e978e7a4e6...</td>\n      <td>000e8dd5ee75dd6668e978e7a4e6fe54</td>\n      <td>b'\\xff\\xd8\\xff\\xe0\\x00\\x10JFIF\\x00\\x01\\x02\\x01...</td>\n      <td>6</td>\n      <td>6</td>\n      <td>6</td>\n      <td>5</td>\n    </tr>\n    <tr>\n      <th>4</th>\n      <td>-17.580304</td>\n      <td>[-82.36110662214149, -78.5225894924362, -69.97...</td>\n      <td>[[0, 0], [0, 1], [0, 2], [0, 3], [0, 4], [0, 5...</td>\n      <td>-21.982334</td>\n      <td>6</td>\n      <td>-6.519836</td>\n      <td>[-14.653045358595628, -32.068731448543055, -35...</td>\n      <td>[[0, 6], [0, 13], [0, 15], [0, 18], [0, 20], [...</td>\n      <td>-5.237348</td>\n      <td>[-82.36110662214149, -78.5225894924362, -69.97...</td>\n      <td>[[0, 0], [0, 1], [0, 2], [0, 3], [0, 4], [0, 5...</td>\n      <td>data\\finalfitz17k\\0012821d6f11b96cf33f2c2ee5c6...</td>\n      <td>0012821d6f11b96cf33f2c2ee5c68d1f</td>\n      <td>b'\\xff\\xd8\\xff\\xe0\\x00\\x10JFIF\\x00\\x01\\x02\\x00...</td>\n      <td>6</td>\n      <td>6</td>\n      <td>6</td>\n      <td>3</td>\n    </tr>\n  </tbody>\n</table>\n</div>"
     },
     "execution_count": 63,
     "metadata": {},
     "output_type": "execute_result"
    }
   ],
   "source": [
    "df.head()"
   ],
   "metadata": {
    "collapsed": false,
    "pycharm": {
     "name": "#%%\n"
    }
   }
  },
  {
   "cell_type": "code",
   "execution_count": 64,
   "outputs": [
    {
     "name": "stdout",
     "output_type": "stream",
     "text": [
      "<class 'pandas.core.frame.DataFrame'>\n",
      "RangeIndex: 16577 entries, 0 to 16576\n",
      "Data columns (total 18 columns):\n",
      " #   Column                           Non-Null Count  Dtype  \n",
      "---  ------                           --------------  -----  \n",
      " 0   ITA_center_cropped               16577 non-null  float64\n",
      " 1   ITA_center_cropped_all           16574 non-null  object \n",
      " 2   ITA_center_cropped_indices       16574 non-null  object \n",
      " 3   ITA_orig                         16577 non-null  float64\n",
      " 4   ITA_orig_category                16577 non-null  object \n",
      " 5   ITA_random_patches_20            16577 non-null  float64\n",
      " 6   ITA_random_patches_20_all        16574 non-null  object \n",
      " 7   ITA_random_patches_20_indices    16574 non-null  object \n",
      " 8   ITA_structured_patches           16577 non-null  float64\n",
      " 9   ITA_structured_patches_all       16574 non-null  object \n",
      " 10  ITA_structured_patches_indices   16574 non-null  object \n",
      " 11  file_path                        16577 non-null  object \n",
      " 12  hash                             16577 non-null  object \n",
      " 13  image                            16577 non-null  object \n",
      " 14  ITA_center_cropped_category      16577 non-null  object \n",
      " 15  ITA_structured_patches_category  16577 non-null  object \n",
      " 16  ITA_random_patches_20_category   16577 non-null  object \n",
      " 17  label                            16577 non-null  object \n",
      "dtypes: float64(4), object(14)\n",
      "memory usage: 2.3+ MB\n"
     ]
    }
   ],
   "source": [
    "df.info()"
   ],
   "metadata": {
    "collapsed": false,
    "pycharm": {
     "name": "#%%\n"
    }
   }
  },
  {
   "cell_type": "code",
   "execution_count": 65,
   "outputs": [],
   "source": [
    "ITA_Categories_list = [\"6\", \"5\", \"4\", \"3\", \"2\", \"1\"]\n",
    "ITA_Categories_list.reverse()"
   ],
   "metadata": {
    "collapsed": false,
    "pycharm": {
     "name": "#%%\n"
    }
   }
  },
  {
   "cell_type": "markdown",
   "source": [
    "## View Distribution"
   ],
   "metadata": {
    "collapsed": false
   }
  },
  {
   "cell_type": "code",
   "execution_count": 66,
   "outputs": [
    {
     "data": {
      "text/plain": "<Figure size 2016x504 with 5 Axes>",
      "image/png": "[encoded data removed]"
     },
     "metadata": {
      "needs_background": "light"
     },
     "output_type": "display_data"
    }
   ],
   "source": [
    "f, axes = plt.subplots(1, 5)\n",
    "f.set_size_inches(28,7)\n",
    "\n",
    "ax = sns.countplot(df.label,ax=axes[0],order=ITA_Categories_list).set_title(\"Categories GT\")\n",
    "ax = sns.countplot(df.ITA_orig_category,ax=axes[1],order=ITA_Categories_list).set_title(\"Categories Original\")\n",
    "ax = sns.countplot(df.ITA_center_cropped_category,ax=axes[2],order=ITA_Categories_list).set_title(\"Categories with centered cropped\")\n",
    "ax = sns.countplot(df.ITA_structured_patches_category,ax=axes[3],order=ITA_Categories_list).set_title(\"Categories Structured\")\n",
    "ax = sns.countplot(df.ITA_random_patches_20_category,ax=axes[4],order=ITA_Categories_list).set_title(\"Categories random\")\n",
    "# for i in range(0,5):\n",
    "#     axes[i].set_yscale('log')"
   ],
   "metadata": {
    "collapsed": false,
    "pycharm": {
     "name": "#%%\n"
    }
   }
  },
  {
   "cell_type": "markdown",
   "source": [
    "# Classification Performance"
   ],
   "metadata": {
    "collapsed": false
   }
  },
  {
   "cell_type": "code",
   "execution_count": 67,
   "outputs": [
    {
     "name": "stdout",
     "output_type": "stream",
     "text": [
      "ITA_orig_category\n"
     ]
    },
    {
     "name": "stderr",
     "output_type": "stream",
     "text": [
      "c:\\users\\c0rbin\\lib\\site-packages\\sklearn\\metrics\\_classification.py:1308: UndefinedMetricWarning: Precision and F-score are ill-defined and being set to 0.0 in labels with no predicted samples. Use `zero_division` parameter to control this behavior.\n",
      "  _warn_prf(average, modifier, msg_start, len(result))\n",
      "c:\\users\\c0rbin\\lib\\site-packages\\sklearn\\metrics\\_classification.py:1308: UndefinedMetricWarning: Precision and F-score are ill-defined and being set to 0.0 in labels with no predicted samples. Use `zero_division` parameter to control this behavior.\n",
      "  _warn_prf(average, modifier, msg_start, len(result))\n",
      "c:\\users\\c0rbin\\lib\\site-packages\\sklearn\\metrics\\_classification.py:1308: UndefinedMetricWarning: Precision and F-score are ill-defined and being set to 0.0 in labels with no predicted samples. Use `zero_division` parameter to control this behavior.\n",
      "  _warn_prf(average, modifier, msg_start, len(result))\n"
     ]
    },
    {
     "name": "stdout",
     "output_type": "stream",
     "text": [
      "              precision    recall  f1-score   support\n",
      "\n",
      "          -1       0.00      0.00      0.00       565\n",
      "           1       0.46      0.48      0.47      2947\n",
      "           2       0.43      0.17      0.24      4808\n",
      "           3       0.29      0.21      0.24      3308\n",
      "           4       0.22      0.15      0.18      2781\n",
      "           5       0.10      0.11      0.10      1533\n",
      "           6       0.09      0.79      0.16       635\n",
      "\n",
      "    accuracy                           0.24     16577\n",
      "   macro avg       0.23      0.27      0.20     16577\n",
      "weighted avg       0.31      0.24      0.25     16577\n",
      "\n",
      "hamming_loss 0.7600289557821077\n",
      "---------------\n",
      "ITA_center_cropped_category\n"
     ]
    },
    {
     "name": "stderr",
     "output_type": "stream",
     "text": [
      "c:\\users\\c0rbin\\lib\\site-packages\\sklearn\\metrics\\_classification.py:1308: UndefinedMetricWarning: Precision and F-score are ill-defined and being set to 0.0 in labels with no predicted samples. Use `zero_division` parameter to control this behavior.\n",
      "  _warn_prf(average, modifier, msg_start, len(result))\n",
      "c:\\users\\c0rbin\\lib\\site-packages\\sklearn\\metrics\\_classification.py:1308: UndefinedMetricWarning: Precision and F-score are ill-defined and being set to 0.0 in labels with no predicted samples. Use `zero_division` parameter to control this behavior.\n",
      "  _warn_prf(average, modifier, msg_start, len(result))\n",
      "c:\\users\\c0rbin\\lib\\site-packages\\sklearn\\metrics\\_classification.py:1308: UndefinedMetricWarning: Precision and F-score are ill-defined and being set to 0.0 in labels with no predicted samples. Use `zero_division` parameter to control this behavior.\n",
      "  _warn_prf(average, modifier, msg_start, len(result))\n"
     ]
    },
    {
     "name": "stdout",
     "output_type": "stream",
     "text": [
      "              precision    recall  f1-score   support\n",
      "\n",
      "          -1       0.00      0.00      0.00       565\n",
      "           1       0.46      0.41      0.43      2947\n",
      "           2       0.44      0.15      0.23      4808\n",
      "           3       0.28      0.18      0.22      3308\n",
      "           4       0.20      0.13      0.15      2781\n",
      "           5       0.07      0.09      0.08      1533\n",
      "           6       0.07      0.78      0.14       635\n",
      "\n",
      "    accuracy                           0.21     16577\n",
      "   macro avg       0.22      0.25      0.18     16577\n",
      "weighted avg       0.31      0.21      0.22     16577\n",
      "\n",
      "hamming_loss 0.7890450624359052\n",
      "---------------\n",
      "ITA_structured_patches_category\n"
     ]
    },
    {
     "name": "stderr",
     "output_type": "stream",
     "text": [
      "c:\\users\\c0rbin\\lib\\site-packages\\sklearn\\metrics\\_classification.py:1308: UndefinedMetricWarning: Precision and F-score are ill-defined and being set to 0.0 in labels with no predicted samples. Use `zero_division` parameter to control this behavior.\n",
      "  _warn_prf(average, modifier, msg_start, len(result))\n",
      "c:\\users\\c0rbin\\lib\\site-packages\\sklearn\\metrics\\_classification.py:1308: UndefinedMetricWarning: Precision and F-score are ill-defined and being set to 0.0 in labels with no predicted samples. Use `zero_division` parameter to control this behavior.\n",
      "  _warn_prf(average, modifier, msg_start, len(result))\n",
      "c:\\users\\c0rbin\\lib\\site-packages\\sklearn\\metrics\\_classification.py:1308: UndefinedMetricWarning: Precision and F-score are ill-defined and being set to 0.0 in labels with no predicted samples. Use `zero_division` parameter to control this behavior.\n",
      "  _warn_prf(average, modifier, msg_start, len(result))\n"
     ]
    },
    {
     "name": "stdout",
     "output_type": "stream",
     "text": [
      "              precision    recall  f1-score   support\n",
      "\n",
      "          -1       0.00      0.00      0.00       565\n",
      "           1       0.40      0.37      0.38      2947\n",
      "           2       0.43      0.13      0.20      4808\n",
      "           3       0.27      0.15      0.19      3308\n",
      "           4       0.20      0.11      0.14      2781\n",
      "           5       0.08      0.09      0.08      1533\n",
      "           6       0.06      0.72      0.11       635\n",
      "\n",
      "    accuracy                           0.19     16577\n",
      "   macro avg       0.21      0.22      0.16     16577\n",
      "weighted avg       0.29      0.19      0.20     16577\n",
      "\n",
      "hamming_loss 0.8134765035893105\n",
      "---------------\n",
      "ITA_random_patches_20_category\n"
     ]
    },
    {
     "name": "stderr",
     "output_type": "stream",
     "text": [
      "c:\\users\\c0rbin\\lib\\site-packages\\sklearn\\metrics\\_classification.py:1308: UndefinedMetricWarning: Precision and F-score are ill-defined and being set to 0.0 in labels with no predicted samples. Use `zero_division` parameter to control this behavior.\n",
      "  _warn_prf(average, modifier, msg_start, len(result))\n",
      "c:\\users\\c0rbin\\lib\\site-packages\\sklearn\\metrics\\_classification.py:1308: UndefinedMetricWarning: Precision and F-score are ill-defined and being set to 0.0 in labels with no predicted samples. Use `zero_division` parameter to control this behavior.\n",
      "  _warn_prf(average, modifier, msg_start, len(result))\n",
      "c:\\users\\c0rbin\\lib\\site-packages\\sklearn\\metrics\\_classification.py:1308: UndefinedMetricWarning: Precision and F-score are ill-defined and being set to 0.0 in labels with no predicted samples. Use `zero_division` parameter to control this behavior.\n",
      "  _warn_prf(average, modifier, msg_start, len(result))\n"
     ]
    },
    {
     "name": "stdout",
     "output_type": "stream",
     "text": [
      "              precision    recall  f1-score   support\n",
      "\n",
      "          -1       0.00      0.00      0.00       565\n",
      "           1       0.48      0.45      0.47      2947\n",
      "           2       0.43      0.17      0.24      4808\n",
      "           3       0.29      0.21      0.25      3308\n",
      "           4       0.23      0.16      0.19      2781\n",
      "           5       0.11      0.14      0.12      1533\n",
      "           6       0.09      0.80      0.16       635\n",
      "\n",
      "    accuracy                           0.24     16577\n",
      "   macro avg       0.23      0.28      0.20     16577\n",
      "weighted avg       0.32      0.24      0.25     16577\n",
      "\n",
      "hamming_loss 0.7569524039331604\n",
      "---------------\n"
     ]
    }
   ],
   "source": [
    "from sklearn import metrics\n",
    "for index, cat in enumerate(catagories_to_test):\n",
    "\n",
    "    category = f\"{cat}_category\"\n",
    "    ground_truth = \"label\"\n",
    "\n",
    "    #print(category, masked_cat)\n",
    "    df_temp = df[df[category].notna()]\n",
    "    df_temp = df_temp[df_temp[ground_truth].notna()]\n",
    "    print(category)\n",
    "    print(classification_report(df_temp[ground_truth],df_temp[category]))\n",
    "    print(\"hamming_loss\", hamming_loss(df_temp[ground_truth],df_temp[category]))\n",
    "    print(\"---------------\")"
   ],
   "metadata": {
    "collapsed": false,
    "pycharm": {
     "name": "#%%\n"
    }
   }
  },
  {
   "cell_type": "markdown",
   "source": [
    "## View Confusion matrix"
   ],
   "metadata": {
    "collapsed": false
   }
  },
  {
   "cell_type": "code",
   "execution_count": 68,
   "outputs": [
    {
     "data": {
      "text/plain": "<Figure size 504x504 with 0 Axes>"
     },
     "metadata": {},
     "output_type": "display_data"
    },
    {
     "data": {
      "text/plain": "<Figure size 1080x720 with 8 Axes>",
      "image/png": "[encoded data removed]"
     },
     "metadata": {
      "needs_background": "light"
     },
     "output_type": "display_data"
    }
   ],
   "source": [
    "plt.figure(figsize=(7, 7))\n",
    "cols = 2\n",
    "rows = 2\n",
    "fig, axes = plt.subplots(nrows=rows, ncols=cols, figsize=(15,10))\n",
    "\n",
    "plot_titles = [\"ITA Categories for Original\", \"ITA Categories for Center Cropped\", \"ITA Categories for Structured\", \"ITA Categories for Random Patches\",]\n",
    "\n",
    "for index, cat in enumerate(catagories_to_test):\n",
    "\n",
    "    category = f\"{cat}_category\"\n",
    "    masked_cat = \"label\"\n",
    "\n",
    "    #print(category, masked_cat)\n",
    "    df_temp = df[df[category].notna()]\n",
    "    df_temp = df_temp[df_temp[masked_cat].notna()]\n",
    "\n",
    "\n",
    "    cm = confusion_matrix(df_temp[masked_cat],df_temp[category],normalize=\"true\")\n",
    "    df_cm = pd.DataFrame(cm,columns=np.unique(df_temp[masked_cat].to_numpy()),index=np.unique(df_temp[masked_cat].to_numpy()))\n",
    "    row = index % cols\n",
    "    col = int(index/cols)\n",
    "    ax = sns.heatmap(df_cm, annot=True,cmap=\"Blues\",ax=axes[col,row])\n",
    "    ax.set_title(plot_titles[index])\n",
    "    ax.set_ylabel('True label')\n",
    "    ax.set_xlabel('Predicted label')\n",
    "plt.tight_layout()"
   ],
   "metadata": {
    "collapsed": false,
    "pycharm": {
     "name": "#%%\n"
    }
   }
  },
  {
   "cell_type": "code",
   "execution_count": null,
   "outputs": [],
   "source": [
    "# print out ones that are not the same\n",
    "for index, cat in enumerate(catagories_to_test):\n",
    "    category = f\"{cat}_category\"\n",
    "    df_rez = df[df[category] != df.label]\n",
    "    for index, row in df_rez.iterrows():\n",
    "\n",
    "        if row[category] == '6' and  row.label == '2':\n",
    "            #print(row.hash, row[\"file_path\"])\n",
    "            print(row.hash,row[category], row.label)\n",
    "    break\n",
    "    #print(df[category].unique())"
   ],
   "metadata": {
    "collapsed": false,
    "pycharm": {
     "name": "#%%\n"
    }
   }
  },
  {
   "cell_type": "code",
   "execution_count": null,
   "outputs": [],
   "source": [],
   "metadata": {
    "collapsed": false,
    "pycharm": {
     "name": "#%%\n"
    }
   }
  },
  {
   "cell_type": "markdown",
   "source": [
    "# Experiment by creating makes\n",
    "\n",
    "Create skin masks using [SkinDetection.py](https://github.com/CHEREF-Mehdi/SkinDetection/blob/master/SkinDetection.py)\n",
    "where we will then use that to filter out any image that doesnt have a lot of skin showing."
   ],
   "metadata": {
    "collapsed": false
   }
  },
  {
   "cell_type": "code",
   "execution_count": 70,
   "outputs": [
    {
     "data": {
      "text/plain": "   ITA_center_cropped                             ITA_center_cropped_all  \\\n0          -86.319973  [-95.49740514995437, -93.89204433188165, -88.1...   \n1           -4.368209  [69.14342626615937, 58.92391493893117, 54.9217...   \n2           63.902881  [71.3777488793279, 78.36055446746393, 72.34238...   \n3           -2.419620  [-71.81196041228813, -74.074964659075, -43.006...   \n4          -17.580304  [-82.36110662214149, -78.5225894924362, -69.97...   \n\n                          ITA_center_cropped_indices   ITA_orig  \\\n0  [[0, 0], [0, 1], [0, 2], [0, 3], [0, 4], [0, 5... -89.912399   \n1  [[0, 0], [0, 1], [0, 2], [0, 3], [0, 4], [0, 5...  31.707877   \n2  [[0, 0], [0, 1], [0, 2], [0, 3], [0, 4], [0, 5...  63.160622   \n3  [[0, 0], [0, 1], [0, 2], [0, 3], [0, 4], [0, 5... -17.835040   \n4  [[0, 0], [0, 1], [0, 2], [0, 3], [0, 4], [0, 5... -21.982334   \n\n  ITA_orig_category  ITA_random_patches_20  \\\n0                 6             -91.105563   \n1                 3              22.730282   \n2                 1              63.106361   \n3                 6             -19.772320   \n4                 6              -6.519836   \n\n                           ITA_random_patches_20_all  \\\n0  [19.079669270628532, -91.07185302683192, -91.1...   \n1  [51.09764944131233, 48.00058569586861, 52.2334...   \n2  [77.42464881639646, 70.74856447644632, 70.0776...   \n3  [-33.166476726493194, -23.164401316590613, -2....   \n4  [-14.653045358595628, -32.068731448543055, -35...   \n\n                       ITA_random_patches_20_indices  ITA_structured_patches  \\\n0  [[0, 5], [0, 13], [0, 15], [0, 17], [0, 21], [...              -81.299635   \n1  [[0, 3], [0, 5], [0, 7], [0, 16], [0, 17], [0,...              -27.032318   \n2  [[0, 3], [0, 10], [0, 18], [0, 23], [0, 24], [...               64.165841   \n3  [[0, 3], [0, 4], [0, 8], [0, 12], [0, 22], [0,...               -3.292246   \n4  [[0, 6], [0, 13], [0, 15], [0, 18], [0, 20], [...               -5.237348   \n\n                          ITA_structured_patches_all  \\\n0  [-95.49740514995437, -93.89204433188165, -88.1...   \n1  [69.14342626615937, 58.92391493893117, 54.9217...   \n2  [71.3777488793279, 78.36055446746393, 72.34238...   \n3  [-71.81196041228813, -74.074964659075, -43.006...   \n4  [-82.36110662214149, -78.5225894924362, -69.97...   \n\n                      ITA_structured_patches_indices  \\\n0  [[0, 0], [0, 1], [0, 2], [0, 3], [0, 4], [0, 5...   \n1  [[0, 0], [0, 1], [0, 2], [0, 3], [0, 4], [0, 5...   \n2  [[0, 0], [0, 1], [0, 2], [0, 3], [0, 4], [0, 5...   \n3  [[0, 0], [0, 1], [0, 2], [0, 3], [0, 4], [0, 5...   \n4  [[0, 0], [0, 1], [0, 2], [0, 3], [0, 4], [0, 5...   \n\n                                           file_path  \\\n0  data\\finalfitz17k\\000491af8dd4d739de520e8a68be...   \n1  data\\finalfitz17k\\0009d89a58dac26bb3c113744b7b...   \n2  data\\finalfitz17k\\000b6317b3be6d504e212a50e4d5...   \n3  data\\finalfitz17k\\000e8dd5ee75dd6668e978e7a4e6...   \n4  data\\finalfitz17k\\0012821d6f11b96cf33f2c2ee5c6...   \n\n                               hash  \\\n0  000491af8dd4d739de520e8a68be7134   \n1  0009d89a58dac26bb3c113744b7b4196   \n2  000b6317b3be6d504e212a50e4d5667f   \n3  000e8dd5ee75dd6668e978e7a4e6fe54   \n4  0012821d6f11b96cf33f2c2ee5c68d1f   \n\n                                               image  \\\n0  b'\\xff\\xd8\\xff\\xe0\\x00\\x10JFIF\\x00\\x01\\x01\\x01...   \n1  b'\\xff\\xd8\\xff\\xe0\\x00\\x10JFIF\\x00\\x01\\x02\\x00...   \n2  b'\\xff\\xd8\\xff\\xe0\\x00\\x10JFIF\\x00\\x01\\x01\\x01...   \n3  b'\\xff\\xd8\\xff\\xe0\\x00\\x10JFIF\\x00\\x01\\x02\\x01...   \n4  b'\\xff\\xd8\\xff\\xe0\\x00\\x10JFIF\\x00\\x01\\x02\\x00...   \n\n  ITA_center_cropped_category ITA_structured_patches_category  \\\n0                           6                               6   \n1                           6                               6   \n2                           1                               1   \n3                           6                               6   \n4                           6                               6   \n\n  ITA_random_patches_20_category label  \n0                              6     2  \n1                              4     3  \n2                              1     3  \n3                              6     5  \n4                              6     3  ",
      "text/html": "<div>\n<style scoped>\n    .dataframe tbody tr th:only-of-type {\n        vertical-align: middle;\n    }\n\n    .dataframe tbody tr th {\n        vertical-align: top;\n    }\n\n    .dataframe thead th {\n        text-align: right;\n    }\n</style>\n<table border=\"1\" class=\"dataframe\">\n  <thead>\n    <tr style=\"text-align: right;\">\n      <th></th>\n      <th>ITA_center_cropped</th>\n      <th>ITA_center_cropped_all</th>\n      <th>ITA_center_cropped_indices</th>\n      <th>ITA_orig</th>\n      <th>ITA_orig_category</th>\n      <th>ITA_random_patches_20</th>\n      <th>ITA_random_patches_20_all</th>\n      <th>ITA_random_patches_20_indices</th>\n      <th>ITA_structured_patches</th>\n      <th>ITA_structured_patches_all</th>\n      <th>ITA_structured_patches_indices</th>\n      <th>file_path</th>\n      <th>hash</th>\n      <th>image</th>\n      <th>ITA_center_cropped_category</th>\n      <th>ITA_structured_patches_category</th>\n      <th>ITA_random_patches_20_category</th>\n      <th>label</th>\n    </tr>\n  </thead>\n  <tbody>\n    <tr>\n      <th>0</th>\n      <td>-86.319973</td>\n      <td>[-95.49740514995437, -93.89204433188165, -88.1...</td>\n      <td>[[0, 0], [0, 1], [0, 2], [0, 3], [0, 4], [0, 5...</td>\n      <td>-89.912399</td>\n      <td>6</td>\n      <td>-91.105563</td>\n      <td>[19.079669270628532, -91.07185302683192, -91.1...</td>\n      <td>[[0, 5], [0, 13], [0, 15], [0, 17], [0, 21], [...</td>\n      <td>-81.299635</td>\n      <td>[-95.49740514995437, -93.89204433188165, -88.1...</td>\n      <td>[[0, 0], [0, 1], [0, 2], [0, 3], [0, 4], [0, 5...</td>\n      <td>data\\finalfitz17k\\000491af8dd4d739de520e8a68be...</td>\n      <td>000491af8dd4d739de520e8a68be7134</td>\n      <td>b'\\xff\\xd8\\xff\\xe0\\x00\\x10JFIF\\x00\\x01\\x01\\x01...</td>\n      <td>6</td>\n      <td>6</td>\n      <td>6</td>\n      <td>2</td>\n    </tr>\n    <tr>\n      <th>1</th>\n      <td>-4.368209</td>\n      <td>[69.14342626615937, 58.92391493893117, 54.9217...</td>\n      <td>[[0, 0], [0, 1], [0, 2], [0, 3], [0, 4], [0, 5...</td>\n      <td>31.707877</td>\n      <td>3</td>\n      <td>22.730282</td>\n      <td>[51.09764944131233, 48.00058569586861, 52.2334...</td>\n      <td>[[0, 3], [0, 5], [0, 7], [0, 16], [0, 17], [0,...</td>\n      <td>-27.032318</td>\n      <td>[69.14342626615937, 58.92391493893117, 54.9217...</td>\n      <td>[[0, 0], [0, 1], [0, 2], [0, 3], [0, 4], [0, 5...</td>\n      <td>data\\finalfitz17k\\0009d89a58dac26bb3c113744b7b...</td>\n      <td>0009d89a58dac26bb3c113744b7b4196</td>\n      <td>b'\\xff\\xd8\\xff\\xe0\\x00\\x10JFIF\\x00\\x01\\x02\\x00...</td>\n      <td>6</td>\n      <td>6</td>\n      <td>4</td>\n      <td>3</td>\n    </tr>\n    <tr>\n      <th>2</th>\n      <td>63.902881</td>\n      <td>[71.3777488793279, 78.36055446746393, 72.34238...</td>\n      <td>[[0, 0], [0, 1], [0, 2], [0, 3], [0, 4], [0, 5...</td>\n      <td>63.160622</td>\n      <td>1</td>\n      <td>63.106361</td>\n      <td>[77.42464881639646, 70.74856447644632, 70.0776...</td>\n      <td>[[0, 3], [0, 10], [0, 18], [0, 23], [0, 24], [...</td>\n      <td>64.165841</td>\n      <td>[71.3777488793279, 78.36055446746393, 72.34238...</td>\n      <td>[[0, 0], [0, 1], [0, 2], [0, 3], [0, 4], [0, 5...</td>\n      <td>data\\finalfitz17k\\000b6317b3be6d504e212a50e4d5...</td>\n      <td>000b6317b3be6d504e212a50e4d5667f</td>\n      <td>b'\\xff\\xd8\\xff\\xe0\\x00\\x10JFIF\\x00\\x01\\x01\\x01...</td>\n      <td>1</td>\n      <td>1</td>\n      <td>1</td>\n      <td>3</td>\n    </tr>\n    <tr>\n      <th>3</th>\n      <td>-2.419620</td>\n      <td>[-71.81196041228813, -74.074964659075, -43.006...</td>\n      <td>[[0, 0], [0, 1], [0, 2], [0, 3], [0, 4], [0, 5...</td>\n      <td>-17.835040</td>\n      <td>6</td>\n      <td>-19.772320</td>\n      <td>[-33.166476726493194, -23.164401316590613, -2....</td>\n      <td>[[0, 3], [0, 4], [0, 8], [0, 12], [0, 22], [0,...</td>\n      <td>-3.292246</td>\n      <td>[-71.81196041228813, -74.074964659075, -43.006...</td>\n      <td>[[0, 0], [0, 1], [0, 2], [0, 3], [0, 4], [0, 5...</td>\n      <td>data\\finalfitz17k\\000e8dd5ee75dd6668e978e7a4e6...</td>\n      <td>000e8dd5ee75dd6668e978e7a4e6fe54</td>\n      <td>b'\\xff\\xd8\\xff\\xe0\\x00\\x10JFIF\\x00\\x01\\x02\\x01...</td>\n      <td>6</td>\n      <td>6</td>\n      <td>6</td>\n      <td>5</td>\n    </tr>\n    <tr>\n      <th>4</th>\n      <td>-17.580304</td>\n      <td>[-82.36110662214149, -78.5225894924362, -69.97...</td>\n      <td>[[0, 0], [0, 1], [0, 2], [0, 3], [0, 4], [0, 5...</td>\n      <td>-21.982334</td>\n      <td>6</td>\n      <td>-6.519836</td>\n      <td>[-14.653045358595628, -32.068731448543055, -35...</td>\n      <td>[[0, 6], [0, 13], [0, 15], [0, 18], [0, 20], [...</td>\n      <td>-5.237348</td>\n      <td>[-82.36110662214149, -78.5225894924362, -69.97...</td>\n      <td>[[0, 0], [0, 1], [0, 2], [0, 3], [0, 4], [0, 5...</td>\n      <td>data\\finalfitz17k\\0012821d6f11b96cf33f2c2ee5c6...</td>\n      <td>0012821d6f11b96cf33f2c2ee5c68d1f</td>\n      <td>b'\\xff\\xd8\\xff\\xe0\\x00\\x10JFIF\\x00\\x01\\x02\\x00...</td>\n      <td>6</td>\n      <td>6</td>\n      <td>6</td>\n      <td>3</td>\n    </tr>\n  </tbody>\n</table>\n</div>"
     },
     "execution_count": 70,
     "metadata": {},
     "output_type": "execute_result"
    }
   ],
   "source": [
    "df.head()"
   ],
   "metadata": {
    "collapsed": false,
    "pycharm": {
     "name": "#%%\n"
    }
   }
  },
  {
   "cell_type": "code",
   "execution_count": 71,
   "outputs": [],
   "source": [
    "\"\"\"\n",
    "Steps\n",
    "1. Read image\n",
    "2. Create HSV mask\n",
    "3. Create YCrCb mask\n",
    "4. Merge masks\n",
    "5. Store global mask\n",
    "6. Compute % skin of image\n",
    "\"\"\"\n",
    "\n",
    "def compute_skin_masks(row):\n",
    "    img = cv2.imread(row.file_path)\n",
    "\n",
    "    #converting from gbr to hsv color space\n",
    "    img_HSV = cv2.cvtColor(img, cv2.COLOR_BGR2HSV)\n",
    "    #skin color range for hsv color space\n",
    "    HSV_mask = cv2.inRange(img_HSV, (0, 15, 0), (17, 170, 255))\n",
    "    HSV_mask = cv2.morphologyEx(HSV_mask, cv2.MORPH_OPEN, np.ones((3, 3), np.uint8))\n",
    "\n",
    "    #converting from gbr to YCbCr color space\n",
    "    img_YCrCb = cv2.cvtColor(img, cv2.COLOR_BGR2YCrCb)\n",
    "    #skin color range for hsv color space\n",
    "    YCrCb_mask = cv2.inRange(img_YCrCb, (0, 135, 85), (255, 180, 135))\n",
    "    YCrCb_mask = cv2.morphologyEx(YCrCb_mask, cv2.MORPH_OPEN, np.ones((3, 3), np.uint8))\n",
    "\n",
    "    #merge skin detection (YCbCr and hsv)\n",
    "    global_mask = cv2.bitwise_and(YCrCb_mask, HSV_mask)\n",
    "    global_mask = cv2.medianBlur(global_mask, 3)\n",
    "    global_mask = cv2.morphologyEx(global_mask, cv2.MORPH_OPEN, np.ones((4, 4), np.uint8))\n",
    "\n",
    "    global_result = cv2.bitwise_not(global_mask)\n",
    "\n",
    "    mask_array = np.array(global_result)\n",
    "    total = mask_array.size\n",
    "    mask_count = np.count_nonzero(mask_array)\n",
    "    percentage = mask_count / total\n",
    "    row[\"skin_detection_percentage\"] = math.ceil(percentage * 100)\n",
    "    return row\n"
   ],
   "metadata": {
    "collapsed": false,
    "pycharm": {
     "name": "#%%\n"
    }
   }
  },
  {
   "cell_type": "code",
   "execution_count": 72,
   "outputs": [],
   "source": [
    "df = df.apply(compute_skin_masks, axis=1)"
   ],
   "metadata": {
    "collapsed": false,
    "pycharm": {
     "name": "#%%\n"
    }
   }
  },
  {
   "cell_type": "code",
   "execution_count": 73,
   "outputs": [
    {
     "data": {
      "text/plain": "   ITA_center_cropped                             ITA_center_cropped_all  \\\n0          -86.319973  [-95.49740514995437, -93.89204433188165, -88.1...   \n1           -4.368209  [69.14342626615937, 58.92391493893117, 54.9217...   \n2           63.902881  [71.3777488793279, 78.36055446746393, 72.34238...   \n3           -2.419620  [-71.81196041228813, -74.074964659075, -43.006...   \n4          -17.580304  [-82.36110662214149, -78.5225894924362, -69.97...   \n\n                          ITA_center_cropped_indices   ITA_orig  \\\n0  [[0, 0], [0, 1], [0, 2], [0, 3], [0, 4], [0, 5... -89.912399   \n1  [[0, 0], [0, 1], [0, 2], [0, 3], [0, 4], [0, 5...  31.707877   \n2  [[0, 0], [0, 1], [0, 2], [0, 3], [0, 4], [0, 5...  63.160622   \n3  [[0, 0], [0, 1], [0, 2], [0, 3], [0, 4], [0, 5... -17.835040   \n4  [[0, 0], [0, 1], [0, 2], [0, 3], [0, 4], [0, 5... -21.982334   \n\n  ITA_orig_category  ITA_random_patches_20  \\\n0                 6             -91.105563   \n1                 3              22.730282   \n2                 1              63.106361   \n3                 6             -19.772320   \n4                 6              -6.519836   \n\n                           ITA_random_patches_20_all  \\\n0  [19.079669270628532, -91.07185302683192, -91.1...   \n1  [51.09764944131233, 48.00058569586861, 52.2334...   \n2  [77.42464881639646, 70.74856447644632, 70.0776...   \n3  [-33.166476726493194, -23.164401316590613, -2....   \n4  [-14.653045358595628, -32.068731448543055, -35...   \n\n                       ITA_random_patches_20_indices  ITA_structured_patches  \\\n0  [[0, 5], [0, 13], [0, 15], [0, 17], [0, 21], [...              -81.299635   \n1  [[0, 3], [0, 5], [0, 7], [0, 16], [0, 17], [0,...              -27.032318   \n2  [[0, 3], [0, 10], [0, 18], [0, 23], [0, 24], [...               64.165841   \n3  [[0, 3], [0, 4], [0, 8], [0, 12], [0, 22], [0,...               -3.292246   \n4  [[0, 6], [0, 13], [0, 15], [0, 18], [0, 20], [...               -5.237348   \n\n                          ITA_structured_patches_all  \\\n0  [-95.49740514995437, -93.89204433188165, -88.1...   \n1  [69.14342626615937, 58.92391493893117, 54.9217...   \n2  [71.3777488793279, 78.36055446746393, 72.34238...   \n3  [-71.81196041228813, -74.074964659075, -43.006...   \n4  [-82.36110662214149, -78.5225894924362, -69.97...   \n\n                      ITA_structured_patches_indices  \\\n0  [[0, 0], [0, 1], [0, 2], [0, 3], [0, 4], [0, 5...   \n1  [[0, 0], [0, 1], [0, 2], [0, 3], [0, 4], [0, 5...   \n2  [[0, 0], [0, 1], [0, 2], [0, 3], [0, 4], [0, 5...   \n3  [[0, 0], [0, 1], [0, 2], [0, 3], [0, 4], [0, 5...   \n4  [[0, 0], [0, 1], [0, 2], [0, 3], [0, 4], [0, 5...   \n\n                                           file_path  \\\n0  data\\finalfitz17k\\000491af8dd4d739de520e8a68be...   \n1  data\\finalfitz17k\\0009d89a58dac26bb3c113744b7b...   \n2  data\\finalfitz17k\\000b6317b3be6d504e212a50e4d5...   \n3  data\\finalfitz17k\\000e8dd5ee75dd6668e978e7a4e6...   \n4  data\\finalfitz17k\\0012821d6f11b96cf33f2c2ee5c6...   \n\n                               hash  \\\n0  000491af8dd4d739de520e8a68be7134   \n1  0009d89a58dac26bb3c113744b7b4196   \n2  000b6317b3be6d504e212a50e4d5667f   \n3  000e8dd5ee75dd6668e978e7a4e6fe54   \n4  0012821d6f11b96cf33f2c2ee5c68d1f   \n\n                                               image  \\\n0  b'\\xff\\xd8\\xff\\xe0\\x00\\x10JFIF\\x00\\x01\\x01\\x01...   \n1  b'\\xff\\xd8\\xff\\xe0\\x00\\x10JFIF\\x00\\x01\\x02\\x00...   \n2  b'\\xff\\xd8\\xff\\xe0\\x00\\x10JFIF\\x00\\x01\\x01\\x01...   \n3  b'\\xff\\xd8\\xff\\xe0\\x00\\x10JFIF\\x00\\x01\\x02\\x01...   \n4  b'\\xff\\xd8\\xff\\xe0\\x00\\x10JFIF\\x00\\x01\\x02\\x00...   \n\n  ITA_center_cropped_category ITA_structured_patches_category  \\\n0                           6                               6   \n1                           6                               6   \n2                           1                               1   \n3                           6                               6   \n4                           6                               6   \n\n  ITA_random_patches_20_category label  skin_detection_percentage  \n0                              6     2                         88  \n1                              4     3                         47  \n2                              1     3                          5  \n3                              6     5                         20  \n4                              6     3                         14  ",
      "text/html": "<div>\n<style scoped>\n    .dataframe tbody tr th:only-of-type {\n        vertical-align: middle;\n    }\n\n    .dataframe tbody tr th {\n        vertical-align: top;\n    }\n\n    .dataframe thead th {\n        text-align: right;\n    }\n</style>\n<table border=\"1\" class=\"dataframe\">\n  <thead>\n    <tr style=\"text-align: right;\">\n      <th></th>\n      <th>ITA_center_cropped</th>\n      <th>ITA_center_cropped_all</th>\n      <th>ITA_center_cropped_indices</th>\n      <th>ITA_orig</th>\n      <th>ITA_orig_category</th>\n      <th>ITA_random_patches_20</th>\n      <th>ITA_random_patches_20_all</th>\n      <th>ITA_random_patches_20_indices</th>\n      <th>ITA_structured_patches</th>\n      <th>ITA_structured_patches_all</th>\n      <th>ITA_structured_patches_indices</th>\n      <th>file_path</th>\n      <th>hash</th>\n      <th>image</th>\n      <th>ITA_center_cropped_category</th>\n      <th>ITA_structured_patches_category</th>\n      <th>ITA_random_patches_20_category</th>\n      <th>label</th>\n      <th>skin_detection_percentage</th>\n    </tr>\n  </thead>\n  <tbody>\n    <tr>\n      <th>0</th>\n      <td>-86.319973</td>\n      <td>[-95.49740514995437, -93.89204433188165, -88.1...</td>\n      <td>[[0, 0], [0, 1], [0, 2], [0, 3], [0, 4], [0, 5...</td>\n      <td>-89.912399</td>\n      <td>6</td>\n      <td>-91.105563</td>\n      <td>[19.079669270628532, -91.07185302683192, -91.1...</td>\n      <td>[[0, 5], [0, 13], [0, 15], [0, 17], [0, 21], [...</td>\n      <td>-81.299635</td>\n      <td>[-95.49740514995437, -93.89204433188165, -88.1...</td>\n      <td>[[0, 0], [0, 1], [0, 2], [0, 3], [0, 4], [0, 5...</td>\n      <td>data\\finalfitz17k\\000491af8dd4d739de520e8a68be...</td>\n      <td>000491af8dd4d739de520e8a68be7134</td>\n      <td>b'\\xff\\xd8\\xff\\xe0\\x00\\x10JFIF\\x00\\x01\\x01\\x01...</td>\n      <td>6</td>\n      <td>6</td>\n      <td>6</td>\n      <td>2</td>\n      <td>88</td>\n    </tr>\n    <tr>\n      <th>1</th>\n      <td>-4.368209</td>\n      <td>[69.14342626615937, 58.92391493893117, 54.9217...</td>\n      <td>[[0, 0], [0, 1], [0, 2], [0, 3], [0, 4], [0, 5...</td>\n      <td>31.707877</td>\n      <td>3</td>\n      <td>22.730282</td>\n      <td>[51.09764944131233, 48.00058569586861, 52.2334...</td>\n      <td>[[0, 3], [0, 5], [0, 7], [0, 16], [0, 17], [0,...</td>\n      <td>-27.032318</td>\n      <td>[69.14342626615937, 58.92391493893117, 54.9217...</td>\n      <td>[[0, 0], [0, 1], [0, 2], [0, 3], [0, 4], [0, 5...</td>\n      <td>data\\finalfitz17k\\0009d89a58dac26bb3c113744b7b...</td>\n      <td>0009d89a58dac26bb3c113744b7b4196</td>\n      <td>b'\\xff\\xd8\\xff\\xe0\\x00\\x10JFIF\\x00\\x01\\x02\\x00...</td>\n      <td>6</td>\n      <td>6</td>\n      <td>4</td>\n      <td>3</td>\n      <td>47</td>\n    </tr>\n    <tr>\n      <th>2</th>\n      <td>63.902881</td>\n      <td>[71.3777488793279, 78.36055446746393, 72.34238...</td>\n      <td>[[0, 0], [0, 1], [0, 2], [0, 3], [0, 4], [0, 5...</td>\n      <td>63.160622</td>\n      <td>1</td>\n      <td>63.106361</td>\n      <td>[77.42464881639646, 70.74856447644632, 70.0776...</td>\n      <td>[[0, 3], [0, 10], [0, 18], [0, 23], [0, 24], [...</td>\n      <td>64.165841</td>\n      <td>[71.3777488793279, 78.36055446746393, 72.34238...</td>\n      <td>[[0, 0], [0, 1], [0, 2], [0, 3], [0, 4], [0, 5...</td>\n      <td>data\\finalfitz17k\\000b6317b3be6d504e212a50e4d5...</td>\n      <td>000b6317b3be6d504e212a50e4d5667f</td>\n      <td>b'\\xff\\xd8\\xff\\xe0\\x00\\x10JFIF\\x00\\x01\\x01\\x01...</td>\n      <td>1</td>\n      <td>1</td>\n      <td>1</td>\n      <td>3</td>\n      <td>5</td>\n    </tr>\n    <tr>\n      <th>3</th>\n      <td>-2.419620</td>\n      <td>[-71.81196041228813, -74.074964659075, -43.006...</td>\n      <td>[[0, 0], [0, 1], [0, 2], [0, 3], [0, 4], [0, 5...</td>\n      <td>-17.835040</td>\n      <td>6</td>\n      <td>-19.772320</td>\n      <td>[-33.166476726493194, -23.164401316590613, -2....</td>\n      <td>[[0, 3], [0, 4], [0, 8], [0, 12], [0, 22], [0,...</td>\n      <td>-3.292246</td>\n      <td>[-71.81196041228813, -74.074964659075, -43.006...</td>\n      <td>[[0, 0], [0, 1], [0, 2], [0, 3], [0, 4], [0, 5...</td>\n      <td>data\\finalfitz17k\\000e8dd5ee75dd6668e978e7a4e6...</td>\n      <td>000e8dd5ee75dd6668e978e7a4e6fe54</td>\n      <td>b'\\xff\\xd8\\xff\\xe0\\x00\\x10JFIF\\x00\\x01\\x02\\x01...</td>\n      <td>6</td>\n      <td>6</td>\n      <td>6</td>\n      <td>5</td>\n      <td>20</td>\n    </tr>\n    <tr>\n      <th>4</th>\n      <td>-17.580304</td>\n      <td>[-82.36110662214149, -78.5225894924362, -69.97...</td>\n      <td>[[0, 0], [0, 1], [0, 2], [0, 3], [0, 4], [0, 5...</td>\n      <td>-21.982334</td>\n      <td>6</td>\n      <td>-6.519836</td>\n      <td>[-14.653045358595628, -32.068731448543055, -35...</td>\n      <td>[[0, 6], [0, 13], [0, 15], [0, 18], [0, 20], [...</td>\n      <td>-5.237348</td>\n      <td>[-82.36110662214149, -78.5225894924362, -69.97...</td>\n      <td>[[0, 0], [0, 1], [0, 2], [0, 3], [0, 4], [0, 5...</td>\n      <td>data\\finalfitz17k\\0012821d6f11b96cf33f2c2ee5c6...</td>\n      <td>0012821d6f11b96cf33f2c2ee5c68d1f</td>\n      <td>b'\\xff\\xd8\\xff\\xe0\\x00\\x10JFIF\\x00\\x01\\x02\\x00...</td>\n      <td>6</td>\n      <td>6</td>\n      <td>6</td>\n      <td>3</td>\n      <td>14</td>\n    </tr>\n  </tbody>\n</table>\n</div>"
     },
     "execution_count": 73,
     "metadata": {},
     "output_type": "execute_result"
    }
   ],
   "source": [
    "df.head()"
   ],
   "metadata": {
    "collapsed": false,
    "pycharm": {
     "name": "#%%\n"
    }
   }
  },
  {
   "cell_type": "code",
   "execution_count": 74,
   "outputs": [
    {
     "data": {
      "text/plain": "Text(0.5, 0, 'Skin percentage')"
     },
     "execution_count": 74,
     "metadata": {},
     "output_type": "execute_result"
    },
    {
     "data": {
      "text/plain": "<Figure size 432x288 with 1 Axes>",
      "image/png": "[encoded data removed]"
     },
     "metadata": {
      "needs_background": "light"
     },
     "output_type": "display_data"
    }
   ],
   "source": [
    "ax = sns.histplot(data=df.skin_detection_percentage, bins=10)\n",
    "ax.set_title(\"Distribution of skin masks sizes\")\n",
    "ax.set_xlabel(\"Skin percentage\")"
   ],
   "metadata": {
    "collapsed": false,
    "pycharm": {
     "name": "#%%\n"
    }
   }
  },
  {
   "cell_type": "markdown",
   "source": [
    "## Filtered images\n",
    "We will only look at images where the skin was detected 50%> and see how well the appraches worked for these images"
   ],
   "metadata": {
    "collapsed": false
   }
  },
  {
   "cell_type": "code",
   "execution_count": 75,
   "outputs": [],
   "source": [
    "df_filtered = df[df.skin_detection_percentage >= 70]"
   ],
   "metadata": {
    "collapsed": false,
    "pycharm": {
     "name": "#%%\n"
    }
   }
  },
  {
   "cell_type": "code",
   "execution_count": 76,
   "outputs": [
    {
     "name": "stdout",
     "output_type": "stream",
     "text": [
      "<class 'pandas.core.frame.DataFrame'>\n",
      "RangeIndex: 16577 entries, 0 to 16576\n",
      "Data columns (total 19 columns):\n",
      " #   Column                           Non-Null Count  Dtype  \n",
      "---  ------                           --------------  -----  \n",
      " 0   ITA_center_cropped               16577 non-null  float64\n",
      " 1   ITA_center_cropped_all           16574 non-null  object \n",
      " 2   ITA_center_cropped_indices       16574 non-null  object \n",
      " 3   ITA_orig                         16577 non-null  float64\n",
      " 4   ITA_orig_category                16577 non-null  object \n",
      " 5   ITA_random_patches_20            16577 non-null  float64\n",
      " 6   ITA_random_patches_20_all        16574 non-null  object \n",
      " 7   ITA_random_patches_20_indices    16574 non-null  object \n",
      " 8   ITA_structured_patches           16577 non-null  float64\n",
      " 9   ITA_structured_patches_all       16574 non-null  object \n",
      " 10  ITA_structured_patches_indices   16574 non-null  object \n",
      " 11  file_path                        16577 non-null  object \n",
      " 12  hash                             16577 non-null  object \n",
      " 13  image                            16577 non-null  object \n",
      " 14  ITA_center_cropped_category      16577 non-null  object \n",
      " 15  ITA_structured_patches_category  16577 non-null  object \n",
      " 16  ITA_random_patches_20_category   16577 non-null  object \n",
      " 17  label                            16577 non-null  object \n",
      " 18  skin_detection_percentage        16577 non-null  int64  \n",
      "dtypes: float64(4), int64(1), object(14)\n",
      "memory usage: 2.4+ MB\n"
     ]
    }
   ],
   "source": [
    "df.info()"
   ],
   "metadata": {
    "collapsed": false,
    "pycharm": {
     "name": "#%%\n"
    }
   }
  },
  {
   "cell_type": "code",
   "execution_count": 77,
   "outputs": [
    {
     "name": "stdout",
     "output_type": "stream",
     "text": [
      "<class 'pandas.core.frame.DataFrame'>\n",
      "Int64Index: 2900 entries, 0 to 16576\n",
      "Data columns (total 19 columns):\n",
      " #   Column                           Non-Null Count  Dtype  \n",
      "---  ------                           --------------  -----  \n",
      " 0   ITA_center_cropped               2900 non-null   float64\n",
      " 1   ITA_center_cropped_all           2897 non-null   object \n",
      " 2   ITA_center_cropped_indices       2897 non-null   object \n",
      " 3   ITA_orig                         2900 non-null   float64\n",
      " 4   ITA_orig_category                2900 non-null   object \n",
      " 5   ITA_random_patches_20            2900 non-null   float64\n",
      " 6   ITA_random_patches_20_all        2897 non-null   object \n",
      " 7   ITA_random_patches_20_indices    2897 non-null   object \n",
      " 8   ITA_structured_patches           2900 non-null   float64\n",
      " 9   ITA_structured_patches_all       2897 non-null   object \n",
      " 10  ITA_structured_patches_indices   2897 non-null   object \n",
      " 11  file_path                        2900 non-null   object \n",
      " 12  hash                             2900 non-null   object \n",
      " 13  image                            2900 non-null   object \n",
      " 14  ITA_center_cropped_category      2900 non-null   object \n",
      " 15  ITA_structured_patches_category  2900 non-null   object \n",
      " 16  ITA_random_patches_20_category   2900 non-null   object \n",
      " 17  label                            2900 non-null   object \n",
      " 18  skin_detection_percentage        2900 non-null   int64  \n",
      "dtypes: float64(4), int64(1), object(14)\n",
      "memory usage: 453.1+ KB\n"
     ]
    }
   ],
   "source": [
    "df_filtered.info()"
   ],
   "metadata": {
    "collapsed": false,
    "pycharm": {
     "name": "#%%\n"
    }
   }
  },
  {
   "cell_type": "markdown",
   "source": [
    "## New Distribution"
   ],
   "metadata": {
    "collapsed": false
   }
  },
  {
   "cell_type": "code",
   "execution_count": 78,
   "outputs": [
    {
     "data": {
      "text/plain": "<Figure size 2016x504 with 5 Axes>",
      "image/png": "[encoded data removed]"
     },
     "metadata": {
      "needs_background": "light"
     },
     "output_type": "display_data"
    }
   ],
   "source": [
    "f, axes = plt.subplots(1, 5)\n",
    "f.set_size_inches(28,7)\n",
    "\n",
    "ax = sns.countplot(df_filtered.label,ax=axes[0],order=ITA_Categories_list).set_title(\"Categories GT\")\n",
    "ax = sns.countplot(df_filtered.ITA_orig_category,ax=axes[1],order=ITA_Categories_list).set_title(\"Categories Original\")\n",
    "ax = sns.countplot(df_filtered.ITA_center_cropped_category,ax=axes[2],order=ITA_Categories_list).set_title(\"Categories with centered cropped\")\n",
    "ax = sns.countplot(df_filtered.ITA_structured_patches_category,ax=axes[3],order=ITA_Categories_list).set_title(\"Categories Structured\")\n",
    "ax = sns.countplot(df_filtered.ITA_random_patches_20_category,ax=axes[4],order=ITA_Categories_list).set_title(\"Categories random\")"
   ],
   "metadata": {
    "collapsed": false,
    "pycharm": {
     "name": "#%%\n"
    }
   }
  },
  {
   "cell_type": "code",
   "execution_count": 79,
   "outputs": [
    {
     "name": "stdout",
     "output_type": "stream",
     "text": [
      "ITA_orig_category\n",
      "              precision    recall  f1-score   support\n",
      "\n",
      "          -1       0.00      0.00      0.00       271\n",
      "           1       0.45      0.67      0.54       845\n",
      "           2       0.34      0.07      0.12       740\n",
      "           3       0.18      0.07      0.11       379\n",
      "           4       0.15      0.05      0.07       293\n",
      "           5       0.04      0.03      0.03       193\n",
      "           6       0.11      0.70      0.20       179\n",
      "\n",
      "    accuracy                           0.27      2900\n",
      "   macro avg       0.18      0.23      0.15      2900\n",
      "weighted avg       0.27      0.27      0.22      2900\n",
      "\n",
      "hamming_loss 0.7268965517241379\n",
      "---------------\n",
      "ITA_center_cropped_category\n"
     ]
    },
    {
     "name": "stderr",
     "output_type": "stream",
     "text": [
      "c:\\users\\c0rbin\\lib\\site-packages\\sklearn\\metrics\\_classification.py:1308: UndefinedMetricWarning: Precision and F-score are ill-defined and being set to 0.0 in labels with no predicted samples. Use `zero_division` parameter to control this behavior.\n",
      "  _warn_prf(average, modifier, msg_start, len(result))\n",
      "c:\\users\\c0rbin\\lib\\site-packages\\sklearn\\metrics\\_classification.py:1308: UndefinedMetricWarning: Precision and F-score are ill-defined and being set to 0.0 in labels with no predicted samples. Use `zero_division` parameter to control this behavior.\n",
      "  _warn_prf(average, modifier, msg_start, len(result))\n",
      "c:\\users\\c0rbin\\lib\\site-packages\\sklearn\\metrics\\_classification.py:1308: UndefinedMetricWarning: Precision and F-score are ill-defined and being set to 0.0 in labels with no predicted samples. Use `zero_division` parameter to control this behavior.\n",
      "  _warn_prf(average, modifier, msg_start, len(result))\n",
      "c:\\users\\c0rbin\\lib\\site-packages\\sklearn\\metrics\\_classification.py:1308: UndefinedMetricWarning: Precision and F-score are ill-defined and being set to 0.0 in labels with no predicted samples. Use `zero_division` parameter to control this behavior.\n",
      "  _warn_prf(average, modifier, msg_start, len(result))\n",
      "c:\\users\\c0rbin\\lib\\site-packages\\sklearn\\metrics\\_classification.py:1308: UndefinedMetricWarning: Precision and F-score are ill-defined and being set to 0.0 in labels with no predicted samples. Use `zero_division` parameter to control this behavior.\n",
      "  _warn_prf(average, modifier, msg_start, len(result))\n",
      "c:\\users\\c0rbin\\lib\\site-packages\\sklearn\\metrics\\_classification.py:1308: UndefinedMetricWarning: Precision and F-score are ill-defined and being set to 0.0 in labels with no predicted samples. Use `zero_division` parameter to control this behavior.\n",
      "  _warn_prf(average, modifier, msg_start, len(result))\n",
      "c:\\users\\c0rbin\\lib\\site-packages\\sklearn\\metrics\\_classification.py:1308: UndefinedMetricWarning: Precision and F-score are ill-defined and being set to 0.0 in labels with no predicted samples. Use `zero_division` parameter to control this behavior.\n",
      "  _warn_prf(average, modifier, msg_start, len(result))\n",
      "c:\\users\\c0rbin\\lib\\site-packages\\sklearn\\metrics\\_classification.py:1308: UndefinedMetricWarning: Precision and F-score are ill-defined and being set to 0.0 in labels with no predicted samples. Use `zero_division` parameter to control this behavior.\n",
      "  _warn_prf(average, modifier, msg_start, len(result))\n",
      "c:\\users\\c0rbin\\lib\\site-packages\\sklearn\\metrics\\_classification.py:1308: UndefinedMetricWarning: Precision and F-score are ill-defined and being set to 0.0 in labels with no predicted samples. Use `zero_division` parameter to control this behavior.\n",
      "  _warn_prf(average, modifier, msg_start, len(result))\n"
     ]
    },
    {
     "name": "stdout",
     "output_type": "stream",
     "text": [
      "              precision    recall  f1-score   support\n",
      "\n",
      "          -1       0.00      0.00      0.00       271\n",
      "           1       0.45      0.56      0.50       845\n",
      "           2       0.31      0.08      0.12       740\n",
      "           3       0.21      0.08      0.12       379\n",
      "           4       0.15      0.05      0.08       293\n",
      "           5       0.09      0.06      0.07       193\n",
      "           6       0.10      0.71      0.17       179\n",
      "\n",
      "    accuracy                           0.25      2900\n",
      "   macro avg       0.19      0.22      0.15      2900\n",
      "weighted avg       0.26      0.25      0.22      2900\n",
      "\n",
      "hamming_loss 0.7527586206896552\n",
      "---------------\n",
      "ITA_structured_patches_category\n",
      "              precision    recall  f1-score   support\n",
      "\n",
      "          -1       0.00      0.00      0.00       271\n",
      "           1       0.42      0.51      0.46       845\n",
      "           2       0.28      0.06      0.10       740\n",
      "           3       0.19      0.06      0.09       379\n",
      "           4       0.14      0.04      0.07       293\n",
      "           5       0.03      0.02      0.02       193\n",
      "           6       0.09      0.67      0.15       179\n",
      "\n",
      "    accuracy                           0.22      2900\n",
      "   macro avg       0.16      0.19      0.13      2900\n",
      "weighted avg       0.24      0.22      0.19      2900\n",
      "\n",
      "hamming_loss 0.7817241379310345\n",
      "---------------\n",
      "ITA_random_patches_20_category\n",
      "              precision    recall  f1-score   support\n",
      "\n",
      "          -1       0.00      0.00      0.00       271\n",
      "           1       0.46      0.63      0.53       845\n",
      "           2       0.33      0.09      0.14       740\n",
      "           3       0.20      0.08      0.12       379\n",
      "           4       0.16      0.06      0.09       293\n",
      "           5       0.05      0.04      0.05       193\n",
      "           6       0.12      0.72      0.20       179\n",
      "\n",
      "    accuracy                           0.27      2900\n",
      "   macro avg       0.19      0.23      0.16      2900\n",
      "weighted avg       0.27      0.27      0.23      2900\n",
      "\n",
      "hamming_loss 0.7289655172413793\n",
      "---------------\n"
     ]
    },
    {
     "name": "stderr",
     "output_type": "stream",
     "text": [
      "c:\\users\\c0rbin\\lib\\site-packages\\sklearn\\metrics\\_classification.py:1308: UndefinedMetricWarning: Precision and F-score are ill-defined and being set to 0.0 in labels with no predicted samples. Use `zero_division` parameter to control this behavior.\n",
      "  _warn_prf(average, modifier, msg_start, len(result))\n",
      "c:\\users\\c0rbin\\lib\\site-packages\\sklearn\\metrics\\_classification.py:1308: UndefinedMetricWarning: Precision and F-score are ill-defined and being set to 0.0 in labels with no predicted samples. Use `zero_division` parameter to control this behavior.\n",
      "  _warn_prf(average, modifier, msg_start, len(result))\n",
      "c:\\users\\c0rbin\\lib\\site-packages\\sklearn\\metrics\\_classification.py:1308: UndefinedMetricWarning: Precision and F-score are ill-defined and being set to 0.0 in labels with no predicted samples. Use `zero_division` parameter to control this behavior.\n",
      "  _warn_prf(average, modifier, msg_start, len(result))\n"
     ]
    }
   ],
   "source": [
    "from sklearn import metrics\n",
    "for index, cat in enumerate(catagories_to_test):\n",
    "\n",
    "    category = f\"{cat}_category\"\n",
    "    ground_truth = \"label\"\n",
    "\n",
    "    #print(category, masked_cat)\n",
    "    df_temp = df_filtered[df_filtered[category].notna()]\n",
    "    df_temp = df_temp[df_temp[ground_truth].notna()]\n",
    "    print(category)\n",
    "    print(classification_report(df_temp[ground_truth],df_temp[category]))\n",
    "    print(\"hamming_loss\", hamming_loss(df_temp[ground_truth],df_temp[category]))\n",
    "    print(\"---------------\")"
   ],
   "metadata": {
    "collapsed": false,
    "pycharm": {
     "name": "#%%\n"
    }
   }
  },
  {
   "cell_type": "code",
   "execution_count": 80,
   "outputs": [
    {
     "data": {
      "text/plain": "<Figure size 504x504 with 0 Axes>"
     },
     "metadata": {},
     "output_type": "display_data"
    },
    {
     "data": {
      "text/plain": "<Figure size 1080x720 with 8 Axes>",
      "image/png": "[encoded data removed]"
     },
     "metadata": {
      "needs_background": "light"
     },
     "output_type": "display_data"
    }
   ],
   "source": [
    "plt.figure(figsize=(7, 7))\n",
    "cols = 2\n",
    "rows = 2\n",
    "fig, axes = plt.subplots(nrows=rows, ncols=cols, figsize=(15,10))\n",
    "\n",
    "plot_titles = [\"ITA Categories for Original\", \"ITA Categories for Center Cropped\", \"ITA Categories for Structured\", \"ITA Categories for Random Patches\",]\n",
    "\n",
    "for index, cat in enumerate(catagories_to_test):\n",
    "\n",
    "    category = f\"{cat}_category\"\n",
    "    masked_cat = \"label\"\n",
    "\n",
    "    #print(category, masked_cat)\n",
    "    df_temp = df_filtered[df_filtered[category].notna()]\n",
    "    df_temp = df_temp[df_temp[masked_cat].notna()]\n",
    "\n",
    "\n",
    "    cm = confusion_matrix(df_temp[masked_cat],df_temp[category],normalize=\"true\")\n",
    "    df_cm = pd.DataFrame(cm,columns=np.unique(df_temp[masked_cat].to_numpy()),index=np.unique(df_temp[masked_cat].to_numpy()))\n",
    "    row = index % cols\n",
    "    col = int(index/cols)\n",
    "    ax = sns.heatmap(df_cm, annot=True,cmap=\"Blues\",ax=axes[col,row])\n",
    "    ax.set_title(plot_titles[index])\n",
    "    ax.set_ylabel('True label')\n",
    "    ax.set_xlabel('Predicted label')\n",
    "plt.tight_layout()"
   ],
   "metadata": {
    "collapsed": false,
    "pycharm": {
     "name": "#%%\n"
    }
   }
  },
  {
   "cell_type": "code",
   "execution_count": 80,
   "outputs": [],
   "source": [],
   "metadata": {
    "collapsed": false,
    "pycharm": {
     "name": "#%%\n"
    }
   }
  }
 ],
 "metadata": {
  "kernelspec": {
   "display_name": "Python 3",
   "language": "python",
   "name": "python3"
  },
  "language_info": {
   "codemirror_mode": {
    "name": "ipython",
    "version": 2
   },
   "file_extension": ".py",
   "mimetype": "text/x-python",
   "name": "python",
   "nbconvert_exporter": "python",
   "pygments_lexer": "ipython2",
   "version": "2.7.6"
  }
 },
 "nbformat": 4,
 "nbformat_minor": 0
}