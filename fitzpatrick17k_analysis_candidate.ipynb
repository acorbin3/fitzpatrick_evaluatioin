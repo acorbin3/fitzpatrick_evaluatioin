{
 "cells": [
  {
   "cell_type": "markdown",
   "metadata": {
    "collapsed": true,
    "pycharm": {
     "name": "#%% md\n"
    }
   },
   "source": [
    "# Constants"
   ]
  },
  {
   "cell_type": "code",
   "execution_count": 1,
   "outputs": [],
   "source": [
    "BORDER_REMOVAL_SIZE = .08  # Going to trim %4 of the sides\n",
    "PATCH_WIDTH = 8  # Its recommended to pick patch size that can be a multiple of 8 because of the images usually a multiple of 8\n",
    "PATCH_HEIGHT = PATCH_WIDTH\n",
    "PERCENTAGE_OF_RANDOM_PATCHES = .20\n",
    "PERCENTAGE_OF_RANDOM_PATCHES_NAME = int(PERCENTAGE_OF_RANDOM_PATCHES*100)\n",
    "TEST_RANDOM_PATCH_PERCENTAGE = False\n",
    "\n"
   ],
   "metadata": {
    "collapsed": false,
    "pycharm": {
     "name": "#%%\n"
    }
   }
  },
  {
   "cell_type": "markdown",
   "source": [
    "# Installs"
   ],
   "metadata": {
    "collapsed": false
   }
  },
  {
   "cell_type": "code",
   "execution_count": 2,
   "outputs": [
    {
     "name": "stdout",
     "output_type": "stream",
     "text": [
      "Wall time: 0 ns\n",
      "Requirement already satisfied: patchify in c:\\users\\c0rbin\\lib\\site-packages (0.2.3)"
     ]
    },
    {
     "name": "stderr",
     "output_type": "stream",
     "text": [
      "WARNING: You are using pip version 21.1.2; however, version 21.3.1 is available.\n",
      "You should consider upgrading via the 'C:\\Users\\C0rbin\\Scripts\\python.exe -m pip install --upgrade pip' command.\n"
     ]
    },
    {
     "name": "stdout",
     "output_type": "stream",
     "text": [
      "\n",
      "Requirement already satisfied: numpy<2,>=1 in c:\\users\\c0rbin\\lib\\site-packages (from patchify) (1.21.4)\n",
      "Requirement already satisfied: scikit-learn in c:\\users\\c0rbin\\lib\\site-packages (1.0.1)\n",
      "Requirement already satisfied: joblib>=0.11 in c:\\users\\c0rbin\\lib\\site-packages (from scikit-learn) (1.1.0)\n",
      "Requirement already satisfied: numpy>=1.14.6 in c:\\users\\c0rbin\\lib\\site-packages (from scikit-learn) (1.21.4)\n",
      "Requirement already satisfied: scipy>=1.1.0 in c:\\users\\c0rbin\\lib\\site-packages (from scikit-learn) (1.7.3)\n",
      "Requirement already satisfied: threadpoolctl>=2.0.0 in c:\\users\\c0rbin\\lib\\site-packages (from scikit-learn) (3.0.0)\n"
     ]
    },
    {
     "name": "stderr",
     "output_type": "stream",
     "text": [
      "WARNING: You are using pip version 21.1.2; however, version 21.3.1 is available.\n",
      "You should consider upgrading via the 'C:\\Users\\C0rbin\\Scripts\\python.exe -m pip install --upgrade pip' command.\n"
     ]
    },
    {
     "name": "stdout",
     "output_type": "stream",
     "text": [
      "Requirement already satisfied: swifter in c:\\users\\c0rbin\\lib\\site-packages (1.0.9)\n",
      "Requirement already satisfied: cloudpickle>=0.2.2 in c:\\users\\c0rbin\\lib\\site-packages (from swifter) (2.0.0)\n",
      "Requirement already satisfied: ipywidgets>=7.0.0 in c:\\users\\c0rbin\\lib\\site-packages (from swifter) (7.6.5)\n",
      "Requirement already satisfied: pandas>=1.0.0 in c:\\users\\c0rbin\\lib\\site-packages (from swifter) (1.3.4)\n",
      "Requirement already satisfied: dask[dataframe]>=2.10.0 in c:\\users\\c0rbin\\lib\\site-packages (from swifter) (2021.11.2)\n",
      "Requirement already satisfied: tqdm>=4.33.0 in c:\\users\\c0rbin\\lib\\site-packages (from swifter) (4.62.3)\n",
      "Requirement already satisfied: psutil>=5.6.6 in c:\\users\\c0rbin\\lib\\site-packages (from swifter) (5.8.0)\n",
      "Requirement already satisfied: parso>0.4.0 in c:\\users\\c0rbin\\lib\\site-packages (from swifter) (0.8.3)\n",
      "Requirement already satisfied: bleach>=3.1.1 in c:\\users\\c0rbin\\lib\\site-packages (from swifter) (4.1.0)\n",
      "Requirement already satisfied: six>=1.9.0 in c:\\users\\c0rbin\\lib\\site-packages (from bleach>=3.1.1->swifter) (1.16.0)\n",
      "Requirement already satisfied: webencodings in c:\\users\\c0rbin\\lib\\site-packages (from bleach>=3.1.1->swifter) (0.5.1)\n",
      "Requirement already satisfied: packaging in c:\\users\\c0rbin\\lib\\site-packages (from bleach>=3.1.1->swifter) (21.3)\n",
      "Requirement already satisfied: fsspec>=0.6.0 in c:\\users\\c0rbin\\lib\\site-packages (from dask[dataframe]>=2.10.0->swifter) (2021.11.1)\n",
      "Requirement already satisfied: pyyaml in c:\\users\\c0rbin\\lib\\site-packages (from dask[dataframe]>=2.10.0->swifter) (6.0)\n",
      "Requirement already satisfied: toolz>=0.8.2 in c:\\users\\c0rbin\\lib\\site-packages (from dask[dataframe]>=2.10.0->swifter) (0.11.2)\n",
      "Requirement already satisfied: partd>=0.3.10 in c:\\users\\c0rbin\\lib\\site-packages (from dask[dataframe]>=2.10.0->swifter) (1.2.0)\n",
      "Requirement already satisfied: numpy>=1.18 in c:\\users\\c0rbin\\lib\\site-packages (from dask[dataframe]>=2.10.0->swifter) (1.21.4)\n",
      "Requirement already satisfied: ipykernel>=4.5.1 in c:\\users\\c0rbin\\lib\\site-packages (from ipywidgets>=7.0.0->swifter) (6.6.0)\n",
      "Requirement already satisfied: traitlets>=4.3.1 in c:\\users\\c0rbin\\lib\\site-packages (from ipywidgets>=7.0.0->swifter) (5.1.1)\n",
      "Requirement already satisfied: ipython>=4.0.0 in c:\\users\\c0rbin\\lib\\site-packages (from ipywidgets>=7.0.0->swifter) (7.30.1)\n",
      "Requirement already satisfied: nbformat>=4.2.0 in c:\\users\\c0rbin\\lib\\site-packages (from ipywidgets>=7.0.0->swifter) (5.1.3)\n",
      "Requirement already satisfied: ipython-genutils~=0.2.0 in c:\\users\\c0rbin\\lib\\site-packages (from ipywidgets>=7.0.0->swifter) (0.2.0)\n",
      "Requirement already satisfied: jupyterlab-widgets>=1.0.0 in c:\\users\\c0rbin\\lib\\site-packages (from ipywidgets>=7.0.0->swifter) (1.0.2)\n",
      "Requirement already satisfied: widgetsnbextension~=3.5.0 in c:\\users\\c0rbin\\lib\\site-packages (from ipywidgets>=7.0.0->swifter) (3.5.2)\n",
      "Requirement already satisfied: matplotlib-inline<0.2.0,>=0.1.0 in c:\\users\\c0rbin\\lib\\site-packages (from ipykernel>=4.5.1->ipywidgets>=7.0.0->swifter) (0.1.3)\n",
      "Requirement already satisfied: jupyter-client<8.0 in c:\\users\\c0rbin\\lib\\site-packages (from ipykernel>=4.5.1->ipywidgets>=7.0.0->swifter) (7.1.0)\n",
      "Requirement already satisfied: debugpy<2.0,>=1.0.0 in c:\\users\\c0rbin\\lib\\site-packages (from ipykernel>=4.5.1->ipywidgets>=7.0.0->swifter) (1.5.1)\n",
      "Requirement already satisfied: tornado<7.0,>=4.2 in c:\\users\\c0rbin\\lib\\site-packages (from ipykernel>=4.5.1->ipywidgets>=7.0.0->swifter) (6.1)\n",
      "Requirement already satisfied: prompt-toolkit!=3.0.0,!=3.0.1,<3.1.0,>=2.0.0 in c:\\users\\c0rbin\\lib\\site-packages (from ipython>=4.0.0->ipywidgets>=7.0.0->swifter) (3.0.23)\n",
      "Requirement already satisfied: colorama in c:\\users\\c0rbin\\lib\\site-packages (from ipython>=4.0.0->ipywidgets>=7.0.0->swifter) (0.4.4)\n",
      "Requirement already satisfied: decorator in c:\\users\\c0rbin\\lib\\site-packages (from ipython>=4.0.0->ipywidgets>=7.0.0->swifter) (5.1.0)\n",
      "Requirement already satisfied: jedi>=0.16 in c:\\users\\c0rbin\\lib\\site-packages (from ipython>=4.0.0->ipywidgets>=7.0.0->swifter) (0.18.1)\n",
      "Requirement already satisfied: pygments in c:\\users\\c0rbin\\lib\\site-packages (from ipython>=4.0.0->ipywidgets>=7.0.0->swifter) (2.10.0)\n",
      "Requirement already satisfied: backcall in c:\\users\\c0rbin\\lib\\site-packages (from ipython>=4.0.0->ipywidgets>=7.0.0->swifter) (0.2.0)\n",
      "Requirement already satisfied: pickleshare in c:\\users\\c0rbin\\lib\\site-packages (from ipython>=4.0.0->ipywidgets>=7.0.0->swifter) (0.7.5)\n",
      "Requirement already satisfied: setuptools>=18.5 in c:\\users\\c0rbin\\lib\\site-packages (from ipython>=4.0.0->ipywidgets>=7.0.0->swifter) (57.0.0)\n",
      "Requirement already satisfied: entrypoints in c:\\users\\c0rbin\\lib\\site-packages (from jupyter-client<8.0->ipykernel>=4.5.1->ipywidgets>=7.0.0->swifter) (0.3)"
     ]
    },
    {
     "name": "stderr",
     "output_type": "stream",
     "text": [
      "WARNING: You are using pip version 21.1.2; however, version 21.3.1 is available.\n",
      "You should consider upgrading via the 'C:\\Users\\C0rbin\\Scripts\\python.exe -m pip install --upgrade pip' command.\n"
     ]
    },
    {
     "name": "stdout",
     "output_type": "stream",
     "text": [
      "\n",
      "Requirement already satisfied: python-dateutil>=2.1 in c:\\users\\c0rbin\\lib\\site-packages (from jupyter-client<8.0->ipykernel>=4.5.1->ipywidgets>=7.0.0->swifter) (2.8.2)\n",
      "Requirement already satisfied: pyzmq>=13 in c:\\users\\c0rbin\\lib\\site-packages (from jupyter-client<8.0->ipykernel>=4.5.1->ipywidgets>=7.0.0->swifter) (22.3.0)\n",
      "Requirement already satisfied: nest-asyncio>=1.5 in c:\\users\\c0rbin\\lib\\site-packages (from jupyter-client<8.0->ipykernel>=4.5.1->ipywidgets>=7.0.0->swifter) (1.5.4)\n",
      "Requirement already satisfied: jupyter-core>=4.6.0 in c:\\users\\c0rbin\\lib\\site-packages (from jupyter-client<8.0->ipykernel>=4.5.1->ipywidgets>=7.0.0->swifter) (4.9.1)\n",
      "Requirement already satisfied: pywin32>=1.0 in c:\\users\\c0rbin\\lib\\site-packages (from jupyter-core>=4.6.0->jupyter-client<8.0->ipykernel>=4.5.1->ipywidgets>=7.0.0->swifter) (302)\n",
      "Requirement already satisfied: jsonschema!=2.5.0,>=2.4 in c:\\users\\c0rbin\\lib\\site-packages (from nbformat>=4.2.0->ipywidgets>=7.0.0->swifter) (4.2.1)\n",
      "Requirement already satisfied: attrs>=17.4.0 in c:\\users\\c0rbin\\lib\\site-packages (from jsonschema!=2.5.0,>=2.4->nbformat>=4.2.0->ipywidgets>=7.0.0->swifter) (21.2.0)\n",
      "Requirement already satisfied: pyrsistent!=0.17.0,!=0.17.1,!=0.17.2,>=0.14.0 in c:\\users\\c0rbin\\lib\\site-packages (from jsonschema!=2.5.0,>=2.4->nbformat>=4.2.0->ipywidgets>=7.0.0->swifter) (0.18.0)\n",
      "Requirement already satisfied: pyparsing!=3.0.5,>=2.0.2 in c:\\users\\c0rbin\\lib\\site-packages (from packaging->bleach>=3.1.1->swifter) (3.0.6)\n",
      "Requirement already satisfied: pytz>=2017.3 in c:\\users\\c0rbin\\lib\\site-packages (from pandas>=1.0.0->swifter) (2021.3)\n",
      "Requirement already satisfied: locket in c:\\users\\c0rbin\\lib\\site-packages (from partd>=0.3.10->dask[dataframe]>=2.10.0->swifter) (0.2.1)\n",
      "Requirement already satisfied: wcwidth in c:\\users\\c0rbin\\lib\\site-packages (from prompt-toolkit!=3.0.0,!=3.0.1,<3.1.0,>=2.0.0->ipython>=4.0.0->ipywidgets>=7.0.0->swifter) (0.2.5)\n",
      "Requirement already satisfied: notebook>=4.4.1 in c:\\users\\c0rbin\\lib\\site-packages (from widgetsnbextension~=3.5.0->ipywidgets>=7.0.0->swifter) (6.4.6)\n",
      "Requirement already satisfied: argon2-cffi in c:\\users\\c0rbin\\lib\\site-packages (from notebook>=4.4.1->widgetsnbextension~=3.5.0->ipywidgets>=7.0.0->swifter) (21.1.0)\n",
      "Requirement already satisfied: Send2Trash>=1.8.0 in c:\\users\\c0rbin\\lib\\site-packages (from notebook>=4.4.1->widgetsnbextension~=3.5.0->ipywidgets>=7.0.0->swifter) (1.8.0)\n",
      "Requirement already satisfied: nbconvert in c:\\users\\c0rbin\\lib\\site-packages (from notebook>=4.4.1->widgetsnbextension~=3.5.0->ipywidgets>=7.0.0->swifter) (6.3.0)\n",
      "Requirement already satisfied: terminado>=0.8.3 in c:\\users\\c0rbin\\lib\\site-packages (from notebook>=4.4.1->widgetsnbextension~=3.5.0->ipywidgets>=7.0.0->swifter) (0.12.1)\n",
      "Requirement already satisfied: prometheus-client in c:\\users\\c0rbin\\lib\\site-packages (from notebook>=4.4.1->widgetsnbextension~=3.5.0->ipywidgets>=7.0.0->swifter) (0.12.0)\n",
      "Requirement already satisfied: jinja2 in c:\\users\\c0rbin\\lib\\site-packages (from notebook>=4.4.1->widgetsnbextension~=3.5.0->ipywidgets>=7.0.0->swifter) (3.0.3)\n",
      "Requirement already satisfied: pywinpty>=1.1.0 in c:\\users\\c0rbin\\lib\\site-packages (from terminado>=0.8.3->notebook>=4.4.1->widgetsnbextension~=3.5.0->ipywidgets>=7.0.0->swifter) (1.1.6)\n",
      "Requirement already satisfied: cffi>=1.0.0 in c:\\users\\c0rbin\\lib\\site-packages (from argon2-cffi->notebook>=4.4.1->widgetsnbextension~=3.5.0->ipywidgets>=7.0.0->swifter) (1.15.0)\n",
      "Requirement already satisfied: pycparser in c:\\users\\c0rbin\\lib\\site-packages (from cffi>=1.0.0->argon2-cffi->notebook>=4.4.1->widgetsnbextension~=3.5.0->ipywidgets>=7.0.0->swifter) (2.21)\n",
      "Requirement already satisfied: MarkupSafe>=2.0 in c:\\users\\c0rbin\\lib\\site-packages (from jinja2->notebook>=4.4.1->widgetsnbextension~=3.5.0->ipywidgets>=7.0.0->swifter) (2.0.1)\n",
      "Requirement already satisfied: testpath in c:\\users\\c0rbin\\lib\\site-packages (from nbconvert->notebook>=4.4.1->widgetsnbextension~=3.5.0->ipywidgets>=7.0.0->swifter) (0.5.0)\n",
      "Requirement already satisfied: jupyterlab-pygments in c:\\users\\c0rbin\\lib\\site-packages (from nbconvert->notebook>=4.4.1->widgetsnbextension~=3.5.0->ipywidgets>=7.0.0->swifter) (0.1.2)\n",
      "Requirement already satisfied: pandocfilters>=1.4.1 in c:\\users\\c0rbin\\lib\\site-packages (from nbconvert->notebook>=4.4.1->widgetsnbextension~=3.5.0->ipywidgets>=7.0.0->swifter) (1.5.0)\n",
      "Requirement already satisfied: defusedxml in c:\\users\\c0rbin\\lib\\site-packages (from nbconvert->notebook>=4.4.1->widgetsnbextension~=3.5.0->ipywidgets>=7.0.0->swifter) (0.7.1)\n",
      "Requirement already satisfied: mistune<2,>=0.8.1 in c:\\users\\c0rbin\\lib\\site-packages (from nbconvert->notebook>=4.4.1->widgetsnbextension~=3.5.0->ipywidgets>=7.0.0->swifter) (0.8.4)\n",
      "Requirement already satisfied: nbclient<0.6.0,>=0.5.0 in c:\\users\\c0rbin\\lib\\site-packages (from nbconvert->notebook>=4.4.1->widgetsnbextension~=3.5.0->ipywidgets>=7.0.0->swifter) (0.5.9)\n",
      "Requirement already satisfied: seaborn in c:\\users\\c0rbin\\lib\\site-packages (0.11.2)\n",
      "Requirement already satisfied: scipy>=1.0 in c:\\users\\c0rbin\\lib\\site-packages (from seaborn) (1.7.3)\n",
      "Requirement already satisfied: pandas>=0.23 in c:\\users\\c0rbin\\lib\\site-packages (from seaborn) (1.3.4)\n",
      "Requirement already satisfied: numpy>=1.15 in c:\\users\\c0rbin\\lib\\site-packages (from seaborn) (1.21.4)\n",
      "Requirement already satisfied: matplotlib>=2.2 in c:\\users\\c0rbin\\lib\\site-packages (from seaborn) (3.5.0)\n",
      "Requirement already satisfied: fonttools>=4.22.0 in c:\\users\\c0rbin\\lib\\site-packages (from matplotlib>=2.2->seaborn) (4.28.3)\n",
      "Requirement already satisfied: python-dateutil>=2.7 in c:\\users\\c0rbin\\lib\\site-packages (from matplotlib>=2.2->seaborn) (2.8.2)\n",
      "Requirement already satisfied: cycler>=0.10 in c:\\users\\c0rbin\\lib\\site-packages (from matplotlib>=2.2->seaborn) (0.11.0)\n",
      "Requirement already satisfied: pyparsing>=2.2.1 in c:\\users\\c0rbin\\lib\\site-packages (from matplotlib>=2.2->seaborn) (3.0.6)\n",
      "Requirement already satisfied: pillow>=6.2.0 in c:\\users\\c0rbin\\lib\\site-packages (from matplotlib>=2.2->seaborn) (8.4.0)\n",
      "Requirement already satisfied: kiwisolver>=1.0.1 in c:\\users\\c0rbin\\lib\\site-packages (from matplotlib>=2.2->seaborn) (1.3.2)\n",
      "Requirement already satisfied: setuptools-scm>=4 in c:\\users\\c0rbin\\lib\\site-packages (from matplotlib>=2.2->seaborn) (6.3.2)\n",
      "Requirement already satisfied: packaging>=20.0 in c:\\users\\c0rbin\\lib\\site-packages (from matplotlib>=2.2->seaborn) (21.3)\n",
      "Requirement already satisfied: pytz>=2017.3 in c:\\users\\c0rbin\\lib\\site-packages (from pandas>=0.23->seaborn) (2021.3)\n",
      "Requirement already satisfied: six>=1.5 in c:\\users\\c0rbin\\lib\\site-packages (from python-dateutil>=2.7->matplotlib>=2.2->seaborn) (1.16.0)\n",
      "Requirement already satisfied: setuptools in c:\\users\\c0rbin\\lib\\site-packages (from setuptools-scm>=4->matplotlib>=2.2->seaborn) (57.0.0)\n",
      "Requirement already satisfied: tomli>=1.0.0 in c:\\users\\c0rbin\\lib\\site-packages (from setuptools-scm>=4->matplotlib>=2.2->seaborn) (1.2.2)\n"
     ]
    },
    {
     "name": "stderr",
     "output_type": "stream",
     "text": [
      "WARNING: You are using pip version 21.1.2; however, version 21.3.1 is available.\n",
      "You should consider upgrading via the 'C:\\Users\\C0rbin\\Scripts\\python.exe -m pip install --upgrade pip' command.\n"
     ]
    },
    {
     "name": "stdout",
     "output_type": "stream",
     "text": [
      "Requirement already satisfied: scikit-image in c:\\users\\c0rbin\\lib\\site-packages (0.19.0)\n",
      "Requirement already satisfied: tifffile>=2019.7.26 in c:\\users\\c0rbin\\lib\\site-packages (from scikit-image) (2021.11.2)\n",
      "Requirement already satisfied: networkx>=2.2 in c:\\users\\c0rbin\\lib\\site-packages (from scikit-image) (2.6.3)\n",
      "Requirement already satisfied: pillow!=7.1.0,!=7.1.1,!=8.3.0,>=6.1.0 in c:\\users\\c0rbin\\lib\\site-packages (from scikit-image) (8.4.0)\n",
      "Requirement already satisfied: imageio>=2.4.1 in c:\\users\\c0rbin\\lib\\site-packages (from scikit-image) (2.13.1)\n",
      "Requirement already satisfied: PyWavelets>=1.1.1 in c:\\users\\c0rbin\\lib\\site-packages (from scikit-image) (1.2.0)\n",
      "Requirement already satisfied: scipy>=1.4.1 in c:\\users\\c0rbin\\lib\\site-packages (from scikit-image) (1.7.3)\n",
      "Requirement already satisfied: packaging>=20.0 in c:\\users\\c0rbin\\lib\\site-packages (from scikit-image) (21.3)\n",
      "Requirement already satisfied: numpy>=1.17.0 in c:\\users\\c0rbin\\lib\\site-packages (from scikit-image) (1.21.4)\n",
      "Requirement already satisfied: pyparsing!=3.0.5,>=2.0.2 in c:\\users\\c0rbin\\lib\\site-packages (from packaging>=20.0->scikit-image) (3.0.6)\n"
     ]
    },
    {
     "name": "stderr",
     "output_type": "stream",
     "text": [
      "WARNING: You are using pip version 21.1.2; however, version 21.3.1 is available.\n",
      "You should consider upgrading via the 'C:\\Users\\C0rbin\\Scripts\\python.exe -m pip install --upgrade pip' command.\n"
     ]
    },
    {
     "name": "stdout",
     "output_type": "stream",
     "text": [
      "Requirement already satisfied: opencv-python in c:\\users\\c0rbin\\lib\\site-packages (4.5.4.60)\n",
      "Requirement already satisfied: numpy>=1.19.3 in c:\\users\\c0rbin\\lib\\site-packages (from opencv-python) (1.21.4)\n"
     ]
    },
    {
     "name": "stderr",
     "output_type": "stream",
     "text": [
      "WARNING: You are using pip version 21.1.2; however, version 21.3.1 is available.\n",
      "You should consider upgrading via the 'C:\\Users\\C0rbin\\Scripts\\python.exe -m pip install --upgrade pip' command.\n"
     ]
    }
   ],
   "source": [
    "%time\n",
    "!pip install patchify\n",
    "!pip install -U scikit-learn\n",
    "!pip install swifter\n",
    "!pip install seaborn\n",
    "!pip install -U scikit-image\n",
    "!pip install opencv-python"
   ],
   "metadata": {
    "collapsed": false,
    "pycharm": {
     "name": "#%%\n"
    }
   }
  },
  {
   "cell_type": "markdown",
   "source": [
    "# Imports"
   ],
   "metadata": {
    "collapsed": false,
    "pycharm": {
     "name": "#%% md\n"
    }
   }
  },
  {
   "cell_type": "code",
   "execution_count": 3,
   "outputs": [
    {
     "name": "stdout",
     "output_type": "stream",
     "text": [
      "Wall time: 14.4 s\n"
     ]
    }
   ],
   "source": [
    "%%time\n",
    "import random\n",
    "import os\n",
    "import io\n",
    "import json\n",
    "import math\n",
    "import numpy as np\n",
    "import pandas as pd\n",
    "import seaborn as sns, matplotlib.pyplot as plt\n",
    "from matplotlib.ticker import AutoMinorLocator\n",
    "from matplotlib import gridspec\n",
    "import matplotlib.patches as mplpatches\n",
    "from sklearn.metrics import mean_squared_error, mean_absolute_error, max_error, explained_variance_score, mean_squared_log_error\n",
    "from sklearn.metrics import r2_score, mean_poisson_deviance, mean_gamma_deviance, mean_tweedie_deviance\n",
    "from sklearn.metrics import confusion_matrix, classification_report, hamming_loss\n",
    "from skimage.filters.rank import entropy\n",
    "from skimage.morphology import disk\n",
    "from skimage.color import rgb2hsv, rgb2gray, rgb2yuv\n",
    "from skimage.io import imread\n",
    "from scipy.interpolate import BSpline, make_interp_spline\n",
    "from scipy.ndimage.filters import gaussian_filter1d\n",
    "from scipy.interpolate import interp1d\n",
    "import hashlib\n",
    "\n",
    "import swifter\n",
    "\n",
    "from patchify import patchify\n",
    "from pathlib import Path\n",
    "\n",
    "\n",
    "from sklearn.model_selection import KFold\n",
    "from sklearn.metrics import roc_auc_score\n",
    "from skimage.util.shape import view_as_windows\n",
    "import matplotlib.pyplot as plt\n",
    "from PIL import Image, ImageOps\n",
    "import skimage\n",
    "import cv2\n",
    "from skimage import color\n",
    "\n",
    "\n",
    "random.seed(42)\n",
    "rng = np.random.default_rng(seed=42)"
   ],
   "metadata": {
    "collapsed": false,
    "pycharm": {
     "name": "#%%\n"
    }
   }
  },
  {
   "cell_type": "markdown",
   "source": [
    "# Story Arch\n",
    "\n",
    "1. Read in the csv\n",
    "2. Look at canidates\n",
    "3. Compute the ITA values\n",
    "4. Compute the catagory\n",
    "5. Compute the metrics"
   ],
   "metadata": {
    "collapsed": false,
    "pycharm": {
     "name": "#%% md\n"
    }
   }
  },
  {
   "cell_type": "markdown",
   "source": [
    "# Read the CSV"
   ],
   "metadata": {
    "collapsed": false,
    "pycharm": {
     "name": "#%% md\n"
    }
   }
  },
  {
   "cell_type": "code",
   "execution_count": 4,
   "outputs": [],
   "source": [
    "df_csv_info = pd.read_csv(\"fitzpatrick17k.csv\")"
   ],
   "metadata": {
    "collapsed": false,
    "pycharm": {
     "name": "#%%\n"
    }
   }
  },
  {
   "cell_type": "code",
   "execution_count": 5,
   "outputs": [
    {
     "data": {
      "text/plain": "   Unnamed: 0                           md5hash  fitzpatrick  \\\n0           0  5e82a45bc5d78bd24ae9202d194423f8            3   \n1           1  fa2911a9b13b6f8af79cb700937cc14f            1   \n2           2  d2bac3c9e4499032ca8e9b07c7d3bc40            2   \n3           3  0a94359e7eaacd7178e06b2823777789            1   \n4           4  a39ec3b1f22c08a421fa20535e037bba            1   \n\n                             label nine_partition_label three_partition_label  \\\n0  drug induced pigmentary changes         inflammatory        non-neoplastic   \n1                  photodermatoses         inflammatory        non-neoplastic   \n2                   dermatofibroma        benign dermal                benign   \n3                        psoriasis         inflammatory        non-neoplastic   \n4                        psoriasis         inflammatory        non-neoplastic   \n\n    qc                                                url  \\\n0  NaN  https://www.dermaamin.com/site/images/clinical...   \n1  NaN  https://www.dermaamin.com/site/images/clinical...   \n2  NaN  https://www.dermaamin.com/site/images/clinical...   \n3  NaN  https://www.dermaamin.com/site/images/clinical...   \n4  NaN  https://www.dermaamin.com/site/images/clinical...   \n\n                                        url_alphanum  \n0  httpwwwdermaamincomsiteimagesclinicalpicmminoc...  \n1  httpwwwdermaamincomsiteimagesclinicalpicpphoto...  \n2  httpwwwdermaamincomsiteimagesclinicalpicdderma...  \n3  httpwwwdermaamincomsiteimagesclinicalpicppsori...  \n4  httpwwwdermaamincomsiteimagesclinicalpicppsori...  ",
      "text/html": "<div>\n<style scoped>\n    .dataframe tbody tr th:only-of-type {\n        vertical-align: middle;\n    }\n\n    .dataframe tbody tr th {\n        vertical-align: top;\n    }\n\n    .dataframe thead th {\n        text-align: right;\n    }\n</style>\n<table border=\"1\" class=\"dataframe\">\n  <thead>\n    <tr style=\"text-align: right;\">\n      <th></th>\n      <th>Unnamed: 0</th>\n      <th>md5hash</th>\n      <th>fitzpatrick</th>\n      <th>label</th>\n      <th>nine_partition_label</th>\n      <th>three_partition_label</th>\n      <th>qc</th>\n      <th>url</th>\n      <th>url_alphanum</th>\n    </tr>\n  </thead>\n  <tbody>\n    <tr>\n      <th>0</th>\n      <td>0</td>\n      <td>5e82a45bc5d78bd24ae9202d194423f8</td>\n      <td>3</td>\n      <td>drug induced pigmentary changes</td>\n      <td>inflammatory</td>\n      <td>non-neoplastic</td>\n      <td>NaN</td>\n      <td>https://www.dermaamin.com/site/images/clinical...</td>\n      <td>httpwwwdermaamincomsiteimagesclinicalpicmminoc...</td>\n    </tr>\n    <tr>\n      <th>1</th>\n      <td>1</td>\n      <td>fa2911a9b13b6f8af79cb700937cc14f</td>\n      <td>1</td>\n      <td>photodermatoses</td>\n      <td>inflammatory</td>\n      <td>non-neoplastic</td>\n      <td>NaN</td>\n      <td>https://www.dermaamin.com/site/images/clinical...</td>\n      <td>httpwwwdermaamincomsiteimagesclinicalpicpphoto...</td>\n    </tr>\n    <tr>\n      <th>2</th>\n      <td>2</td>\n      <td>d2bac3c9e4499032ca8e9b07c7d3bc40</td>\n      <td>2</td>\n      <td>dermatofibroma</td>\n      <td>benign dermal</td>\n      <td>benign</td>\n      <td>NaN</td>\n      <td>https://www.dermaamin.com/site/images/clinical...</td>\n      <td>httpwwwdermaamincomsiteimagesclinicalpicdderma...</td>\n    </tr>\n    <tr>\n      <th>3</th>\n      <td>3</td>\n      <td>0a94359e7eaacd7178e06b2823777789</td>\n      <td>1</td>\n      <td>psoriasis</td>\n      <td>inflammatory</td>\n      <td>non-neoplastic</td>\n      <td>NaN</td>\n      <td>https://www.dermaamin.com/site/images/clinical...</td>\n      <td>httpwwwdermaamincomsiteimagesclinicalpicppsori...</td>\n    </tr>\n    <tr>\n      <th>4</th>\n      <td>4</td>\n      <td>a39ec3b1f22c08a421fa20535e037bba</td>\n      <td>1</td>\n      <td>psoriasis</td>\n      <td>inflammatory</td>\n      <td>non-neoplastic</td>\n      <td>NaN</td>\n      <td>https://www.dermaamin.com/site/images/clinical...</td>\n      <td>httpwwwdermaamincomsiteimagesclinicalpicppsori...</td>\n    </tr>\n  </tbody>\n</table>\n</div>"
     },
     "execution_count": 5,
     "metadata": {},
     "output_type": "execute_result"
    }
   ],
   "source": [
    "df_csv_info.head()"
   ],
   "metadata": {
    "collapsed": false,
    "pycharm": {
     "name": "#%%\n"
    }
   }
  },
  {
   "cell_type": "markdown",
   "source": [
    "# Read the canidate images"
   ],
   "metadata": {
    "collapsed": false,
    "pycharm": {
     "name": "#%% md\n"
    }
   }
  },
  {
   "cell_type": "code",
   "execution_count": 6,
   "outputs": [],
   "source": [
    "data_list = [] # col 1 = file hash, col 2 filename, col 3, image\n",
    "for file in Path(\".\").glob(\"data/canidates/*.jpg\"):\n",
    "    hash = hashlib.md5(open(file,'rb').read()).hexdigest()\n",
    "    orig_image = open(file,\"rb\").read()\n",
    "    data_list.append([hash, str(file), orig_image])"
   ],
   "metadata": {
    "collapsed": false,
    "pycharm": {
     "name": "#%%\n"
    }
   }
  },
  {
   "cell_type": "code",
   "execution_count": 7,
   "outputs": [],
   "source": [
    "# now to create the dataframe\n",
    "df = pd.DataFrame(data=data_list, columns=[\"hash\",\"file_path\", \"image\"])"
   ],
   "metadata": {
    "collapsed": false,
    "pycharm": {
     "name": "#%%\n"
    }
   }
  },
  {
   "cell_type": "code",
   "execution_count": 8,
   "outputs": [
    {
     "data": {
      "text/plain": "                               hash  \\\n0  000b6317b3be6d504e212a50e4d5667f   \n1  001b1edd9c7a02e9381793f6e9081d20   \n2  001c92cc05ea5be4afa0d0e1a0dbc834   \n3  00a45bef0d68c8c8ca54e64e19a055ae   \n4  00a61ae0aa6d43a08152a7c4692ef9e2   \n\n                                           file_path  \\\n0  data\\canidates\\000b6317b3be6d504e212a50e4d5667...   \n1  data\\canidates\\001b1edd9c7a02e9381793f6e9081d2...   \n2  data\\canidates\\001c92cc05ea5be4afa0d0e1a0dbc83...   \n3  data\\canidates\\00a45bef0d68c8c8ca54e64e19a055a...   \n4  data\\canidates\\00a61ae0aa6d43a08152a7c4692ef9e...   \n\n                                               image  \n0  b'\\xff\\xd8\\xff\\xe0\\x00\\x10JFIF\\x00\\x01\\x01\\x01...  \n1  b'\\xff\\xd8\\xff\\xe0\\x00\\x10JFIF\\x00\\x01\\x02\\x01...  \n2  b'\\xff\\xd8\\xff\\xe1\\x00\\xe4Exif\\x00\\x00II*\\x00\\...  \n3  b'\\xff\\xd8\\xff\\xe1\\x18nExif\\x00\\x00II*\\x00\\x08...  \n4  b'\\xff\\xd8\\xff\\xe1\\x00\\xe6Exif\\x00\\x00II*\\x00\\...  ",
      "text/html": "<div>\n<style scoped>\n    .dataframe tbody tr th:only-of-type {\n        vertical-align: middle;\n    }\n\n    .dataframe tbody tr th {\n        vertical-align: top;\n    }\n\n    .dataframe thead th {\n        text-align: right;\n    }\n</style>\n<table border=\"1\" class=\"dataframe\">\n  <thead>\n    <tr style=\"text-align: right;\">\n      <th></th>\n      <th>hash</th>\n      <th>file_path</th>\n      <th>image</th>\n    </tr>\n  </thead>\n  <tbody>\n    <tr>\n      <th>0</th>\n      <td>000b6317b3be6d504e212a50e4d5667f</td>\n      <td>data\\canidates\\000b6317b3be6d504e212a50e4d5667...</td>\n      <td>b'\\xff\\xd8\\xff\\xe0\\x00\\x10JFIF\\x00\\x01\\x01\\x01...</td>\n    </tr>\n    <tr>\n      <th>1</th>\n      <td>001b1edd9c7a02e9381793f6e9081d20</td>\n      <td>data\\canidates\\001b1edd9c7a02e9381793f6e9081d2...</td>\n      <td>b'\\xff\\xd8\\xff\\xe0\\x00\\x10JFIF\\x00\\x01\\x02\\x01...</td>\n    </tr>\n    <tr>\n      <th>2</th>\n      <td>001c92cc05ea5be4afa0d0e1a0dbc834</td>\n      <td>data\\canidates\\001c92cc05ea5be4afa0d0e1a0dbc83...</td>\n      <td>b'\\xff\\xd8\\xff\\xe1\\x00\\xe4Exif\\x00\\x00II*\\x00\\...</td>\n    </tr>\n    <tr>\n      <th>3</th>\n      <td>00a45bef0d68c8c8ca54e64e19a055ae</td>\n      <td>data\\canidates\\00a45bef0d68c8c8ca54e64e19a055a...</td>\n      <td>b'\\xff\\xd8\\xff\\xe1\\x18nExif\\x00\\x00II*\\x00\\x08...</td>\n    </tr>\n    <tr>\n      <th>4</th>\n      <td>00a61ae0aa6d43a08152a7c4692ef9e2</td>\n      <td>data\\canidates\\00a61ae0aa6d43a08152a7c4692ef9e...</td>\n      <td>b'\\xff\\xd8\\xff\\xe1\\x00\\xe6Exif\\x00\\x00II*\\x00\\...</td>\n    </tr>\n  </tbody>\n</table>\n</div>"
     },
     "execution_count": 8,
     "metadata": {},
     "output_type": "execute_result"
    }
   ],
   "source": [
    "df.head()"
   ],
   "metadata": {
    "collapsed": false,
    "pycharm": {
     "name": "#%%\n"
    }
   }
  },
  {
   "cell_type": "markdown",
   "source": [
    "## Look at the shapes of the images."
   ],
   "metadata": {
    "collapsed": false
   }
  },
  {
   "cell_type": "code",
   "execution_count": 9,
   "outputs": [],
   "source": [
    "shapes = {}\n",
    "for item in df.iterrows():\n",
    "    # print(item)\n",
    "    orig_image = Image.open(io.BytesIO(item[1][\"image\"]))\n",
    "    imgpx = np.array(orig_image)\n",
    "    if str(imgpx.shape) in shapes:\n",
    "        shapes[str(imgpx.shape)] += 1\n",
    "    else:\n",
    "        shapes[str(imgpx.shape)] = 1"
   ],
   "metadata": {
    "collapsed": false,
    "pycharm": {
     "name": "#%%\n"
    }
   }
  },
  {
   "cell_type": "code",
   "execution_count": null,
   "outputs": [],
   "source": [
    "print(json.dumps(shapes, indent=4))"
   ],
   "metadata": {
    "collapsed": false,
    "pycharm": {
     "name": "#%%\n",
     "is_executing": true
    }
   }
  },
  {
   "cell_type": "markdown",
   "source": [
    "# Compute the ITA values"
   ],
   "metadata": {
    "collapsed": false,
    "pycharm": {
     "name": "#%% md\n"
    }
   }
  },
  {
   "cell_type": "markdown",
   "source": [
    "## Set up functions"
   ],
   "metadata": {
    "collapsed": false
   }
  },
  {
   "cell_type": "code",
   "execution_count": 11,
   "outputs": [],
   "source": [
    "def get_border_removal_size(image):\n",
    "    \"\"\"\n",
    "    This function will compute the border removal size based on the width of the image as well as depending on the patch\n",
    "    size to insure that the patches will covert the full image\n",
    "    \"\"\"\n",
    "    w, h = image.size\n",
    "    return int(math.ceil(w * BORDER_REMOVAL_SIZE / PATCH_WIDTH)) * PATCH_WIDTH"
   ],
   "metadata": {
    "collapsed": false,
    "pycharm": {
     "name": "#%%\n"
    }
   }
  },
  {
   "cell_type": "code",
   "execution_count": 12,
   "outputs": [],
   "source": [
    "def trim_boarder_from_image(pil_image):\n",
    "    \"\"\"\n",
    "    This function will take an image, remove the boarder and return the cropped image.\n",
    "    \"\"\"\n",
    "    w, h = pil_image.size\n",
    "    removal_size = get_border_removal_size(pil_image)\n",
    "    cropped_area = (removal_size,removal_size,w - removal_size, h - removal_size)\n",
    "    cropped_image = pil_image.crop(cropped_area)\n",
    "    return cropped_image"
   ],
   "metadata": {
    "collapsed": false,
    "pycharm": {
     "name": "#%%\n"
    }
   }
  },
  {
   "cell_type": "code",
   "execution_count": 13,
   "outputs": [],
   "source": [
    "def format_image_and_get_patches(image):\n",
    "    \"\"\"\n",
    "    This function will remove the 4% boarder, convert the whole image from RGB to LAB and then using Patchify\n",
    "    tool it will create patches. These patches are non-overlapping that create a grid over the whole image.\n",
    "    The image sizes are defined from the Constants section.\n",
    "    \"\"\"\n",
    "    img = io.BytesIO(image)\n",
    "    pil_image = Image.open(img)\n",
    "\n",
    "    # Crop image to remove the pixels from the boarder\n",
    "    w, h = pil_image.size\n",
    "    removal_size = get_border_removal_size(pil_image)\n",
    "    cropped_area = (removal_size,removal_size,w - removal_size, h - removal_size)\n",
    "    cropped_image = pil_image.crop(cropped_area)\n",
    "\n",
    "\n",
    "    #print(\"pil_image\", np.array(pil_image).shape)\n",
    "    #print(\"cropped_image\", np.array(cropped_image).shape)\n",
    "    # Convert image to lab values\n",
    "\n",
    "    lab = np.array(skimage.color.rgb2lab(cropped_image))\n",
    "\n",
    "    # Get the patches\n",
    "    return patchify(lab, (PATCH_WIDTH,PATCH_HEIGHT,3), step=PATCH_WIDTH)"
   ],
   "metadata": {
    "collapsed": false,
    "pycharm": {
     "name": "#%%\n"
    }
   }
  },
  {
   "cell_type": "code",
   "execution_count": 14,
   "outputs": [],
   "source": [
    "def compute_ita_from_lab(lab):\n",
    "    \"\"\"\n",
    "    This function computes the ITA value of the image along with ignore any pixels that are completly black\n",
    "    \"\"\"\n",
    "    # get the luminance and b values wihtin +- 1 std from mean\n",
    "    l = lab[:,:,0]\n",
    "    l = np.where(l != 0, l, np.nan)\n",
    "    std = np.nanstd(l)\n",
    "    mean = np.nanmean(l)\n",
    "\n",
    "    l = np.where(l >= mean - std, l, np.nan)\n",
    "    l = np.where(l <= mean + std, l, np.nan)\n",
    "\n",
    "    b = lab[:,:,2]\n",
    "    std = np.nanstd(b)\n",
    "    mean = np.nanmean(b)\n",
    "    b = np.where(b >= mean - std, b, np.nan)\n",
    "    b = np.where(b <= mean + std, b, np.nan)\n",
    "\n",
    "\n",
    "    ita = math.atan2(np.nanmean(l) - 50, np.nanmean(b)) * (180 / np.pi)\n",
    "    return ita"
   ],
   "metadata": {
    "collapsed": false,
    "pycharm": {
     "name": "#%%\n"
    }
   }
  },
  {
   "cell_type": "code",
   "execution_count": 15,
   "outputs": [],
   "source": [
    "def compute_ita(image, crop_border=False):\n",
    "    \"\"\"\n",
    "    This function takes in an image and outputs the ITA value of image. To compute the ITA value the image needs\n",
    "    to be converted from an RGB format to a LAB format type.\n",
    "\n",
    "    There is an option to remove the boarder that is used to remove the back corners.\n",
    "    \"\"\"\n",
    "    img = io.BytesIO(image)\n",
    "    pilimae = Image.open(img)\n",
    "\n",
    "    if crop_border:\n",
    "        w, h = pilimae.size\n",
    "        removal_size = get_border_removal_size(pilimae)\n",
    "        cropped_area = (removal_size,removal_size,w - removal_size, h - removal_size)\n",
    "        pilimae = pilimae.crop(cropped_area)\n",
    "\n",
    "\n",
    "    try:\n",
    "        lab = np.array(skimage.color.rgb2lab(pilimae))\n",
    "    except:\n",
    "        return -1000\n",
    "\n",
    "    return compute_ita_from_lab(lab)"
   ],
   "metadata": {
    "collapsed": false,
    "pycharm": {
     "name": "#%%\n"
    }
   }
  },
  {
   "cell_type": "markdown",
   "source": [
    "## Center Cropped"
   ],
   "metadata": {
    "collapsed": false
   }
  },
  {
   "cell_type": "code",
   "execution_count": 16,
   "outputs": [],
   "source": [
    "def get_cropped_center_patches_ita_list(image, verbose=False):\n",
    "    \"\"\"\n",
    "    For the structure patches approach the first row, the last row, first column and last column will be\n",
    "    sampled for the ITA values.\n",
    "    \"\"\"\n",
    "    \"\"\"\n",
    "    Note we want to ignore the center part of the images. We will take 15% around the center of the image and ignore getting the ITA\n",
    "    values for those images. Taking 15% of the width and height will get offset value. Then dividing the width and height by 2\n",
    "    will be the mid-point which we can take the offset and do a +- to get a range where we dont want to capture the ITA values\n",
    "    as long as the x and y indexes dont fall between both ranges then we will capture the ITA values of the image.\n",
    "\n",
    "    \"\"\"\n",
    "    patches = format_image_and_get_patches(image)\n",
    "\n",
    "    center_removal_percentage = .70/2\n",
    "    h = len(patches)\n",
    "    w = len(patches[0])\n",
    "\n",
    "    w_offset = math.floor(w * center_removal_percentage)\n",
    "    h_offset = math.floor(h * center_removal_percentage)\n",
    "\n",
    "    w_mid = int(w/2)\n",
    "    h_mid = int(h/2)\n",
    "\n",
    "    indices = []\n",
    "\n",
    "    if verbose:\n",
    "        print(\"Will ignore values in these ranges\")\n",
    "        print(\"center_removal_percentage\",center_removal_percentage)\n",
    "        print(\"w\",w)\n",
    "        print(\"h\",h)\n",
    "        print(\"w_offset\",w_offset)\n",
    "        print(\"h_offset\",h_offset)\n",
    "        print(\"w_mid\",w_mid)\n",
    "        print(\"h_mid\",h_mid)\n",
    "        w_range = (w_mid + w_offset) - (w_mid - w_offset)\n",
    "        print(f\"w range diff {w_range} : % {w_range/w}\")\n",
    "        h_range = (h_mid + h_offset) - (h_mid - h_offset)\n",
    "        print(f\"h range diff {h_range} : %{h_range/h}\")\n",
    "        print(f\"{w_mid - w_offset} <= x < {w_mid + w_offset} and {h_mid - h_offset} <= y < {h_mid + h_offset}\")\n",
    "    selected_ita_values = []\n",
    "    for y, y_item in enumerate(patches):\n",
    "        for x, x_item in enumerate(patches[y]):\n",
    "            if w_mid - w_offset <= x < w_mid + w_offset and h_mid - h_offset <= y < h_mid + h_offset:\n",
    "                continue\n",
    "            patch = patches[y][x][0]\n",
    "            selected_ita_values.append(compute_ita_from_lab(patch))\n",
    "            indices.append([y,x])\n",
    "\n",
    "    return selected_ita_values, indices"
   ],
   "metadata": {
    "collapsed": false,
    "pycharm": {
     "name": "#%%\n"
    }
   }
  },
  {
   "cell_type": "code",
   "execution_count": 17,
   "outputs": [],
   "source": [
    "def get_cropped_center_ita(row):\n",
    "    \"\"\"\n",
    "    This is the wrapper function to calculate the ITA values for all the patches, the median ITA value and\n",
    "    stores all the patch indices for each Image of the dataset.\n",
    "    \"\"\"\n",
    "    image = row[\"image\"]\n",
    "    try:\n",
    "        ita_values, indices = get_cropped_center_patches_ita_list(image)\n",
    "        # dropping any nan computed values\n",
    "        ita_values = [x for x in ita_values if math.isnan(x) == False]\n",
    "        row[\"ITA_center_cropped_all\"] = ita_values\n",
    "        row[\"ITA_center_cropped\"] = np.median(ita_values)\n",
    "        row[\"ITA_center_cropped_indices\"] = indices\n",
    "    except:\n",
    "        row[\"ITA_center_cropped\"] = -1000\n",
    "\n",
    "    return row"
   ],
   "metadata": {
    "collapsed": false,
    "pycharm": {
     "name": "#%%\n"
    }
   }
  },
  {
   "cell_type": "markdown",
   "source": [
    "## Structured Patches"
   ],
   "metadata": {
    "collapsed": false
   }
  },
  {
   "cell_type": "code",
   "source": [
    "def get_structured_patches_ita_list(image):\n",
    "    \"\"\"\n",
    "    For the structure patches approach the first row, the last row, first column and last column will be\n",
    "    sampled for the ITA values. When taking the boarder we need ot make sure the corners are not double counted\n",
    "    \"\"\"\n",
    "    patches = format_image_and_get_patches(image)\n",
    "\n",
    "    selected_ita_values = []\n",
    "\n",
    "    row_count = len(patches)\n",
    "    col_count = len(patches[0])\n",
    "\n",
    "\n",
    "    indices = []\n",
    "    # First row\n",
    "    for i, patch in enumerate(patches[0]):\n",
    "        selected_ita_values.append(compute_ita_from_lab(patch[0]))\n",
    "        indices.append([0,i])\n",
    "    # last row\n",
    "    for i, patch in enumerate(patches[-1]):\n",
    "        selected_ita_values.append(compute_ita_from_lab(patch[0]))\n",
    "        indices.append([row_count - 1,i])\n",
    "    # First column\n",
    "    # Not index zero and last index is a corner and already accounted for on the rows\n",
    "    for i in range(1,row_count - 1):\n",
    "        patch = patches[i][0]\n",
    "        selected_ita_values.append(compute_ita_from_lab(patch[0]))\n",
    "        indices.append([i,0])\n",
    "\n",
    "    # Last column\n",
    "    # Not index zero and last index is a corner and already accounted for on the rows\n",
    "    for i in range(1,row_count - 1):\n",
    "        patch = patches[i][-1]\n",
    "        selected_ita_values.append(compute_ita_from_lab(patch[0]))\n",
    "        indices.append([i,col_count-1])\n",
    "\n",
    "\n",
    "    return selected_ita_values, indices"
   ],
   "metadata": {
    "collapsed": false,
    "pycharm": {
     "name": "#%%\n"
    }
   },
   "execution_count": 18,
   "outputs": []
  },
  {
   "cell_type": "code",
   "execution_count": 19,
   "outputs": [],
   "source": [
    "def get_structured_patches_ita(row):\n",
    "    \"\"\"\n",
    "    This function is intended to add the ITA represented value dataframe for an instance.\n",
    "    Its intended to be used with the df.swifter.apply() method\n",
    "    \"\"\"\n",
    "    image = row[\"image\"]\n",
    "    try:\n",
    "        ita_values, indices = get_structured_patches_ita_list(image)\n",
    "        # dropping any nan computed values\n",
    "        ita_values = [x for x in ita_values if math.isnan(x) == False]\n",
    "        row[\"ITA_structured_patches_all\"] = ita_values\n",
    "        row[\"ITA_structured_patches\"] = np.median(ita_values)\n",
    "        row[\"ITA_structured_patches_indices\"] = indices\n",
    "    except:\n",
    "        row[\"ITA_structured_patches\"] = -1000\n",
    "\n",
    "    return row"
   ],
   "metadata": {
    "collapsed": false,
    "pycharm": {
     "name": "#%%\n"
    }
   }
  },
  {
   "cell_type": "markdown",
   "source": [
    "## Random Patches"
   ],
   "metadata": {
    "collapsed": false
   }
  },
  {
   "cell_type": "code",
   "execution_count": 20,
   "outputs": [],
   "source": [
    "# randomly pick numbers between 0 and max patches\n",
    "def get_random_patches_ita_list(image,percentage=PERCENTAGE_OF_RANDOM_PATCHES, verbose=False):\n",
    "    \"\"\"\n",
    "    The premise behind random patches is that a set of patches that do not overlap a generated and at random patches\n",
    "    be sampled to take the ITA value from. The thought would be that because its a random sample that the majority should\n",
    "    cover or represent the skin tone. It is possible that some of the patches could cover a skin lesion which will be address in\n",
    "    a future approach.\n",
    "    \"\"\"\n",
    "    patches = format_image_and_get_patches(image)\n",
    "    row_count = len(patches)\n",
    "    column_count = len(patches[0])\n",
    "\n",
    "    patch_count = row_count * column_count\n",
    "\n",
    "    random_to_select = int(patch_count * percentage)\n",
    "\n",
    "    # Generate a random list of numbers with no duplicates\n",
    "    random_patch_indexes = rng.choice(patch_count, size=random_to_select, replace=False)\n",
    "    random_patch_indexes.sort()\n",
    "\n",
    "    # get reverse indexes. The index number comes from nRow * col_count + nCol.\n",
    "    # so for example if you have 10x10 image. image index 23 is row 2 col 4. The formula would be 2*10 + 4 = 24\n",
    "    # x = number % column_count\n",
    "    # y = int(number / column_count)\n",
    "\n",
    "    coordinate_indices = []\n",
    "    for index in random_patch_indexes:\n",
    "        y = index % column_count\n",
    "        x = int(index /column_count)\n",
    "        coordinate_indices.append([x,y])\n",
    "    if verbose:\n",
    "        print(f\"row_count {row_count} column_count {column_count} \")\n",
    "        print(f\"patch_count {patch_count}, random_to_select {random_to_select}\")\n",
    "        #print(f\"random_patch_indexes\\n{random_patch_indexes}\")\n",
    "        #print(f\"coordinate_indices\\n{coordinate_indices}\")\n",
    "\n",
    "    ita_values = []\n",
    "    for index in coordinate_indices:\n",
    "        x = index[1]\n",
    "        y = index[0]\n",
    "        patch = patches[y][x]\n",
    "        ita_values.append(compute_ita_from_lab(patch[0]))\n",
    "    # dropping any nan computed values\n",
    "    ita_values = [x for x in ita_values if math.isnan(x) == False]\n",
    "    return ita_values, coordinate_indices"
   ],
   "metadata": {
    "collapsed": false,
    "pycharm": {
     "name": "#%%\n"
    }
   }
  },
  {
   "cell_type": "code",
   "execution_count": 21,
   "outputs": [],
   "source": [
    "def get_random_patches_ita(row,percentage=PERCENTAGE_OF_RANDOM_PATCHES):\n",
    "    \"\"\"\n",
    "    This function is intended to add the ITA represented value dataframe for an instance.\n",
    "    Its intended to be used with the df.swifter.apply() method\n",
    "    \"\"\"\n",
    "\n",
    "    image = row[\"image\"]\n",
    "    try:\n",
    "        ita_values, indices = get_random_patches_ita_list(image, percentage)\n",
    "        row[f\"ITA_random_patches_{int(percentage*100)}_all\"] = ita_values\n",
    "        row[f\"ITA_random_patches_{int(percentage*100)}\"] = np.median(ita_values)\n",
    "        row[f\"ITA_random_patches_{int(percentage*100)}_indices\"] = indices\n",
    "    except:\n",
    "        row[f\"ITA_random_patches_{int(percentage*100)}\"] = -1000\n",
    "    return row"
   ],
   "metadata": {
    "collapsed": false,
    "pycharm": {
     "name": "#%%\n"
    }
   }
  },
  {
   "cell_type": "markdown",
   "source": [
    "## Compute ITA values on whole image"
   ],
   "metadata": {
    "collapsed": false
   }
  },
  {
   "cell_type": "code",
   "execution_count": 22,
   "outputs": [
    {
     "name": "stdout",
     "output_type": "stream",
     "text": [
      "Wall time: 1min 17s\n"
     ]
    }
   ],
   "source": [
    "%%time\n",
    "df[\"ITA_orig\"] = df[\"image\"].apply(compute_ita,crop_border=True)"
   ],
   "metadata": {
    "collapsed": false,
    "pycharm": {
     "name": "#%%\n"
    }
   }
  },
  {
   "cell_type": "code",
   "execution_count": 23,
   "outputs": [
    {
     "name": "stderr",
     "output_type": "stream",
     "text": [
      "c:\\users\\c0rbin\\lib\\site-packages\\numpy\\lib\\nanfunctions.py:1670: RuntimeWarning: Degrees of freedom <= 0 for slice.\n",
      "  var = nanvar(a, axis=axis, dtype=dtype, out=out, ddof=ddof,\n",
      "C:\\Users\\C0rbin\\AppData\\Local\\Temp/ipykernel_1336/3321755401.py:9: RuntimeWarning: Mean of empty slice\n",
      "  mean = np.nanmean(l)\n",
      "C:\\Users\\C0rbin\\AppData\\Local\\Temp/ipykernel_1336/3321755401.py:21: RuntimeWarning: Mean of empty slice\n",
      "  ita = math.atan2(np.nanmean(l) - 50, np.nanmean(b)) * (180 / np.pi)\n"
     ]
    },
    {
     "name": "stdout",
     "output_type": "stream",
     "text": [
      "Wall time: 12min 5s\n"
     ]
    }
   ],
   "source": [
    "%%time\n",
    "df = df.apply(get_cropped_center_ita, axis=1)"
   ],
   "metadata": {
    "collapsed": false,
    "pycharm": {
     "name": "#%%\n"
    }
   }
  },
  {
   "cell_type": "code",
   "execution_count": 24,
   "outputs": [
    {
     "name": "stderr",
     "output_type": "stream",
     "text": [
      "C:\\Users\\C0rbin\\AppData\\Local\\Temp/ipykernel_1336/3321755401.py:9: RuntimeWarning: Mean of empty slice\n",
      "  mean = np.nanmean(l)\n",
      "C:\\Users\\C0rbin\\AppData\\Local\\Temp/ipykernel_1336/3321755401.py:21: RuntimeWarning: Mean of empty slice\n",
      "  ita = math.atan2(np.nanmean(l) - 50, np.nanmean(b)) * (180 / np.pi)\n"
     ]
    },
    {
     "name": "stdout",
     "output_type": "stream",
     "text": [
      "Wall time: 2min 33s\n"
     ]
    }
   ],
   "source": [
    "%%time\n",
    "df = df.apply(get_structured_patches_ita, axis=1)"
   ],
   "metadata": {
    "collapsed": false,
    "pycharm": {
     "name": "#%%\n"
    }
   }
  },
  {
   "cell_type": "code",
   "execution_count": 25,
   "outputs": [
    {
     "name": "stderr",
     "output_type": "stream",
     "text": [
      "C:\\Users\\C0rbin\\AppData\\Local\\Temp/ipykernel_1336/3321755401.py:9: RuntimeWarning: Mean of empty slice\n",
      "  mean = np.nanmean(l)\n",
      "C:\\Users\\C0rbin\\AppData\\Local\\Temp/ipykernel_1336/3321755401.py:21: RuntimeWarning: Mean of empty slice\n",
      "  ita = math.atan2(np.nanmean(l) - 50, np.nanmean(b)) * (180 / np.pi)\n"
     ]
    },
    {
     "name": "stdout",
     "output_type": "stream",
     "text": [
      "Wall time: 5min 4s\n"
     ]
    }
   ],
   "source": [
    "%%time\n",
    "df = df.apply(get_random_patches_ita, axis=1)"
   ],
   "metadata": {
    "collapsed": false,
    "pycharm": {
     "name": "#%%\n"
    }
   }
  },
  {
   "cell_type": "code",
   "execution_count": 26,
   "outputs": [
    {
     "data": {
      "text/plain": "                               hash  \\\n0  000b6317b3be6d504e212a50e4d5667f   \n1  001b1edd9c7a02e9381793f6e9081d20   \n2  001c92cc05ea5be4afa0d0e1a0dbc834   \n3  00a45bef0d68c8c8ca54e64e19a055ae   \n4  00a61ae0aa6d43a08152a7c4692ef9e2   \n\n                                           file_path  \\\n0  data\\canidates\\000b6317b3be6d504e212a50e4d5667...   \n1  data\\canidates\\001b1edd9c7a02e9381793f6e9081d2...   \n2  data\\canidates\\001c92cc05ea5be4afa0d0e1a0dbc83...   \n3  data\\canidates\\00a45bef0d68c8c8ca54e64e19a055a...   \n4  data\\canidates\\00a61ae0aa6d43a08152a7c4692ef9e...   \n\n                                               image   ITA_orig  \\\n0  b'\\xff\\xd8\\xff\\xe0\\x00\\x10JFIF\\x00\\x01\\x01\\x01...  63.160622   \n1  b'\\xff\\xd8\\xff\\xe0\\x00\\x10JFIF\\x00\\x01\\x02\\x01...  17.836917   \n2  b'\\xff\\xd8\\xff\\xe1\\x00\\xe4Exif\\x00\\x00II*\\x00\\...  19.656153   \n3  b'\\xff\\xd8\\xff\\xe1\\x18nExif\\x00\\x00II*\\x00\\x08...  -6.305290   \n4  b'\\xff\\xd8\\xff\\xe1\\x00\\xe6Exif\\x00\\x00II*\\x00\\...  57.218695   \n\n                              ITA_center_cropped_all  ITA_center_cropped  \\\n0  [71.3777488793279, 78.36055446746393, 72.34238...           63.902881   \n1  [31.344044633930984, 27.35526223474992, 41.020...           13.918099   \n2  [-9.736215619823762, -4.710450212299931, -3.44...           12.987644   \n3  [-38.95957831973621, -34.05603099911553, -31.4...           -8.752617   \n4  [-90.0, -90.93118205216486, -91.38786469212347...           45.489259   \n\n                          ITA_center_cropped_indices  \\\n0  [[0, 0], [0, 1], [0, 2], [0, 3], [0, 4], [0, 5...   \n1  [[0, 0], [0, 1], [0, 2], [0, 3], [0, 4], [0, 5...   \n2  [[0, 0], [0, 1], [0, 2], [0, 3], [0, 4], [0, 5...   \n3  [[0, 0], [0, 1], [0, 2], [0, 3], [0, 4], [0, 5...   \n4  [[0, 0], [0, 1], [0, 2], [0, 3], [0, 4], [0, 5...   \n\n                          ITA_structured_patches_all  ITA_structured_patches  \\\n0  [71.3777488793279, 78.36055446746393, 72.34238...               64.165841   \n1  [31.344044633930984, 27.35526223474992, 41.020...               13.521901   \n2  [-9.736215619823762, -4.710450212299931, -3.44...                3.931059   \n3  [-38.95957831973621, -34.05603099911553, -31.4...              -13.905133   \n4  [-90.0, -90.93118205216486, -91.38786469212347...               21.325670   \n\n                      ITA_structured_patches_indices  \\\n0  [[0, 0], [0, 1], [0, 2], [0, 3], [0, 4], [0, 5...   \n1  [[0, 0], [0, 1], [0, 2], [0, 3], [0, 4], [0, 5...   \n2  [[0, 0], [0, 1], [0, 2], [0, 3], [0, 4], [0, 5...   \n3  [[0, 0], [0, 1], [0, 2], [0, 3], [0, 4], [0, 5...   \n4  [[0, 0], [0, 1], [0, 2], [0, 3], [0, 4], [0, 5...   \n\n                           ITA_random_patches_20_all  ITA_random_patches_20  \\\n0  [70.74856447644632, 74.77155462123767, 70.0776...              63.621932   \n1  [41.69632607411986, 39.084688843642674, 29.270...              19.593591   \n2  [-4.710450212299931, -1.8890468935756766, -0.2...              20.594624   \n3  [-38.95957831973621, -34.05603099911553, -17.8...              -5.563592   \n4  [-90.32930368968636, -90.07495857079323, -90.0...              57.137592   \n\n                       ITA_random_patches_20_indices  \n0  [[0, 10], [0, 12], [0, 18], [0, 34], [0, 38], ...  \n1  [[0, 6], [0, 7], [0, 8], [0, 17], [0, 18], [0,...  \n2  [[0, 1], [0, 4], [0, 5], [0, 11], [0, 14], [0,...  \n3  [[0, 0], [0, 1], [0, 9], [0, 23], [0, 26], [0,...  \n4  [[0, 8], [0, 9], [0, 10], [0, 37], [0, 45], [0...  ",
      "text/html": "<div>\n<style scoped>\n    .dataframe tbody tr th:only-of-type {\n        vertical-align: middle;\n    }\n\n    .dataframe tbody tr th {\n        vertical-align: top;\n    }\n\n    .dataframe thead th {\n        text-align: right;\n    }\n</style>\n<table border=\"1\" class=\"dataframe\">\n  <thead>\n    <tr style=\"text-align: right;\">\n      <th></th>\n      <th>hash</th>\n      <th>file_path</th>\n      <th>image</th>\n      <th>ITA_orig</th>\n      <th>ITA_center_cropped_all</th>\n      <th>ITA_center_cropped</th>\n      <th>ITA_center_cropped_indices</th>\n      <th>ITA_structured_patches_all</th>\n      <th>ITA_structured_patches</th>\n      <th>ITA_structured_patches_indices</th>\n      <th>ITA_random_patches_20_all</th>\n      <th>ITA_random_patches_20</th>\n      <th>ITA_random_patches_20_indices</th>\n    </tr>\n  </thead>\n  <tbody>\n    <tr>\n      <th>0</th>\n      <td>000b6317b3be6d504e212a50e4d5667f</td>\n      <td>data\\canidates\\000b6317b3be6d504e212a50e4d5667...</td>\n      <td>b'\\xff\\xd8\\xff\\xe0\\x00\\x10JFIF\\x00\\x01\\x01\\x01...</td>\n      <td>63.160622</td>\n      <td>[71.3777488793279, 78.36055446746393, 72.34238...</td>\n      <td>63.902881</td>\n      <td>[[0, 0], [0, 1], [0, 2], [0, 3], [0, 4], [0, 5...</td>\n      <td>[71.3777488793279, 78.36055446746393, 72.34238...</td>\n      <td>64.165841</td>\n      <td>[[0, 0], [0, 1], [0, 2], [0, 3], [0, 4], [0, 5...</td>\n      <td>[70.74856447644632, 74.77155462123767, 70.0776...</td>\n      <td>63.621932</td>\n      <td>[[0, 10], [0, 12], [0, 18], [0, 34], [0, 38], ...</td>\n    </tr>\n    <tr>\n      <th>1</th>\n      <td>001b1edd9c7a02e9381793f6e9081d20</td>\n      <td>data\\canidates\\001b1edd9c7a02e9381793f6e9081d2...</td>\n      <td>b'\\xff\\xd8\\xff\\xe0\\x00\\x10JFIF\\x00\\x01\\x02\\x01...</td>\n      <td>17.836917</td>\n      <td>[31.344044633930984, 27.35526223474992, 41.020...</td>\n      <td>13.918099</td>\n      <td>[[0, 0], [0, 1], [0, 2], [0, 3], [0, 4], [0, 5...</td>\n      <td>[31.344044633930984, 27.35526223474992, 41.020...</td>\n      <td>13.521901</td>\n      <td>[[0, 0], [0, 1], [0, 2], [0, 3], [0, 4], [0, 5...</td>\n      <td>[41.69632607411986, 39.084688843642674, 29.270...</td>\n      <td>19.593591</td>\n      <td>[[0, 6], [0, 7], [0, 8], [0, 17], [0, 18], [0,...</td>\n    </tr>\n    <tr>\n      <th>2</th>\n      <td>001c92cc05ea5be4afa0d0e1a0dbc834</td>\n      <td>data\\canidates\\001c92cc05ea5be4afa0d0e1a0dbc83...</td>\n      <td>b'\\xff\\xd8\\xff\\xe1\\x00\\xe4Exif\\x00\\x00II*\\x00\\...</td>\n      <td>19.656153</td>\n      <td>[-9.736215619823762, -4.710450212299931, -3.44...</td>\n      <td>12.987644</td>\n      <td>[[0, 0], [0, 1], [0, 2], [0, 3], [0, 4], [0, 5...</td>\n      <td>[-9.736215619823762, -4.710450212299931, -3.44...</td>\n      <td>3.931059</td>\n      <td>[[0, 0], [0, 1], [0, 2], [0, 3], [0, 4], [0, 5...</td>\n      <td>[-4.710450212299931, -1.8890468935756766, -0.2...</td>\n      <td>20.594624</td>\n      <td>[[0, 1], [0, 4], [0, 5], [0, 11], [0, 14], [0,...</td>\n    </tr>\n    <tr>\n      <th>3</th>\n      <td>00a45bef0d68c8c8ca54e64e19a055ae</td>\n      <td>data\\canidates\\00a45bef0d68c8c8ca54e64e19a055a...</td>\n      <td>b'\\xff\\xd8\\xff\\xe1\\x18nExif\\x00\\x00II*\\x00\\x08...</td>\n      <td>-6.305290</td>\n      <td>[-38.95957831973621, -34.05603099911553, -31.4...</td>\n      <td>-8.752617</td>\n      <td>[[0, 0], [0, 1], [0, 2], [0, 3], [0, 4], [0, 5...</td>\n      <td>[-38.95957831973621, -34.05603099911553, -31.4...</td>\n      <td>-13.905133</td>\n      <td>[[0, 0], [0, 1], [0, 2], [0, 3], [0, 4], [0, 5...</td>\n      <td>[-38.95957831973621, -34.05603099911553, -17.8...</td>\n      <td>-5.563592</td>\n      <td>[[0, 0], [0, 1], [0, 9], [0, 23], [0, 26], [0,...</td>\n    </tr>\n    <tr>\n      <th>4</th>\n      <td>00a61ae0aa6d43a08152a7c4692ef9e2</td>\n      <td>data\\canidates\\00a61ae0aa6d43a08152a7c4692ef9e...</td>\n      <td>b'\\xff\\xd8\\xff\\xe1\\x00\\xe6Exif\\x00\\x00II*\\x00\\...</td>\n      <td>57.218695</td>\n      <td>[-90.0, -90.93118205216486, -91.38786469212347...</td>\n      <td>45.489259</td>\n      <td>[[0, 0], [0, 1], [0, 2], [0, 3], [0, 4], [0, 5...</td>\n      <td>[-90.0, -90.93118205216486, -91.38786469212347...</td>\n      <td>21.325670</td>\n      <td>[[0, 0], [0, 1], [0, 2], [0, 3], [0, 4], [0, 5...</td>\n      <td>[-90.32930368968636, -90.07495857079323, -90.0...</td>\n      <td>57.137592</td>\n      <td>[[0, 8], [0, 9], [0, 10], [0, 37], [0, 45], [0...</td>\n    </tr>\n  </tbody>\n</table>\n</div>"
     },
     "execution_count": 26,
     "metadata": {},
     "output_type": "execute_result"
    }
   ],
   "source": [
    "df.head()"
   ],
   "metadata": {
    "collapsed": false,
    "pycharm": {
     "name": "#%%\n"
    }
   }
  },
  {
   "cell_type": "markdown",
   "source": [
    "# Compute ITA category"
   ],
   "metadata": {
    "collapsed": false
   }
  },
  {
   "cell_type": "code",
   "execution_count": 27,
   "outputs": [],
   "source": [
    "def add_ita_6_category(ita):\n",
    "    if ita <= 10:\n",
    "        return \"6\"\n",
    "    elif 10 < ita <= 19:\n",
    "        return \"5\"\n",
    "    elif 19 < ita <= 28:\n",
    "        return \"4\"\n",
    "    elif 28 < ita <= 41:\n",
    "        return \"3\"\n",
    "    elif 41 < ita <= 55:\n",
    "        return \"2\"\n",
    "    elif 55 < ita:\n",
    "        return \"1\"\n",
    "    else:\n",
    "        print(f\"None cat: {ita}\")"
   ],
   "metadata": {
    "collapsed": false,
    "pycharm": {
     "name": "#%%\n"
    }
   }
  },
  {
   "cell_type": "code",
   "execution_count": 28,
   "outputs": [
    {
     "name": "stdout",
     "output_type": "stream",
     "text": [
      "orig\n"
     ]
    },
    {
     "data": {
      "text/plain": "Pandas Apply:   0%|          | 0/538 [00:00<?, ?it/s]",
      "application/vnd.jupyter.widget-view+json": {
       "version_major": 2,
       "version_minor": 0,
       "model_id": "fcc98e81e30345fc9761633434aebc0d"
      }
     },
     "metadata": {},
     "output_type": "display_data"
    },
    {
     "name": "stdout",
     "output_type": "stream",
     "text": [
      "center\n"
     ]
    },
    {
     "data": {
      "text/plain": "Pandas Apply:   0%|          | 0/538 [00:00<?, ?it/s]",
      "application/vnd.jupyter.widget-view+json": {
       "version_major": 2,
       "version_minor": 0,
       "model_id": "a3ea62599b7747fbaeea9667224e165b"
      }
     },
     "metadata": {},
     "output_type": "display_data"
    },
    {
     "name": "stdout",
     "output_type": "stream",
     "text": [
      "struct\n"
     ]
    },
    {
     "data": {
      "text/plain": "Pandas Apply:   0%|          | 0/538 [00:00<?, ?it/s]",
      "application/vnd.jupyter.widget-view+json": {
       "version_major": 2,
       "version_minor": 0,
       "model_id": "455b58e0c57d42e1a9f5a9e221367710"
      }
     },
     "metadata": {},
     "output_type": "display_data"
    },
    {
     "name": "stdout",
     "output_type": "stream",
     "text": [
      "rand\n"
     ]
    },
    {
     "data": {
      "text/plain": "Pandas Apply:   0%|          | 0/538 [00:00<?, ?it/s]",
      "application/vnd.jupyter.widget-view+json": {
       "version_major": 2,
       "version_minor": 0,
       "model_id": "c942011fc1e549ffbc28f728d84f2411"
      }
     },
     "metadata": {},
     "output_type": "display_data"
    },
    {
     "name": "stdout",
     "output_type": "stream",
     "text": [
      "Wall time: 280 ms\n"
     ]
    }
   ],
   "source": [
    "%%time\n",
    "print(\"orig\")\n",
    "df[\"ITA_orig_category\"] = df[\"ITA_orig\"].swifter.apply(add_ita_6_category)\n",
    "print(\"center\")\n",
    "df[\"ITA_center_cropped_category\"] = df[\"ITA_center_cropped\"].swifter.apply(add_ita_6_category)\n",
    "print(\"struct\")\n",
    "df[\"ITA_structured_patches_category\"] = df[\"ITA_structured_patches\"].swifter.apply(add_ita_6_category)\n",
    "print(\"rand\")\n",
    "df[f\"ITA_random_patches_{PERCENTAGE_OF_RANDOM_PATCHES_NAME}_category\"] = df[f\"ITA_random_patches_{PERCENTAGE_OF_RANDOM_PATCHES_NAME}\"].swifter.apply(add_ita_6_category)"
   ],
   "metadata": {
    "collapsed": false,
    "pycharm": {
     "name": "#%%\n"
    }
   }
  },
  {
   "cell_type": "code",
   "execution_count": 29,
   "outputs": [],
   "source": [
    "catagories_to_test = [\"ITA_orig\", \"ITA_center_cropped\", \"ITA_structured_patches\", \"ITA_random_patches_20\"]\n",
    "# convert to string type\n",
    "for index, cat in enumerate(catagories_to_test):\n",
    "    category = f\"{cat}_category\"\n",
    "    df[category] = df[category].astype(str)"
   ],
   "metadata": {
    "collapsed": false,
    "pycharm": {
     "name": "#%%\n"
    }
   }
  },
  {
   "cell_type": "markdown",
   "source": [
    "# Evaluate ITA"
   ],
   "metadata": {
    "collapsed": false,
    "pycharm": {
     "name": "#%% md\n"
    }
   }
  },
  {
   "cell_type": "code",
   "execution_count": 30,
   "outputs": [],
   "source": [
    "# df_mis_match = df[df.hash != Path(df.file_path).name.strip(\".jpg\")]\n",
    "# df_mis_match"
   ],
   "metadata": {
    "collapsed": false,
    "pycharm": {
     "name": "#%%\n"
    }
   }
  },
  {
   "cell_type": "code",
   "execution_count": 65,
   "outputs": [
    {
     "data": {
      "text/plain": "'000b6317b3be6d504e212a50e4d5667f'"
     },
     "execution_count": 65,
     "metadata": {},
     "output_type": "execute_result"
    }
   ],
   "source": [
    "df.iloc[0].file_path.split(\"\\\\\")[-1].strip(\".jpg\")"
   ],
   "metadata": {
    "collapsed": false,
    "pycharm": {
     "name": "#%%\n"
    }
   }
  },
  {
   "cell_type": "code",
   "execution_count": 66,
   "outputs": [],
   "source": [
    "def add_label(row):\n",
    "    \"\"\"\n",
    "    This function will look at the csv info and find the fitzpatrick label and apply it to the given row\n",
    "    \"\"\"\n",
    "    hash = row.file_path.split(\"\\\\\")[-1].strip(\".jpg\")\n",
    "    row[\"label\"] = str(df_csv_info[df_csv_info[\"md5hash\"] == hash][\"fitzpatrick\"].iloc[0])\n",
    "    if row[\"label\"] == \"-1\":\n",
    "        print(hash)\n",
    "    return row"
   ],
   "metadata": {
    "collapsed": false,
    "pycharm": {
     "name": "#%%\n"
    }
   }
  },
  {
   "cell_type": "code",
   "execution_count": 67,
   "outputs": [
    {
     "name": "stdout",
     "output_type": "stream",
     "text": [
      "06cc4fb3cdb76cdfe4ef9a0ae2137108\n",
      "0f3b475314c6783a17c9011a9daf3559\n",
      "1d1e43151f411b24f1d5886ffbb153ff\n",
      "1dc929c4a7deabf67edbce72e5750311\n",
      "2df39821d2328b6adee3dcacc2eb83f5\n",
      "3a2bf308b3b23c153a64d1cfb46696a8\n",
      "4d8c899b03bde19011e269784b4e2838\n",
      "4ee002eb32ce76c88d2c2a0b825ff745\n",
      "Wall time: 2.48 s\n"
     ]
    }
   ],
   "source": [
    "%%time\n",
    "# add the labels to the DF\n",
    "df = df.apply(add_label, axis=1)"
   ],
   "metadata": {
    "collapsed": false,
    "pycharm": {
     "name": "#%%\n"
    }
   }
  },
  {
   "cell_type": "code",
   "execution_count": 68,
   "outputs": [],
   "source": [
    "# Drop any row where the label was -1.\n",
    "# There were some images that didnt have a classification in the csv such as 1d1e43151f411b24f1d5886ffbb153ff\n",
    "df = df[df[\"label\"] != '-1']"
   ],
   "metadata": {
    "collapsed": false,
    "pycharm": {
     "name": "#%%\n"
    }
   }
  },
  {
   "cell_type": "code",
   "execution_count": 69,
   "outputs": [],
   "source": [
    "ITA_Categories_list = [\"6\", \"5\", \"4\", \"3\", \"2\", \"1\"]\n",
    "ITA_Categories_list.reverse()"
   ],
   "metadata": {
    "collapsed": false,
    "pycharm": {
     "name": "#%%\n"
    }
   }
  },
  {
   "cell_type": "markdown",
   "source": [
    "## View Distribution"
   ],
   "metadata": {
    "collapsed": false
   }
  },
  {
   "cell_type": "code",
   "execution_count": 70,
   "outputs": [
    {
     "data": {
      "text/plain": "<Figure size 2016x504 with 5 Axes>",
      "image/png": "[encoded data removed]"
     },
     "metadata": {
      "needs_background": "light"
     },
     "output_type": "display_data"
    }
   ],
   "source": [
    "f, axes = plt.subplots(1, 5)\n",
    "f.set_size_inches(28,7)\n",
    "\n",
    "ax = sns.countplot(df.label,ax=axes[0],order=ITA_Categories_list).set_title(\"Categories GT\")\n",
    "ax = sns.countplot(df.ITA_orig_category,ax=axes[1],order=ITA_Categories_list).set_title(\"Categories Original\")\n",
    "ax = sns.countplot(df.ITA_center_cropped_category,ax=axes[2],order=ITA_Categories_list).set_title(\"Categories with centered cropped\")\n",
    "ax = sns.countplot(df.ITA_structured_patches_category,ax=axes[3],order=ITA_Categories_list).set_title(\"Categories Structured\")\n",
    "ax = sns.countplot(df.ITA_random_patches_20_category,ax=axes[4],order=ITA_Categories_list).set_title(\"Categories random\")\n",
    "# for i in range(0,5):\n",
    "#     axes[i].set_yscale('log')"
   ],
   "metadata": {
    "collapsed": false,
    "pycharm": {
     "name": "#%%\n"
    }
   }
  },
  {
   "cell_type": "markdown",
   "source": [
    "# Classification Performance"
   ],
   "metadata": {
    "collapsed": false
   }
  },
  {
   "cell_type": "code",
   "execution_count": 71,
   "outputs": [
    {
     "name": "stdout",
     "output_type": "stream",
     "text": [
      "ITA_orig_category\n",
      "              precision    recall  f1-score   support\n",
      "\n",
      "           1       0.44      0.64      0.52        74\n",
      "           2       0.46      0.16      0.24       162\n",
      "           3       0.44      0.30      0.36       143\n",
      "           4       0.21      0.16      0.18        96\n",
      "           5       0.09      0.15      0.11        48\n",
      "           6       0.03      0.43      0.05         7\n",
      "\n",
      "    accuracy                           0.27       530\n",
      "   macro avg       0.28      0.30      0.24       530\n",
      "weighted avg       0.36      0.27      0.28       530\n",
      "\n",
      "hamming_loss 0.7339622641509433\n",
      "---------------\n",
      "ITA_center_cropped_category\n",
      "              precision    recall  f1-score   support\n",
      "\n",
      "           1       0.51      0.62      0.56        74\n",
      "           2       0.53      0.23      0.32       162\n",
      "           3       0.42      0.24      0.31       143\n",
      "           4       0.16      0.12      0.14        96\n",
      "           5       0.10      0.15      0.12        48\n",
      "           6       0.03      0.57      0.05         7\n",
      "\n",
      "    accuracy                           0.27       530\n",
      "   macro avg       0.29      0.32      0.25       530\n",
      "weighted avg       0.39      0.27      0.30       530\n",
      "\n",
      "hamming_loss 0.7339622641509433\n",
      "---------------\n",
      "ITA_structured_patches_category\n",
      "              precision    recall  f1-score   support\n",
      "\n",
      "           1       0.51      0.57      0.54        74\n",
      "           2       0.54      0.21      0.30       162\n",
      "           3       0.40      0.22      0.29       143\n",
      "           4       0.19      0.15      0.17        96\n",
      "           5       0.07      0.10      0.09        48\n",
      "           6       0.02      0.57      0.05         7\n",
      "\n",
      "    accuracy                           0.25       530\n",
      "   macro avg       0.29      0.30      0.24       530\n",
      "weighted avg       0.39      0.25      0.28       530\n",
      "\n",
      "hamming_loss 0.7528301886792453\n",
      "---------------\n",
      "ITA_random_patches_20_category\n",
      "              precision    recall  f1-score   support\n",
      "\n",
      "           1       0.44      0.62      0.52        74\n",
      "           2       0.41      0.16      0.23       162\n",
      "           3       0.42      0.29      0.34       143\n",
      "           4       0.22      0.18      0.20        96\n",
      "           5       0.15      0.21      0.18        48\n",
      "           6       0.02      0.43      0.05         7\n",
      "\n",
      "    accuracy                           0.27       530\n",
      "   macro avg       0.28      0.31      0.25       530\n",
      "weighted avg       0.35      0.27      0.29       530\n",
      "\n",
      "hamming_loss 0.730188679245283\n",
      "---------------\n"
     ]
    }
   ],
   "source": [
    "from sklearn import metrics\n",
    "for index, cat in enumerate(catagories_to_test):\n",
    "\n",
    "    category = f\"{cat}_category\"\n",
    "    ground_truth = \"label\"\n",
    "\n",
    "    #print(category, masked_cat)\n",
    "    df_temp = df[df[category].notna()]\n",
    "    df_temp = df_temp[df_temp[ground_truth].notna()]\n",
    "    print(category)\n",
    "    print(classification_report(df_temp[ground_truth],df_temp[category]))\n",
    "    print(\"hamming_loss\", hamming_loss(df_temp[ground_truth],df_temp[category]))\n",
    "    print(\"---------------\")"
   ],
   "metadata": {
    "collapsed": false,
    "pycharm": {
     "name": "#%%\n"
    }
   }
  },
  {
   "cell_type": "markdown",
   "source": [
    "## View Confusion matrix"
   ],
   "metadata": {
    "collapsed": false
   }
  },
  {
   "cell_type": "code",
   "execution_count": 72,
   "outputs": [
    {
     "data": {
      "text/plain": "<Figure size 504x504 with 0 Axes>"
     },
     "metadata": {},
     "output_type": "display_data"
    },
    {
     "data": {
      "text/plain": "<Figure size 1080x720 with 8 Axes>",
      "image/png": "[encoded data removed]"
     },
     "metadata": {
      "needs_background": "light"
     },
     "output_type": "display_data"
    }
   ],
   "source": [
    "plt.figure(figsize=(7, 7))\n",
    "cols = 2\n",
    "rows = 2\n",
    "fig, axes = plt.subplots(nrows=rows, ncols=cols, figsize=(15,10))\n",
    "\n",
    "plot_titles = [\"ITA Categories for Original\", \"ITA Categories for Center Cropped\", \"ITA Categories for Structured\", \"ITA Categories for Random Patches\",]\n",
    "\n",
    "for index, cat in enumerate(catagories_to_test):\n",
    "\n",
    "    category = f\"{cat}_category\"\n",
    "    masked_cat = \"label\"\n",
    "\n",
    "    #print(category, masked_cat)\n",
    "    df_temp = df[df[category].notna()]\n",
    "    df_temp = df_temp[df_temp[masked_cat].notna()]\n",
    "\n",
    "\n",
    "    cm = confusion_matrix(df_temp[masked_cat],df_temp[category],normalize=\"true\")\n",
    "    df_cm = pd.DataFrame(cm,columns=np.unique(df_temp[masked_cat].to_numpy()),index=np.unique(df_temp[masked_cat].to_numpy()))\n",
    "    row = index % cols\n",
    "    col = int(index/cols)\n",
    "    ax = sns.heatmap(df_cm, annot=True,cmap=\"Blues\",ax=axes[col,row])\n",
    "    ax.set_title(plot_titles[index])\n",
    "    ax.set_ylabel('True label')\n",
    "    ax.set_xlabel('Predicted label')\n",
    "plt.tight_layout()"
   ],
   "metadata": {
    "collapsed": false,
    "pycharm": {
     "name": "#%%\n"
    }
   }
  },
  {
   "cell_type": "code",
   "execution_count": 73,
   "outputs": [],
   "source": [
    "# print out ones that are not the same\n",
    "# for index, cat in enumerate(catagories_to_test):\n",
    "#     category = f\"{cat}_category\"\n",
    "#     df_rez = df[df[category] != df.label]\n",
    "#     for index, row in df_rez.iterrows():\n",
    "#\n",
    "#         if row[category] == '6' and  row.label == '2':\n",
    "#             #print(row.hash, row[\"file_path\"])\n",
    "#             print(row.hash,row[category], row.label)\n",
    "#     break\n",
    "    #print(df[category].unique())"
   ],
   "metadata": {
    "collapsed": false,
    "pycharm": {
     "name": "#%%\n"
    }
   }
  },
  {
   "cell_type": "code",
   "execution_count": 40,
   "outputs": [],
   "source": [],
   "metadata": {
    "collapsed": false,
    "pycharm": {
     "name": "#%%\n"
    }
   }
  },
  {
   "cell_type": "markdown",
   "source": [
    "# Experiment by creating makes\n",
    "\n",
    "Create skin masks using [SkinDetection.py](https://github.com/CHEREF-Mehdi/SkinDetection/blob/master/SkinDetection.py)\n",
    "where we will then use that to filter out any image that doesnt have a lot of skin showing."
   ],
   "metadata": {
    "collapsed": false
   }
  },
  {
   "cell_type": "code",
   "execution_count": 41,
   "outputs": [
    {
     "data": {
      "text/plain": "                               hash  \\\n0  000b6317b3be6d504e212a50e4d5667f   \n1  001b1edd9c7a02e9381793f6e9081d20   \n2  001c92cc05ea5be4afa0d0e1a0dbc834   \n3  00a45bef0d68c8c8ca54e64e19a055ae   \n4  00a61ae0aa6d43a08152a7c4692ef9e2   \n\n                                           file_path  \\\n0  data\\canidates\\000b6317b3be6d504e212a50e4d5667...   \n1  data\\canidates\\001b1edd9c7a02e9381793f6e9081d2...   \n2  data\\canidates\\001c92cc05ea5be4afa0d0e1a0dbc83...   \n3  data\\canidates\\00a45bef0d68c8c8ca54e64e19a055a...   \n4  data\\canidates\\00a61ae0aa6d43a08152a7c4692ef9e...   \n\n                                               image   ITA_orig  \\\n0  b'\\xff\\xd8\\xff\\xe0\\x00\\x10JFIF\\x00\\x01\\x01\\x01...  63.160622   \n1  b'\\xff\\xd8\\xff\\xe0\\x00\\x10JFIF\\x00\\x01\\x02\\x01...  17.836917   \n2  b'\\xff\\xd8\\xff\\xe1\\x00\\xe4Exif\\x00\\x00II*\\x00\\...  19.656153   \n3  b'\\xff\\xd8\\xff\\xe1\\x18nExif\\x00\\x00II*\\x00\\x08...  -6.305290   \n4  b'\\xff\\xd8\\xff\\xe1\\x00\\xe6Exif\\x00\\x00II*\\x00\\...  57.218695   \n\n                              ITA_center_cropped_all  ITA_center_cropped  \\\n0  [71.3777488793279, 78.36055446746393, 72.34238...           63.902881   \n1  [31.344044633930984, 27.35526223474992, 41.020...           13.918099   \n2  [-9.736215619823762, -4.710450212299931, -3.44...           12.987644   \n3  [-38.95957831973621, -34.05603099911553, -31.4...           -8.752617   \n4  [-90.0, -90.93118205216486, -91.38786469212347...           45.489259   \n\n                          ITA_center_cropped_indices  \\\n0  [[0, 0], [0, 1], [0, 2], [0, 3], [0, 4], [0, 5...   \n1  [[0, 0], [0, 1], [0, 2], [0, 3], [0, 4], [0, 5...   \n2  [[0, 0], [0, 1], [0, 2], [0, 3], [0, 4], [0, 5...   \n3  [[0, 0], [0, 1], [0, 2], [0, 3], [0, 4], [0, 5...   \n4  [[0, 0], [0, 1], [0, 2], [0, 3], [0, 4], [0, 5...   \n\n                          ITA_structured_patches_all  ITA_structured_patches  \\\n0  [71.3777488793279, 78.36055446746393, 72.34238...               64.165841   \n1  [31.344044633930984, 27.35526223474992, 41.020...               13.521901   \n2  [-9.736215619823762, -4.710450212299931, -3.44...                3.931059   \n3  [-38.95957831973621, -34.05603099911553, -31.4...              -13.905133   \n4  [-90.0, -90.93118205216486, -91.38786469212347...               21.325670   \n\n                      ITA_structured_patches_indices  \\\n0  [[0, 0], [0, 1], [0, 2], [0, 3], [0, 4], [0, 5...   \n1  [[0, 0], [0, 1], [0, 2], [0, 3], [0, 4], [0, 5...   \n2  [[0, 0], [0, 1], [0, 2], [0, 3], [0, 4], [0, 5...   \n3  [[0, 0], [0, 1], [0, 2], [0, 3], [0, 4], [0, 5...   \n4  [[0, 0], [0, 1], [0, 2], [0, 3], [0, 4], [0, 5...   \n\n                           ITA_random_patches_20_all  ITA_random_patches_20  \\\n0  [70.74856447644632, 74.77155462123767, 70.0776...              63.621932   \n1  [41.69632607411986, 39.084688843642674, 29.270...              19.593591   \n2  [-4.710450212299931, -1.8890468935756766, -0.2...              20.594624   \n3  [-38.95957831973621, -34.05603099911553, -17.8...              -5.563592   \n4  [-90.32930368968636, -90.07495857079323, -90.0...              57.137592   \n\n                       ITA_random_patches_20_indices ITA_orig_category  \\\n0  [[0, 10], [0, 12], [0, 18], [0, 34], [0, 38], ...                 1   \n1  [[0, 6], [0, 7], [0, 8], [0, 17], [0, 18], [0,...                 5   \n2  [[0, 1], [0, 4], [0, 5], [0, 11], [0, 14], [0,...                 4   \n3  [[0, 0], [0, 1], [0, 9], [0, 23], [0, 26], [0,...                 6   \n4  [[0, 8], [0, 9], [0, 10], [0, 37], [0, 45], [0...                 1   \n\n  ITA_center_cropped_category ITA_structured_patches_category  \\\n0                           1                               1   \n1                           5                               5   \n2                           5                               6   \n3                           6                               6   \n4                           2                               4   \n\n  ITA_random_patches_20_category label  \n0                              1     3  \n1                              4     3  \n2                              4     4  \n3                              6     4  \n4                              1     2  ",
      "text/html": "<div>\n<style scoped>\n    .dataframe tbody tr th:only-of-type {\n        vertical-align: middle;\n    }\n\n    .dataframe tbody tr th {\n        vertical-align: top;\n    }\n\n    .dataframe thead th {\n        text-align: right;\n    }\n</style>\n<table border=\"1\" class=\"dataframe\">\n  <thead>\n    <tr style=\"text-align: right;\">\n      <th></th>\n      <th>hash</th>\n      <th>file_path</th>\n      <th>image</th>\n      <th>ITA_orig</th>\n      <th>ITA_center_cropped_all</th>\n      <th>ITA_center_cropped</th>\n      <th>ITA_center_cropped_indices</th>\n      <th>ITA_structured_patches_all</th>\n      <th>ITA_structured_patches</th>\n      <th>ITA_structured_patches_indices</th>\n      <th>ITA_random_patches_20_all</th>\n      <th>ITA_random_patches_20</th>\n      <th>ITA_random_patches_20_indices</th>\n      <th>ITA_orig_category</th>\n      <th>ITA_center_cropped_category</th>\n      <th>ITA_structured_patches_category</th>\n      <th>ITA_random_patches_20_category</th>\n      <th>label</th>\n    </tr>\n  </thead>\n  <tbody>\n    <tr>\n      <th>0</th>\n      <td>000b6317b3be6d504e212a50e4d5667f</td>\n      <td>data\\canidates\\000b6317b3be6d504e212a50e4d5667...</td>\n      <td>b'\\xff\\xd8\\xff\\xe0\\x00\\x10JFIF\\x00\\x01\\x01\\x01...</td>\n      <td>63.160622</td>\n      <td>[71.3777488793279, 78.36055446746393, 72.34238...</td>\n      <td>63.902881</td>\n      <td>[[0, 0], [0, 1], [0, 2], [0, 3], [0, 4], [0, 5...</td>\n      <td>[71.3777488793279, 78.36055446746393, 72.34238...</td>\n      <td>64.165841</td>\n      <td>[[0, 0], [0, 1], [0, 2], [0, 3], [0, 4], [0, 5...</td>\n      <td>[70.74856447644632, 74.77155462123767, 70.0776...</td>\n      <td>63.621932</td>\n      <td>[[0, 10], [0, 12], [0, 18], [0, 34], [0, 38], ...</td>\n      <td>1</td>\n      <td>1</td>\n      <td>1</td>\n      <td>1</td>\n      <td>3</td>\n    </tr>\n    <tr>\n      <th>1</th>\n      <td>001b1edd9c7a02e9381793f6e9081d20</td>\n      <td>data\\canidates\\001b1edd9c7a02e9381793f6e9081d2...</td>\n      <td>b'\\xff\\xd8\\xff\\xe0\\x00\\x10JFIF\\x00\\x01\\x02\\x01...</td>\n      <td>17.836917</td>\n      <td>[31.344044633930984, 27.35526223474992, 41.020...</td>\n      <td>13.918099</td>\n      <td>[[0, 0], [0, 1], [0, 2], [0, 3], [0, 4], [0, 5...</td>\n      <td>[31.344044633930984, 27.35526223474992, 41.020...</td>\n      <td>13.521901</td>\n      <td>[[0, 0], [0, 1], [0, 2], [0, 3], [0, 4], [0, 5...</td>\n      <td>[41.69632607411986, 39.084688843642674, 29.270...</td>\n      <td>19.593591</td>\n      <td>[[0, 6], [0, 7], [0, 8], [0, 17], [0, 18], [0,...</td>\n      <td>5</td>\n      <td>5</td>\n      <td>5</td>\n      <td>4</td>\n      <td>3</td>\n    </tr>\n    <tr>\n      <th>2</th>\n      <td>001c92cc05ea5be4afa0d0e1a0dbc834</td>\n      <td>data\\canidates\\001c92cc05ea5be4afa0d0e1a0dbc83...</td>\n      <td>b'\\xff\\xd8\\xff\\xe1\\x00\\xe4Exif\\x00\\x00II*\\x00\\...</td>\n      <td>19.656153</td>\n      <td>[-9.736215619823762, -4.710450212299931, -3.44...</td>\n      <td>12.987644</td>\n      <td>[[0, 0], [0, 1], [0, 2], [0, 3], [0, 4], [0, 5...</td>\n      <td>[-9.736215619823762, -4.710450212299931, -3.44...</td>\n      <td>3.931059</td>\n      <td>[[0, 0], [0, 1], [0, 2], [0, 3], [0, 4], [0, 5...</td>\n      <td>[-4.710450212299931, -1.8890468935756766, -0.2...</td>\n      <td>20.594624</td>\n      <td>[[0, 1], [0, 4], [0, 5], [0, 11], [0, 14], [0,...</td>\n      <td>4</td>\n      <td>5</td>\n      <td>6</td>\n      <td>4</td>\n      <td>4</td>\n    </tr>\n    <tr>\n      <th>3</th>\n      <td>00a45bef0d68c8c8ca54e64e19a055ae</td>\n      <td>data\\canidates\\00a45bef0d68c8c8ca54e64e19a055a...</td>\n      <td>b'\\xff\\xd8\\xff\\xe1\\x18nExif\\x00\\x00II*\\x00\\x08...</td>\n      <td>-6.305290</td>\n      <td>[-38.95957831973621, -34.05603099911553, -31.4...</td>\n      <td>-8.752617</td>\n      <td>[[0, 0], [0, 1], [0, 2], [0, 3], [0, 4], [0, 5...</td>\n      <td>[-38.95957831973621, -34.05603099911553, -31.4...</td>\n      <td>-13.905133</td>\n      <td>[[0, 0], [0, 1], [0, 2], [0, 3], [0, 4], [0, 5...</td>\n      <td>[-38.95957831973621, -34.05603099911553, -17.8...</td>\n      <td>-5.563592</td>\n      <td>[[0, 0], [0, 1], [0, 9], [0, 23], [0, 26], [0,...</td>\n      <td>6</td>\n      <td>6</td>\n      <td>6</td>\n      <td>6</td>\n      <td>4</td>\n    </tr>\n    <tr>\n      <th>4</th>\n      <td>00a61ae0aa6d43a08152a7c4692ef9e2</td>\n      <td>data\\canidates\\00a61ae0aa6d43a08152a7c4692ef9e...</td>\n      <td>b'\\xff\\xd8\\xff\\xe1\\x00\\xe6Exif\\x00\\x00II*\\x00\\...</td>\n      <td>57.218695</td>\n      <td>[-90.0, -90.93118205216486, -91.38786469212347...</td>\n      <td>45.489259</td>\n      <td>[[0, 0], [0, 1], [0, 2], [0, 3], [0, 4], [0, 5...</td>\n      <td>[-90.0, -90.93118205216486, -91.38786469212347...</td>\n      <td>21.325670</td>\n      <td>[[0, 0], [0, 1], [0, 2], [0, 3], [0, 4], [0, 5...</td>\n      <td>[-90.32930368968636, -90.07495857079323, -90.0...</td>\n      <td>57.137592</td>\n      <td>[[0, 8], [0, 9], [0, 10], [0, 37], [0, 45], [0...</td>\n      <td>1</td>\n      <td>2</td>\n      <td>4</td>\n      <td>1</td>\n      <td>2</td>\n    </tr>\n  </tbody>\n</table>\n</div>"
     },
     "execution_count": 41,
     "metadata": {},
     "output_type": "execute_result"
    }
   ],
   "source": [
    "df.head()"
   ],
   "metadata": {
    "collapsed": false,
    "pycharm": {
     "name": "#%%\n"
    }
   }
  },
  {
   "cell_type": "code",
   "execution_count": 42,
   "outputs": [],
   "source": [
    "\"\"\"\n",
    "Steps\n",
    "1. Read image\n",
    "2. Create HSV mask\n",
    "3. Create YCrCb mask\n",
    "4. Merge masks\n",
    "5. Store global mask\n",
    "6. Compute % skin of image\n",
    "\"\"\"\n",
    "\n",
    "def compute_skin_masks(row):\n",
    "    img = cv2.imread(row.file_path)\n",
    "\n",
    "    #converting from gbr to hsv color space\n",
    "    img_HSV = cv2.cvtColor(img, cv2.COLOR_BGR2HSV)\n",
    "    #skin color range for hsv color space\n",
    "    HSV_mask = cv2.inRange(img_HSV, (0, 15, 0), (17, 170, 255))\n",
    "    HSV_mask = cv2.morphologyEx(HSV_mask, cv2.MORPH_OPEN, np.ones((3, 3), np.uint8))\n",
    "\n",
    "    #converting from gbr to YCbCr color space\n",
    "    img_YCrCb = cv2.cvtColor(img, cv2.COLOR_BGR2YCrCb)\n",
    "    #skin color range for hsv color space\n",
    "    YCrCb_mask = cv2.inRange(img_YCrCb, (0, 135, 85), (255, 180, 135))\n",
    "    YCrCb_mask = cv2.morphologyEx(YCrCb_mask, cv2.MORPH_OPEN, np.ones((3, 3), np.uint8))\n",
    "\n",
    "    #merge skin detection (YCbCr and hsv)\n",
    "    global_mask = cv2.bitwise_and(YCrCb_mask, HSV_mask)\n",
    "    global_mask = cv2.medianBlur(global_mask, 3)\n",
    "    global_mask = cv2.morphologyEx(global_mask, cv2.MORPH_OPEN, np.ones((4, 4), np.uint8))\n",
    "\n",
    "    global_result = cv2.bitwise_not(global_mask)\n",
    "\n",
    "    mask_array = np.array(global_result)\n",
    "    total = mask_array.size\n",
    "    mask_count = np.count_nonzero(mask_array)\n",
    "    percentage = mask_count / total\n",
    "    row[\"skin_detection_percentage\"] = math.ceil(percentage * 100)\n",
    "    return row\n"
   ],
   "metadata": {
    "collapsed": false,
    "pycharm": {
     "name": "#%%\n"
    }
   }
  },
  {
   "cell_type": "code",
   "execution_count": 43,
   "outputs": [],
   "source": [
    "df = df.apply(compute_skin_masks, axis=1)"
   ],
   "metadata": {
    "collapsed": false,
    "pycharm": {
     "name": "#%%\n"
    }
   }
  },
  {
   "cell_type": "code",
   "execution_count": 44,
   "outputs": [
    {
     "data": {
      "text/plain": "                               hash  \\\n0  000b6317b3be6d504e212a50e4d5667f   \n1  001b1edd9c7a02e9381793f6e9081d20   \n2  001c92cc05ea5be4afa0d0e1a0dbc834   \n3  00a45bef0d68c8c8ca54e64e19a055ae   \n4  00a61ae0aa6d43a08152a7c4692ef9e2   \n\n                                           file_path  \\\n0  data\\canidates\\000b6317b3be6d504e212a50e4d5667...   \n1  data\\canidates\\001b1edd9c7a02e9381793f6e9081d2...   \n2  data\\canidates\\001c92cc05ea5be4afa0d0e1a0dbc83...   \n3  data\\canidates\\00a45bef0d68c8c8ca54e64e19a055a...   \n4  data\\canidates\\00a61ae0aa6d43a08152a7c4692ef9e...   \n\n                                               image   ITA_orig  \\\n0  b'\\xff\\xd8\\xff\\xe0\\x00\\x10JFIF\\x00\\x01\\x01\\x01...  63.160622   \n1  b'\\xff\\xd8\\xff\\xe0\\x00\\x10JFIF\\x00\\x01\\x02\\x01...  17.836917   \n2  b'\\xff\\xd8\\xff\\xe1\\x00\\xe4Exif\\x00\\x00II*\\x00\\...  19.656153   \n3  b'\\xff\\xd8\\xff\\xe1\\x18nExif\\x00\\x00II*\\x00\\x08...  -6.305290   \n4  b'\\xff\\xd8\\xff\\xe1\\x00\\xe6Exif\\x00\\x00II*\\x00\\...  57.218695   \n\n                              ITA_center_cropped_all  ITA_center_cropped  \\\n0  [71.3777488793279, 78.36055446746393, 72.34238...           63.902881   \n1  [31.344044633930984, 27.35526223474992, 41.020...           13.918099   \n2  [-9.736215619823762, -4.710450212299931, -3.44...           12.987644   \n3  [-38.95957831973621, -34.05603099911553, -31.4...           -8.752617   \n4  [-90.0, -90.93118205216486, -91.38786469212347...           45.489259   \n\n                          ITA_center_cropped_indices  \\\n0  [[0, 0], [0, 1], [0, 2], [0, 3], [0, 4], [0, 5...   \n1  [[0, 0], [0, 1], [0, 2], [0, 3], [0, 4], [0, 5...   \n2  [[0, 0], [0, 1], [0, 2], [0, 3], [0, 4], [0, 5...   \n3  [[0, 0], [0, 1], [0, 2], [0, 3], [0, 4], [0, 5...   \n4  [[0, 0], [0, 1], [0, 2], [0, 3], [0, 4], [0, 5...   \n\n                          ITA_structured_patches_all  ITA_structured_patches  \\\n0  [71.3777488793279, 78.36055446746393, 72.34238...               64.165841   \n1  [31.344044633930984, 27.35526223474992, 41.020...               13.521901   \n2  [-9.736215619823762, -4.710450212299931, -3.44...                3.931059   \n3  [-38.95957831973621, -34.05603099911553, -31.4...              -13.905133   \n4  [-90.0, -90.93118205216486, -91.38786469212347...               21.325670   \n\n                      ITA_structured_patches_indices  \\\n0  [[0, 0], [0, 1], [0, 2], [0, 3], [0, 4], [0, 5...   \n1  [[0, 0], [0, 1], [0, 2], [0, 3], [0, 4], [0, 5...   \n2  [[0, 0], [0, 1], [0, 2], [0, 3], [0, 4], [0, 5...   \n3  [[0, 0], [0, 1], [0, 2], [0, 3], [0, 4], [0, 5...   \n4  [[0, 0], [0, 1], [0, 2], [0, 3], [0, 4], [0, 5...   \n\n                           ITA_random_patches_20_all  ITA_random_patches_20  \\\n0  [70.74856447644632, 74.77155462123767, 70.0776...              63.621932   \n1  [41.69632607411986, 39.084688843642674, 29.270...              19.593591   \n2  [-4.710450212299931, -1.8890468935756766, -0.2...              20.594624   \n3  [-38.95957831973621, -34.05603099911553, -17.8...              -5.563592   \n4  [-90.32930368968636, -90.07495857079323, -90.0...              57.137592   \n\n                       ITA_random_patches_20_indices ITA_orig_category  \\\n0  [[0, 10], [0, 12], [0, 18], [0, 34], [0, 38], ...                 1   \n1  [[0, 6], [0, 7], [0, 8], [0, 17], [0, 18], [0,...                 5   \n2  [[0, 1], [0, 4], [0, 5], [0, 11], [0, 14], [0,...                 4   \n3  [[0, 0], [0, 1], [0, 9], [0, 23], [0, 26], [0,...                 6   \n4  [[0, 8], [0, 9], [0, 10], [0, 37], [0, 45], [0...                 1   \n\n  ITA_center_cropped_category ITA_structured_patches_category  \\\n0                           1                               1   \n1                           5                               5   \n2                           5                               6   \n3                           6                               6   \n4                           2                               4   \n\n  ITA_random_patches_20_category label  skin_detection_percentage  \n0                              1     3                          5  \n1                              4     3                         13  \n2                              4     4                         21  \n3                              6     4                          4  \n4                              1     2                         21  ",
      "text/html": "<div>\n<style scoped>\n    .dataframe tbody tr th:only-of-type {\n        vertical-align: middle;\n    }\n\n    .dataframe tbody tr th {\n        vertical-align: top;\n    }\n\n    .dataframe thead th {\n        text-align: right;\n    }\n</style>\n<table border=\"1\" class=\"dataframe\">\n  <thead>\n    <tr style=\"text-align: right;\">\n      <th></th>\n      <th>hash</th>\n      <th>file_path</th>\n      <th>image</th>\n      <th>ITA_orig</th>\n      <th>ITA_center_cropped_all</th>\n      <th>ITA_center_cropped</th>\n      <th>ITA_center_cropped_indices</th>\n      <th>ITA_structured_patches_all</th>\n      <th>ITA_structured_patches</th>\n      <th>ITA_structured_patches_indices</th>\n      <th>ITA_random_patches_20_all</th>\n      <th>ITA_random_patches_20</th>\n      <th>ITA_random_patches_20_indices</th>\n      <th>ITA_orig_category</th>\n      <th>ITA_center_cropped_category</th>\n      <th>ITA_structured_patches_category</th>\n      <th>ITA_random_patches_20_category</th>\n      <th>label</th>\n      <th>skin_detection_percentage</th>\n    </tr>\n  </thead>\n  <tbody>\n    <tr>\n      <th>0</th>\n      <td>000b6317b3be6d504e212a50e4d5667f</td>\n      <td>data\\canidates\\000b6317b3be6d504e212a50e4d5667...</td>\n      <td>b'\\xff\\xd8\\xff\\xe0\\x00\\x10JFIF\\x00\\x01\\x01\\x01...</td>\n      <td>63.160622</td>\n      <td>[71.3777488793279, 78.36055446746393, 72.34238...</td>\n      <td>63.902881</td>\n      <td>[[0, 0], [0, 1], [0, 2], [0, 3], [0, 4], [0, 5...</td>\n      <td>[71.3777488793279, 78.36055446746393, 72.34238...</td>\n      <td>64.165841</td>\n      <td>[[0, 0], [0, 1], [0, 2], [0, 3], [0, 4], [0, 5...</td>\n      <td>[70.74856447644632, 74.77155462123767, 70.0776...</td>\n      <td>63.621932</td>\n      <td>[[0, 10], [0, 12], [0, 18], [0, 34], [0, 38], ...</td>\n      <td>1</td>\n      <td>1</td>\n      <td>1</td>\n      <td>1</td>\n      <td>3</td>\n      <td>5</td>\n    </tr>\n    <tr>\n      <th>1</th>\n      <td>001b1edd9c7a02e9381793f6e9081d20</td>\n      <td>data\\canidates\\001b1edd9c7a02e9381793f6e9081d2...</td>\n      <td>b'\\xff\\xd8\\xff\\xe0\\x00\\x10JFIF\\x00\\x01\\x02\\x01...</td>\n      <td>17.836917</td>\n      <td>[31.344044633930984, 27.35526223474992, 41.020...</td>\n      <td>13.918099</td>\n      <td>[[0, 0], [0, 1], [0, 2], [0, 3], [0, 4], [0, 5...</td>\n      <td>[31.344044633930984, 27.35526223474992, 41.020...</td>\n      <td>13.521901</td>\n      <td>[[0, 0], [0, 1], [0, 2], [0, 3], [0, 4], [0, 5...</td>\n      <td>[41.69632607411986, 39.084688843642674, 29.270...</td>\n      <td>19.593591</td>\n      <td>[[0, 6], [0, 7], [0, 8], [0, 17], [0, 18], [0,...</td>\n      <td>5</td>\n      <td>5</td>\n      <td>5</td>\n      <td>4</td>\n      <td>3</td>\n      <td>13</td>\n    </tr>\n    <tr>\n      <th>2</th>\n      <td>001c92cc05ea5be4afa0d0e1a0dbc834</td>\n      <td>data\\canidates\\001c92cc05ea5be4afa0d0e1a0dbc83...</td>\n      <td>b'\\xff\\xd8\\xff\\xe1\\x00\\xe4Exif\\x00\\x00II*\\x00\\...</td>\n      <td>19.656153</td>\n      <td>[-9.736215619823762, -4.710450212299931, -3.44...</td>\n      <td>12.987644</td>\n      <td>[[0, 0], [0, 1], [0, 2], [0, 3], [0, 4], [0, 5...</td>\n      <td>[-9.736215619823762, -4.710450212299931, -3.44...</td>\n      <td>3.931059</td>\n      <td>[[0, 0], [0, 1], [0, 2], [0, 3], [0, 4], [0, 5...</td>\n      <td>[-4.710450212299931, -1.8890468935756766, -0.2...</td>\n      <td>20.594624</td>\n      <td>[[0, 1], [0, 4], [0, 5], [0, 11], [0, 14], [0,...</td>\n      <td>4</td>\n      <td>5</td>\n      <td>6</td>\n      <td>4</td>\n      <td>4</td>\n      <td>21</td>\n    </tr>\n    <tr>\n      <th>3</th>\n      <td>00a45bef0d68c8c8ca54e64e19a055ae</td>\n      <td>data\\canidates\\00a45bef0d68c8c8ca54e64e19a055a...</td>\n      <td>b'\\xff\\xd8\\xff\\xe1\\x18nExif\\x00\\x00II*\\x00\\x08...</td>\n      <td>-6.305290</td>\n      <td>[-38.95957831973621, -34.05603099911553, -31.4...</td>\n      <td>-8.752617</td>\n      <td>[[0, 0], [0, 1], [0, 2], [0, 3], [0, 4], [0, 5...</td>\n      <td>[-38.95957831973621, -34.05603099911553, -31.4...</td>\n      <td>-13.905133</td>\n      <td>[[0, 0], [0, 1], [0, 2], [0, 3], [0, 4], [0, 5...</td>\n      <td>[-38.95957831973621, -34.05603099911553, -17.8...</td>\n      <td>-5.563592</td>\n      <td>[[0, 0], [0, 1], [0, 9], [0, 23], [0, 26], [0,...</td>\n      <td>6</td>\n      <td>6</td>\n      <td>6</td>\n      <td>6</td>\n      <td>4</td>\n      <td>4</td>\n    </tr>\n    <tr>\n      <th>4</th>\n      <td>00a61ae0aa6d43a08152a7c4692ef9e2</td>\n      <td>data\\canidates\\00a61ae0aa6d43a08152a7c4692ef9e...</td>\n      <td>b'\\xff\\xd8\\xff\\xe1\\x00\\xe6Exif\\x00\\x00II*\\x00\\...</td>\n      <td>57.218695</td>\n      <td>[-90.0, -90.93118205216486, -91.38786469212347...</td>\n      <td>45.489259</td>\n      <td>[[0, 0], [0, 1], [0, 2], [0, 3], [0, 4], [0, 5...</td>\n      <td>[-90.0, -90.93118205216486, -91.38786469212347...</td>\n      <td>21.325670</td>\n      <td>[[0, 0], [0, 1], [0, 2], [0, 3], [0, 4], [0, 5...</td>\n      <td>[-90.32930368968636, -90.07495857079323, -90.0...</td>\n      <td>57.137592</td>\n      <td>[[0, 8], [0, 9], [0, 10], [0, 37], [0, 45], [0...</td>\n      <td>1</td>\n      <td>2</td>\n      <td>4</td>\n      <td>1</td>\n      <td>2</td>\n      <td>21</td>\n    </tr>\n  </tbody>\n</table>\n</div>"
     },
     "execution_count": 44,
     "metadata": {},
     "output_type": "execute_result"
    }
   ],
   "source": [
    "df.head()"
   ],
   "metadata": {
    "collapsed": false,
    "pycharm": {
     "name": "#%%\n"
    }
   }
  },
  {
   "cell_type": "code",
   "execution_count": 45,
   "outputs": [
    {
     "data": {
      "text/plain": "Text(0.5, 0, 'Skin percentage')"
     },
     "execution_count": 45,
     "metadata": {},
     "output_type": "execute_result"
    },
    {
     "data": {
      "text/plain": "<Figure size 432x288 with 1 Axes>",
      "image/png": "[encoded data removed]"
     },
     "metadata": {
      "needs_background": "light"
     },
     "output_type": "display_data"
    }
   ],
   "source": [
    "ax = sns.histplot(data=df.skin_detection_percentage, bins=10)\n",
    "ax.set_title(\"Distribution of skin masks sizes\")\n",
    "ax.set_xlabel(\"Skin percentage\")"
   ],
   "metadata": {
    "collapsed": false,
    "pycharm": {
     "name": "#%%\n"
    }
   }
  },
  {
   "cell_type": "markdown",
   "source": [
    "## Filtered images\n",
    "We will only look at images where the skin was detected 65%> and see how well the appraches worked for these images"
   ],
   "metadata": {
    "collapsed": false
   }
  },
  {
   "cell_type": "code",
   "execution_count": 79,
   "outputs": [],
   "source": [
    "df_filtered = df[df.skin_detection_percentage >= 65]"
   ],
   "metadata": {
    "collapsed": false,
    "pycharm": {
     "name": "#%%\n"
    }
   }
  },
  {
   "cell_type": "code",
   "execution_count": 80,
   "outputs": [
    {
     "name": "stdout",
     "output_type": "stream",
     "text": [
      "<class 'pandas.core.frame.DataFrame'>\n",
      "Int64Index: 59 entries, 19 to 516\n",
      "Data columns (total 19 columns):\n",
      " #   Column                           Non-Null Count  Dtype  \n",
      "---  ------                           --------------  -----  \n",
      " 0   hash                             59 non-null     object \n",
      " 1   file_path                        59 non-null     object \n",
      " 2   image                            59 non-null     object \n",
      " 3   ITA_orig                         59 non-null     float64\n",
      " 4   ITA_center_cropped_all           59 non-null     object \n",
      " 5   ITA_center_cropped               59 non-null     float64\n",
      " 6   ITA_center_cropped_indices       59 non-null     object \n",
      " 7   ITA_structured_patches_all       59 non-null     object \n",
      " 8   ITA_structured_patches           59 non-null     float64\n",
      " 9   ITA_structured_patches_indices   59 non-null     object \n",
      " 10  ITA_random_patches_20_all        59 non-null     object \n",
      " 11  ITA_random_patches_20            59 non-null     float64\n",
      " 12  ITA_random_patches_20_indices    59 non-null     object \n",
      " 13  ITA_orig_category                59 non-null     object \n",
      " 14  ITA_center_cropped_category      59 non-null     object \n",
      " 15  ITA_structured_patches_category  59 non-null     object \n",
      " 16  ITA_random_patches_20_category   59 non-null     object \n",
      " 17  label                            59 non-null     object \n",
      " 18  skin_detection_percentage        59 non-null     int64  \n",
      "dtypes: float64(4), int64(1), object(14)\n",
      "memory usage: 9.2+ KB\n"
     ]
    }
   ],
   "source": [
    "df_filtered.info()"
   ],
   "metadata": {
    "collapsed": false,
    "pycharm": {
     "name": "#%%\n"
    }
   }
  },
  {
   "cell_type": "markdown",
   "source": [
    "## New Distribution"
   ],
   "metadata": {
    "collapsed": false
   }
  },
  {
   "cell_type": "code",
   "execution_count": 81,
   "outputs": [
    {
     "data": {
      "text/plain": "<Figure size 2016x504 with 5 Axes>",
      "image/png": "[encoded data removed]"
     },
     "metadata": {
      "needs_background": "light"
     },
     "output_type": "display_data"
    }
   ],
   "source": [
    "f, axes = plt.subplots(1, 5)\n",
    "f.set_size_inches(28,7)\n",
    "\n",
    "ax = sns.countplot(df_filtered.label,ax=axes[0],order=ITA_Categories_list).set_title(\"Categories GT\")\n",
    "ax = sns.countplot(df_filtered.ITA_orig_category,ax=axes[1],order=ITA_Categories_list).set_title(\"Categories Original\")\n",
    "ax = sns.countplot(df_filtered.ITA_center_cropped_category,ax=axes[2],order=ITA_Categories_list).set_title(\"Categories with centered cropped\")\n",
    "ax = sns.countplot(df_filtered.ITA_structured_patches_category,ax=axes[3],order=ITA_Categories_list).set_title(\"Categories Structured\")\n",
    "ax = sns.countplot(df_filtered.ITA_random_patches_20_category,ax=axes[4],order=ITA_Categories_list).set_title(\"Categories random\")"
   ],
   "metadata": {
    "collapsed": false,
    "pycharm": {
     "name": "#%%\n"
    }
   }
  },
  {
   "cell_type": "code",
   "execution_count": 82,
   "outputs": [
    {
     "name": "stdout",
     "output_type": "stream",
     "text": [
      "ITA_orig_category\n",
      "              precision    recall  f1-score   support\n",
      "\n",
      "           1       0.42      0.85      0.57        20\n",
      "           2       0.25      0.04      0.07        25\n",
      "           3       0.00      0.00      0.00         7\n",
      "           4       0.00      0.00      0.00         3\n",
      "           5       0.00      0.00      0.00         2\n",
      "           6       0.00      0.00      0.00         2\n",
      "\n",
      "    accuracy                           0.31        59\n",
      "   macro avg       0.11      0.15      0.11        59\n",
      "weighted avg       0.25      0.31      0.22        59\n",
      "\n",
      "hamming_loss 0.6949152542372882\n",
      "---------------\n",
      "ITA_center_cropped_category\n",
      "              precision    recall  f1-score   support\n",
      "\n",
      "           1       0.47      0.85      0.61        20\n",
      "           2       0.62      0.20      0.30        25\n",
      "           3       0.00      0.00      0.00         7\n",
      "           4       0.00      0.00      0.00         3\n",
      "           5       0.00      0.00      0.00         2\n",
      "           6       0.00      0.00      0.00         2\n",
      "\n",
      "    accuracy                           0.37        59\n",
      "   macro avg       0.18      0.18      0.15        59\n",
      "weighted avg       0.42      0.37      0.33        59\n",
      "\n",
      "hamming_loss 0.6271186440677966\n",
      "---------------\n",
      "ITA_structured_patches_category\n",
      "              precision    recall  f1-score   support\n",
      "\n",
      "           1       0.48      0.75      0.59        20\n",
      "           2       0.33      0.08      0.13        25\n",
      "           3       0.00      0.00      0.00         7\n",
      "           4       0.00      0.00      0.00         3\n",
      "           5       0.00      0.00      0.00         2\n",
      "           6       0.00      0.00      0.00         2\n",
      "\n",
      "    accuracy                           0.29        59\n",
      "   macro avg       0.14      0.14      0.12        59\n",
      "weighted avg       0.31      0.29      0.25        59\n",
      "\n",
      "hamming_loss 0.711864406779661\n",
      "---------------\n",
      "ITA_random_patches_20_category\n",
      "              precision    recall  f1-score   support\n",
      "\n",
      "           1       0.45      0.85      0.59        20\n",
      "           2       0.40      0.08      0.13        25\n",
      "           3       0.00      0.00      0.00         7\n",
      "           4       0.00      0.00      0.00         3\n",
      "           5       0.00      0.00      0.00         2\n",
      "           6       0.00      0.00      0.00         2\n",
      "\n",
      "    accuracy                           0.32        59\n",
      "   macro avg       0.14      0.15      0.12        59\n",
      "weighted avg       0.32      0.32      0.26        59\n",
      "\n",
      "hamming_loss 0.6779661016949152\n",
      "---------------\n"
     ]
    },
    {
     "name": "stderr",
     "output_type": "stream",
     "text": [
      "c:\\users\\c0rbin\\lib\\site-packages\\sklearn\\metrics\\_classification.py:1308: UndefinedMetricWarning: Precision and F-score are ill-defined and being set to 0.0 in labels with no predicted samples. Use `zero_division` parameter to control this behavior.\n",
      "  _warn_prf(average, modifier, msg_start, len(result))\n",
      "c:\\users\\c0rbin\\lib\\site-packages\\sklearn\\metrics\\_classification.py:1308: UndefinedMetricWarning: Precision and F-score are ill-defined and being set to 0.0 in labels with no predicted samples. Use `zero_division` parameter to control this behavior.\n",
      "  _warn_prf(average, modifier, msg_start, len(result))\n",
      "c:\\users\\c0rbin\\lib\\site-packages\\sklearn\\metrics\\_classification.py:1308: UndefinedMetricWarning: Precision and F-score are ill-defined and being set to 0.0 in labels with no predicted samples. Use `zero_division` parameter to control this behavior.\n",
      "  _warn_prf(average, modifier, msg_start, len(result))\n",
      "c:\\users\\c0rbin\\lib\\site-packages\\sklearn\\metrics\\_classification.py:1308: UndefinedMetricWarning: Precision and F-score are ill-defined and being set to 0.0 in labels with no predicted samples. Use `zero_division` parameter to control this behavior.\n",
      "  _warn_prf(average, modifier, msg_start, len(result))\n",
      "c:\\users\\c0rbin\\lib\\site-packages\\sklearn\\metrics\\_classification.py:1308: UndefinedMetricWarning: Precision and F-score are ill-defined and being set to 0.0 in labels with no predicted samples. Use `zero_division` parameter to control this behavior.\n",
      "  _warn_prf(average, modifier, msg_start, len(result))\n",
      "c:\\users\\c0rbin\\lib\\site-packages\\sklearn\\metrics\\_classification.py:1308: UndefinedMetricWarning: Precision and F-score are ill-defined and being set to 0.0 in labels with no predicted samples. Use `zero_division` parameter to control this behavior.\n",
      "  _warn_prf(average, modifier, msg_start, len(result))\n",
      "c:\\users\\c0rbin\\lib\\site-packages\\sklearn\\metrics\\_classification.py:1308: UndefinedMetricWarning: Precision and F-score are ill-defined and being set to 0.0 in labels with no predicted samples. Use `zero_division` parameter to control this behavior.\n",
      "  _warn_prf(average, modifier, msg_start, len(result))\n",
      "c:\\users\\c0rbin\\lib\\site-packages\\sklearn\\metrics\\_classification.py:1308: UndefinedMetricWarning: Precision and F-score are ill-defined and being set to 0.0 in labels with no predicted samples. Use `zero_division` parameter to control this behavior.\n",
      "  _warn_prf(average, modifier, msg_start, len(result))\n",
      "c:\\users\\c0rbin\\lib\\site-packages\\sklearn\\metrics\\_classification.py:1308: UndefinedMetricWarning: Precision and F-score are ill-defined and being set to 0.0 in labels with no predicted samples. Use `zero_division` parameter to control this behavior.\n",
      "  _warn_prf(average, modifier, msg_start, len(result))\n"
     ]
    }
   ],
   "source": [
    "from sklearn import metrics\n",
    "for index, cat in enumerate(catagories_to_test):\n",
    "\n",
    "    category = f\"{cat}_category\"\n",
    "    ground_truth = \"label\"\n",
    "\n",
    "    #print(category, masked_cat)\n",
    "    df_temp = df_filtered[df_filtered[category].notna()]\n",
    "    df_temp = df_temp[df_temp[ground_truth].notna()]\n",
    "    print(category)\n",
    "    print(classification_report(df_temp[ground_truth],df_temp[category]))\n",
    "    print(\"hamming_loss\", hamming_loss(df_temp[ground_truth],df_temp[category]))\n",
    "    print(\"---------------\")"
   ],
   "metadata": {
    "collapsed": false,
    "pycharm": {
     "name": "#%%\n"
    }
   }
  },
  {
   "cell_type": "code",
   "execution_count": 83,
   "outputs": [
    {
     "data": {
      "text/plain": "<Figure size 504x504 with 0 Axes>"
     },
     "metadata": {},
     "output_type": "display_data"
    },
    {
     "data": {
      "text/plain": "<Figure size 1080x720 with 8 Axes>",
      "image/png": "[encoded data removed]"
     },
     "metadata": {
      "needs_background": "light"
     },
     "output_type": "display_data"
    }
   ],
   "source": [
    "plt.figure(figsize=(7, 7))\n",
    "cols = 2\n",
    "rows = 2\n",
    "fig, axes = plt.subplots(nrows=rows, ncols=cols, figsize=(15,10))\n",
    "\n",
    "plot_titles = [\"ITA Categories for Original\", \"ITA Categories for Center Cropped\", \"ITA Categories for Structured\", \"ITA Categories for Random Patches\",]\n",
    "\n",
    "for index, cat in enumerate(catagories_to_test):\n",
    "\n",
    "    category = f\"{cat}_category\"\n",
    "    masked_cat = \"label\"\n",
    "\n",
    "    #print(category, masked_cat)\n",
    "    df_temp = df_filtered[df_filtered[category].notna()]\n",
    "    df_temp = df_temp[df_temp[masked_cat].notna()]\n",
    "    df_temp = df_temp[df_temp[masked_cat] != \"-1\"]\n",
    "    df_temp = df_temp[df_temp[category] != \"-1\"]\n",
    "\n",
    "\n",
    "    cm = confusion_matrix(df_temp[masked_cat],df_temp[category],normalize=\"true\")\n",
    "    df_cm = pd.DataFrame(cm,columns=np.unique(df_temp[masked_cat].to_numpy()),index=np.unique(df_temp[masked_cat].to_numpy()))\n",
    "    row = index % cols\n",
    "    col = int(index/cols)\n",
    "    ax = sns.heatmap(df_cm, annot=True,cmap=\"Blues\",ax=axes[col,row])\n",
    "    ax.set_title(plot_titles[index])\n",
    "    ax.set_ylabel('True label')\n",
    "    ax.set_xlabel('Predicted label')\n",
    "plt.tight_layout()"
   ],
   "metadata": {
    "collapsed": false,
    "pycharm": {
     "name": "#%%\n"
    }
   }
  },
  {
   "cell_type": "code",
   "execution_count": null,
   "outputs": [],
   "source": [],
   "metadata": {
    "collapsed": false,
    "pycharm": {
     "name": "#%%\n"
    }
   }
  }
 ],
 "metadata": {
  "kernelspec": {
   "display_name": "Python 3",
   "language": "python",
   "name": "python3"
  },
  "language_info": {
   "codemirror_mode": {
    "name": "ipython",
    "version": 2
   },
   "file_extension": ".py",
   "mimetype": "text/x-python",
   "name": "python",
   "nbconvert_exporter": "python",
   "pygments_lexer": "ipython2",
   "version": "2.7.6"
  }
 },
 "nbformat": 4,
 "nbformat_minor": 0
}